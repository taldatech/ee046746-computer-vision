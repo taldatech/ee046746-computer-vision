{
 "cells": [
  {
   "cell_type": "markdown",
   "metadata": {
    "slideshow": {
     "slide_type": "slide"
    }
   },
   "source": [
    "# <img src=\"https://img.icons8.com/bubbles/100/000000/3d-glasses.png\" style=\"height:50px;display:inline\"> EE 046746 - Technion - Computer Vision\n",
    "---\n",
    "#### <a href=\"https://taldatech.github.io/\">Tal Daniel</a> \n",
    "\n",
    "## Tutorial 1.5 - Deep Learning - PyTorch Basics\n",
    "---\n",
    "\n",
    "<img src=\"./assets/tut_xiv_pytorch_logo.png\" style=\"height:100px\" />"
   ]
  },
  {
   "cell_type": "markdown",
   "metadata": {
    "slideshow": {
     "slide_type": "slide"
    }
   },
   "source": [
    "### <img src=\"https://img.icons8.com/bubbles/50/000000/checklist.png\" style=\"height:50px;display:inline\"> Agenda\n",
    "---\n",
    "\n",
    "* [Introduction & Motivation](#-Introduction-&-Motivation)\n",
    "* [Up & Running with PyTorch](#-PyTorch-Basics)\n",
    "    * [PyTorch Basics](#-PyTorch-Basics)\n",
    "    * [Datasets: MNIST, Fashion-MNIST](#-Datasets-in-PyTorch---MNIST-&-Fashion-MNIST)\n",
    "    * [Multi-Layer Perceptrons (MLPs)](#-Multi-Layer-Perceptron-(MLP)-in-PyTorch)\n",
    "* [Recommended Videos](#-Recommended-Videos)\n",
    "* [Credits](#-Credits)"
   ]
  },
  {
   "cell_type": "code",
   "execution_count": 1,
   "metadata": {
    "slideshow": {
     "slide_type": "skip"
    }
   },
   "outputs": [],
   "source": [
    "# imports for the tutorial\n",
    "import numpy as np\n",
    "import matplotlib.pyplot as plt\n",
    "import time\n",
    "\n",
    "# pytorch imports\n",
    "import torch\n",
    "import torch.nn as nn\n",
    "import torch.nn.functional as F\n",
    "from torch.utils.data import DataLoader, Dataset, ConcatDataset\n",
    "import torchvision"
   ]
  },
  {
   "cell_type": "markdown",
   "metadata": {},
   "source": [
    "## <img src=\"https://img.icons8.com/color/48/000000/fire-element.png\" style=\"height:50px;display:inline\" /> Introduction & Motivation\n",
    "---\n",
    "As you saw in the ML course, even though the idea of a neural network is a simple one, the implementation and calculations are not very sympathetic. Neural networks are a strong tool that might be useful to many sorts of tasks and thus simple frameworks were established to help engineers focus on the task rather than the actual implemntation of the neural networks and making the backpropagation easy as one line of code. There are several deep learning frameworks, where the two most popular ones are <a href=\"https://tensorflow.org\">Tensorflow</a> (maintained by Google) and <a href=\"https://pytorch.org\">PyTorch</a> (maintained by Facebook). TF and PyTorch have different workflows, though in recent versions they share some of the workflows.\n",
    "\n",
    "<img src=\"./assets/tut_xiv_pytorch_logo.png\" style=\"height:100px\" />\n",
    "PyTorch is \"an open source deep learning platform that provides a seamless path from research prototyping to production deployment\". In simple words, PyTorch is meant to make deep learning programming more easier for Python programmers by adapting the Python workflow and \"easy-to-code\" language.  Also, the PyTorch official website provides great tutorials to get you up and running in most deep learning fields (Computer Vision, Reinforcement Learning, Natural Language Processing).\n",
    "\n",
    "At its core, PyTorch provides two main features:\n",
    "\n",
    "* An n-dimensional Tensor, similar to numpy but can run on GPUs\n",
    "* Automatic differentiation for building and training neural networks\n",
    "\n",
    "The word \"Tensor\" might seem initmidating, but it is just an n-dimensional array or matrix.  A PyTorch Tensor is conceptually identical to a `numpy` array: a Tensor is an n-dimensional array, and PyTorch provides many functions for operating on these Tensors. Behind the scenes, Tensors can keep track of a computational graph and gradients, but they’re also useful as a generic tool for scientific computing. Most of the function and methods available in `numpy` are also available in PyTorch for tensors. \n",
    "\n",
    "#### Why not just use NumPy?\n",
    "---\n",
    "Numpy is a great framework, but it cannot utilize GPUs to accelerate its numerical computations. For modern deep neural networks, GPUs often provide speedups of 50x or greater, so unfortunately numpy won’t be enough for modern deep learning.\n",
    "\n",
    "### <img src=\"https://img.icons8.com/dusk/64/000000/diversity.png\" style=\"height:50px;display:inline\"> PyTorch Basics\n",
    "---\n",
    "We will now introduce some the basics. The main thing to keep in mind is that PyTorch was designed to have similar API as NumPy's. That means that almost every NumPy's function is in PyTorch, and most probably has the same name and same parameters."
   ]
  },
  {
   "cell_type": "code",
   "execution_count": 3,
   "metadata": {},
   "outputs": [
    {
     "name": "stdout",
     "output_type": "stream",
     "text": [
      "x: \n",
      " tensor([[-0.9316, -0.2761,  0.7423],\n",
      "        [-0.7188, -0.6464, -0.8161],\n",
      "        [ 0.2640,  0.6787, -0.3176],\n",
      "        [ 0.3718, -0.8876, -0.8888],\n",
      "        [-0.1430, -0.6374, -0.8229]])\n",
      "x size: torch.Size([5, 3])\n",
      "same as x shape: torch.Size([5, 3])\n",
      "\n"
     ]
    }
   ],
   "source": [
    "# create a tensor initialized from a random uniform distribution\n",
    "x = torch.Tensor(5, 3).uniform_(-1, 1)\n",
    "print(\"x: \\n\", x)\n",
    "print(\"x size:\", x.size())\n",
    "print(\"same as x shape:\", x.shape)\n",
    "print()"
   ]
  },
  {
   "cell_type": "code",
   "execution_count": 4,
   "metadata": {},
   "outputs": [
    {
     "name": "stdout",
     "output_type": "stream",
     "text": [
      "y: \n",
      " tensor([[0.5636, 0.0164, 0.2488],\n",
      "        [0.4739, 0.0954, 0.7210],\n",
      "        [0.1011, 0.9942, 0.8188],\n",
      "        [0.7817, 0.6225, 0.3460],\n",
      "        [0.9175, 0.1450, 0.6944]])\n",
      "x + y = \n",
      " tensor([[-0.3680, -0.2596,  0.9911],\n",
      "        [-0.2449, -0.5510, -0.0952],\n",
      "        [ 0.3651,  1.6729,  0.5012],\n",
      "        [ 1.1534, -0.2652, -0.5428],\n",
      "        [ 0.7745, -0.4924, -0.1285]])\n",
      "x - y = \n",
      " tensor([[-1.4953, -0.2925,  0.4935],\n",
      "        [-1.1927, -0.7417, -1.5371],\n",
      "        [ 0.1630, -0.3155, -1.1363],\n",
      "        [-0.4099, -1.5101, -1.2348],\n",
      "        [-1.0605, -0.7825, -1.5172]])\n",
      "\n"
     ]
    }
   ],
   "source": [
    "# basic math oprations\n",
    "y = torch.rand(5, 3)\n",
    "print(\"y: \\n\", y)\n",
    "print(\"x + y = \\n\", x + y)\n",
    "print(\"x - y = \\n\", x - y)\n",
    "print()"
   ]
  },
  {
   "cell_type": "code",
   "execution_count": 5,
   "metadata": {},
   "outputs": [
    {
     "name": "stdout",
     "output_type": "stream",
     "text": [
      "x[3, :] =  tensor([ 0.3718, -0.8876, -0.8888])\n",
      "\n"
     ]
    }
   ],
   "source": [
    "# indexing - same as NumPy\n",
    "print(\"x[3, :] = \", x[3, :])\n",
    "print()"
   ]
  },
  {
   "cell_type": "code",
   "execution_count": 5,
   "metadata": {},
   "outputs": [
    {
     "name": "stdout",
     "output_type": "stream",
     "text": [
      "torch.ones([2, 2]): \n",
      " tensor([[1., 1.],\n",
      "        [1., 1.]])\n",
      "torch.zeros([1, 2]): \n",
      " tensor([[0., 0.]])\n",
      "y.reshape(-1, 1): \n",
      " tensor([[0.0746],\n",
      "        [0.9194],\n",
      "        [0.7642],\n",
      "        [0.7937],\n",
      "        [0.5881],\n",
      "        [0.2956],\n",
      "        [0.6239],\n",
      "        [0.1899],\n",
      "        [0.8838],\n",
      "        [0.4624],\n",
      "        [0.2099],\n",
      "        [0.3366],\n",
      "        [0.2956],\n",
      "        [0.7547],\n",
      "        [0.9789]])\n",
      "y.view(-1, 1): \n",
      " tensor([[0.0746],\n",
      "        [0.9194],\n",
      "        [0.7642],\n",
      "        [0.7937],\n",
      "        [0.5881],\n",
      "        [0.2956],\n",
      "        [0.6239],\n",
      "        [0.1899],\n",
      "        [0.8838],\n",
      "        [0.4624],\n",
      "        [0.2099],\n",
      "        [0.3366],\n",
      "        [0.2956],\n",
      "        [0.7547],\n",
      "        [0.9789]])\n",
      "\n"
     ]
    }
   ],
   "source": [
    "# ones, zeros, reshaping - same as NumPy\n",
    "print(\"torch.ones([2, 2]): \\n\", torch.ones([2,2]))\n",
    "print(\"torch.zeros([1, 2]): \\n\", torch.zeros([1,2]))\n",
    "print(\"y.reshape(-1, 1): \\n\", y.reshape(-1, 1)) \n",
    "# -1 just means 'don't care about the dimension this axis, make it happen'\n",
    "# more efficiently, use `view` as it doesn't copy the variable (saves memory)\n",
    "print(\"y.view(-1, 1): \\n\", y.view(-1, 1))\n",
    "print()"
   ]
  },
  {
   "cell_type": "code",
   "execution_count": 6,
   "metadata": {},
   "outputs": [
    {
     "name": "stdout",
     "output_type": "stream",
     "text": [
      "z: \n",
      " tensor([[1, 2],\n",
      "        [3, 4]], dtype=torch.int32)\n",
      "\n"
     ]
    }
   ],
   "source": [
    "# torch <-> numpy\n",
    "z = torch.tensor(np.array([[1, 2], [3, 4]]))\n",
    "print(\"z: \\n\", z)\n",
    "print()"
   ]
  },
  {
   "cell_type": "code",
   "execution_count": 7,
   "metadata": {},
   "outputs": [
    {
     "name": "stdout",
     "output_type": "stream",
     "text": [
      "z: \n",
      " tensor([[1, 2],\n",
      "        [3, 4]], dtype=torch.int32)\n",
      "\n"
     ]
    }
   ],
   "source": [
    "# torch <-> numpy, alternative version\n",
    "a = np.array([[1, 2], [3, 4]])\n",
    "z = torch.from_numpy(a)\n",
    "print(\"z: \\n\", z)\n",
    "print()"
   ]
  },
  {
   "cell_type": "code",
   "execution_count": 6,
   "metadata": {
    "scrolled": false
   },
   "outputs": [
    {
     "name": "stdout",
     "output_type": "stream",
     "text": [
      "p = x.numpy(): \n",
      " [[-0.93162763 -0.27608442  0.7423003 ]\n",
      " [-0.71882963 -0.6463584  -0.8161427 ]\n",
      " [ 0.26402986  0.678723   -0.31756258]\n",
      " [ 0.3717742  -0.8876412  -0.88880277]\n",
      " [-0.14297056 -0.6374365  -0.8228916 ]]\n",
      "\n"
     ]
    }
   ],
   "source": [
    "p = x.numpy()\n",
    "print(\"p = x.numpy(): \\n\", p)\n",
    "print()"
   ]
  },
  {
   "cell_type": "code",
   "execution_count": 7,
   "metadata": {},
   "outputs": [
    {
     "name": "stdout",
     "output_type": "stream",
     "text": [
      "xy = x @ y.t(): \n",
      " tensor([[-0.3449,  0.0674,  0.2391, -0.6432, -0.3794],\n",
      "        [-0.6189, -0.9907, -1.3835, -1.2466, -1.3199],\n",
      "        [ 0.0810, -0.0391,  0.4415,  0.5190,  0.1202],\n",
      "        [-0.0262, -0.5493, -1.5727, -0.5695, -0.4048],\n",
      "        [-0.2958, -0.7218, -1.3220, -0.7933, -0.7950]])\n",
      "xy = torch.matmul(x, y.t()): \n",
      " tensor([[-0.3449,  0.0674,  0.2391, -0.6432, -0.3794],\n",
      "        [-0.6189, -0.9907, -1.3835, -1.2466, -1.3199],\n",
      "        [ 0.0810, -0.0391,  0.4415,  0.5190,  0.1202],\n",
      "        [-0.0262, -0.5493, -1.5727, -0.5695, -0.4048],\n",
      "        [-0.2958, -0.7218, -1.3220, -0.7933, -0.7950]])\n",
      "\n"
     ]
    }
   ],
   "source": [
    "# tensor multiplication\n",
    "xy = x @ y.t()\n",
    "print(\"xy = x @ y.t(): \\n\", xy)\n",
    "# or\n",
    "xy = torch.matmul(x, y.t())\n",
    "print(\"xy = torch.matmul(x, y.t()): \\n\", xy)\n",
    "print()"
   ]
  },
  {
   "cell_type": "code",
   "execution_count": 8,
   "metadata": {
    "scrolled": false
   },
   "outputs": [
    {
     "name": "stdout",
     "output_type": "stream",
     "text": [
      "xy = x * y: \n",
      " tensor([[-0.5251, -0.0045,  0.1847],\n",
      "        [-0.3406, -0.0616, -0.5884],\n",
      "        [ 0.0267,  0.6748, -0.2600],\n",
      "        [ 0.2906, -0.5525, -0.3075],\n",
      "        [-0.1312, -0.0924, -0.5714]])\n",
      "xy = torch.mul(x, y): \n",
      " tensor([[-0.5251, -0.0045,  0.1847],\n",
      "        [-0.3406, -0.0616, -0.5884],\n",
      "        [ 0.0267,  0.6748, -0.2600],\n",
      "        [ 0.2906, -0.5525, -0.3075],\n",
      "        [-0.1312, -0.0924, -0.5714]])\n"
     ]
    }
   ],
   "source": [
    "# element-wise\n",
    "xy = x * y\n",
    "print(\"xy = x * y: \\n\", xy)\n",
    "# or\n",
    "xy = torch.mul(x, y)\n",
    "print(\"xy = torch.mul(x, y): \\n\", xy)"
   ]
  },
  {
   "cell_type": "markdown",
   "metadata": {},
   "source": [
    "### <img src=\"https://img.icons8.com/dusk/64/000000/processor.png\" style=\"height:50px;display:inline\"> Device - CPU or GPU?\n",
    "---\n",
    "* The greatest advantage of using the deep learning frameworks in the ability to utilize the GPUs. In PyTorch, we can code it to automatically choose which device to use.\n",
    "* A good practice is to always define the device at the beginning of your code, and then just send the models and tensors to that devie using `.to(device)`"
   ]
  },
  {
   "cell_type": "code",
   "execution_count": 2,
   "metadata": {},
   "outputs": [
    {
     "name": "stdout",
     "output_type": "stream",
     "text": [
      "True\n",
      "current device:  0\n",
      "device:  cuda:0\n",
      "tensor([[-0.5621,  0.3617],\n",
      "        [ 1.7573,  0.0395]], device='cuda:0')\n"
     ]
    }
   ],
   "source": [
    "# check if there is a GPU available\n",
    "print(torch.cuda.is_available())\n",
    "# check what is the current available device\n",
    "if torch.cuda.is_available():\n",
    "    print(\"current device: \", torch.cuda.current_device())\n",
    "# automatically choose device\n",
    "device = torch.device(\"cuda:0\" if torch.cuda.is_available() else \"cpu\")  # use gpu 0 if it is available, o.w. use the cpu\n",
    "print(\"device: \", device)\n",
    "\n",
    "# create a random tensor and send it to the device\n",
    "a = torch.randn([2, 2]).to(device)\n",
    "print(a)"
   ]
  },
  {
   "cell_type": "markdown",
   "metadata": {},
   "source": [
    "### <img src=\"https://img.icons8.com/cute-clipart/64/000000/documents-folder.png\" style=\"height:50px;display:inline\"> Datasets in PyTorch - MNIST & Fashion-MNIST\n",
    "---\n",
    "* The first thing we need to do before we build our networks is load the data, separate it to train and test sets (and sometimes also validation) and create batches of it to train using one of the Gradient Descent optimizers.\n",
    "* Fortunately, PyTorch provide a simple data structure to load the data (usually from files) called `Dataset` and another data structure, called `DataLoader` that creates batches out of the Dataset (and it even takes care of shuffling it if you wish).\n",
    "* We now introduce two very popular datasets:\n",
    "\n",
    "1. **MNIST**- The MNIST database (1998) of handwritten digits (0-9, a total of 10 digits) has a training set of 60,000 examples, and a test set of 10,000 examples. Images are of size 28 x 28 pixels with one color channel. It is a subset of a larger set available from NIST. The digits have been size-normalized and centered in a fixed-size image. It is a good database for people who want to try learning techniques and pattern recognition methods on real-world data while spending minimal efforts on preprocessing and formatting. MNIST is broadly used as a baseline to many ML papers, even today.\n",
    "2. **Fashion-MNIST** - Fashion-MNIST is a dataset of Zalando's article images—consisting of a training set of 60,000 examples and a test set of 10,000 examples. Each example is a 28x28 grayscale image, associated with a label from 10 classes. Zalando intends Fashion-MNIST to serve as a direct drop-in replacement for the original MNIST dataset for benchmarking machine learning algorithms. It shares the same image size and structure of training and testing splits.\n",
    "\n",
    "Let's load the dataset (PyTorch provides an auto-download feature)."
   ]
  },
  {
   "cell_type": "code",
   "execution_count": 4,
   "metadata": {
    "scrolled": true
   },
   "outputs": [
    {
     "name": "stdout",
     "output_type": "stream",
     "text": [
      "shape: \n",
      " torch.Size([128, 1, 28, 28])\n"
     ]
    },
    {
     "data": {
      "image/png": "[encoded data removed]",
      "text/plain": [
       "<Figure size 432x288 with 6 Axes>"
      ]
     },
     "metadata": {
      "needs_background": "light"
     },
     "output_type": "display_data"
    }
   ],
   "source": [
    "batch_size = 128\n",
    "# MNIST\n",
    "mnist_train_dataset = torchvision.datasets.MNIST(root='./datasets/',\n",
    "                                           train=True, \n",
    "                                           transform=torchvision.transforms.ToTensor(),\n",
    "                                           download=True)\n",
    "\n",
    "mnist_test_dataset = torchvision.datasets.MNIST(root='./datasets',\n",
    "                                          train=False, \n",
    "                                          transform=torchvision.transforms.ToTensor())\n",
    "\n",
    "# Data loader\n",
    "mnist_train_loader = torch.utils.data.DataLoader(dataset=mnist_train_dataset,\n",
    "                                           batch_size=batch_size, \n",
    "                                           shuffle=True, drop_last=True)\n",
    "\n",
    "# We use drop_last=True to avoid the case where the data / batch_size != int\n",
    "\n",
    "mnist_test_loader = torch.utils.data.DataLoader(dataset=mnist_test_dataset,\n",
    "                                          batch_size=batch_size, \n",
    "                                          shuffle=False)\n",
    "\n",
    "# let's plot some of the samples from the test set\n",
    "examples = enumerate(mnist_test_loader)\n",
    "batch_idx, (example_data, example_targets) = next(examples)\n",
    "print(\"shape: \\n\", example_data.shape)\n",
    "fig = plt.figure()\n",
    "for i in range(6):\n",
    "    ax = fig.add_subplot(2,3,i+1)\n",
    "    ax.imshow(example_data[i][0], cmap='gray', interpolation='none')\n",
    "    ax.set_title(\"Ground Truth: {}\".format(example_targets[i]))\n",
    "    ax.set_axis_off()\n",
    "plt.tight_layout()"
   ]
  },
  {
   "cell_type": "code",
   "execution_count": 5,
   "metadata": {},
   "outputs": [
    {
     "name": "stdout",
     "output_type": "stream",
     "text": [
      "shape: \n",
      " torch.Size([128, 1, 28, 28])\n"
     ]
    },
    {
     "data": {
      "image/png": "[encoded data removed]",
      "text/plain": [
       "<Figure size 432x288 with 6 Axes>"
      ]
     },
     "metadata": {
      "needs_background": "light"
     },
     "output_type": "display_data"
    }
   ],
   "source": [
    "# Fashion-MNIST\n",
    "fmnist_train_dataset = torchvision.datasets.FashionMNIST(root='./datasets/',\n",
    "                                           train=True, \n",
    "                                           transform=torchvision.transforms.ToTensor(),\n",
    "                                           download=True)\n",
    "\n",
    "fmnist_test_dataset = torchvision.datasets.FashionMNIST(root='./datasets',\n",
    "                                          train=False, \n",
    "                                          transform=torchvision.transforms.ToTensor())\n",
    "\n",
    "# Data loader\n",
    "fmnist_train_loader = torch.utils.data.DataLoader(dataset=fmnist_train_dataset,\n",
    "                                           batch_size=batch_size, \n",
    "                                           shuffle=True, drop_last=True)\n",
    "\n",
    "fmnist_test_loader = torch.utils.data.DataLoader(dataset=fmnist_test_dataset,\n",
    "                                          batch_size=batch_size, \n",
    "                                          shuffle=False)\n",
    "\n",
    "# let's plot some of the samples from the test set\n",
    "examples = enumerate(fmnist_test_loader)\n",
    "batch_idx, (example_data, example_targets) = next(examples)\n",
    "print(\"shape: \\n\", example_data.shape)\n",
    "fig = plt.figure()\n",
    "for i in range(6):\n",
    "    ax = fig.add_subplot(2,3,i+1)\n",
    "    ax.imshow(example_data[i][0], cmap='gray', interpolation='none')\n",
    "    ax.set_title(\"Ground Truth: {}\".format(example_targets[i]))\n",
    "    ax.set_axis_off()\n",
    "plt.tight_layout()"
   ]
  },
  {
   "cell_type": "markdown",
   "metadata": {},
   "source": [
    "### <img src=\"https://img.icons8.com/color/96/000000/broadcasting.png\" style=\"height:50px;display:inline\"> Multi-Layer Perceptron (MLP) in PyTorch\n",
    "---\n",
    "* Other names: Fully-Connected (FC) Network (FCN), Dense Network\n",
    "\n",
    "An MLP is composed of one input layer, one or more hidden layers and a final output layer. Every layer, except the output layer includes a bias neuron which is fully connected to the next layer. When the number of hidden layers is larger than 2, the network is usually called a deep neural network (DNN).\n",
    "\n",
    "The algorithm is composed of two main parts: forward pass and backward pass. In the forward pass, for each training instance, the algorithm feeds it to the network and computes the output of every neuron in each consecutive layer (using the network for prediction is just doing a forward pass). Then, the output error (the difference between the desired output and the actual output from the network) is computed.\n",
    "\n",
    "After the output error calculation, the network calculates how much each neuron in the last hidden layer contributed to the output error (using the chain rule). It then proceeds to measure how much of these error contributions came from each neuron in the previous layers until reaching the input layer. This is the backward pass: measuring the error gradient across all the connection weights in the network by propagating the error gradient backward in the network (this is the backpropagation process).\n",
    "\n",
    "In short: for each training instance the backpropagation algorithm first makes a prediction (forward pass), measures the error, then goes in reverse to measure the error contribution from each connection (backward pass) and finally, using Gradient Descent, updates the weights in the direction that reduces the error.\n",
    "\n",
    "<img src=\"./assets/tut_xiv_mlp.jpg\" style=\"height:200px\">\n",
    "\n",
    "#### Implementing an MLP\n",
    "---\n",
    "We will now see how easy it is to implement a neural network using PyTorch. The first thing to know is that every neural network (NN) is inherited from parent class `torch.nn.Module`, which establishes a shared workflow, that is, every (!) NN in PyTorch has the same properties in terms of functunality. This global design helps with building a common language. We will now meet PyTorch's basic blocks and see why it is so popular. \n",
    "\n",
    "We will implement the following network:\n",
    "* Input dimension: 28 * 28\n",
    "* Output dimension: 10 (as the number of classes)\n",
    "* Batch size: 128\n",
    "* Hidden Layers: 1\n",
    "* Hidden Units: 256\n",
    "* Optimizer: Adam (Learning Rate: 0.001)\n",
    "* Activation: ReLU"
   ]
  },
  {
   "cell_type": "code",
   "execution_count": 6,
   "metadata": {},
   "outputs": [],
   "source": [
    "# define a two-layer MLP\n",
    "# method 1\n",
    "class TwoLayerNet(torch.nn.Module):\n",
    "    def __init__(self, D_in, H, D_out):\n",
    "        \"\"\"\n",
    "        In the constructor we instantiate two nn.Linear modules and assign them as\n",
    "        member variables.\n",
    "        Parameters:\n",
    "            D_in - dimensions of inputs\n",
    "            H - number of hidden units per layer\n",
    "            D_out - dimensions of outputs\n",
    "        \"\"\"\n",
    "        # initialzing the parent object (important!)\n",
    "        super(TwoLayerNet, self).__init__()\n",
    "        # define the first layer (hidden)\n",
    "        self.linear1 = torch.nn.Linear(D_in, H)\n",
    "        # define the second layer (output)\n",
    "        self.linear2 = torch.nn.Linear(H, D_out)\n",
    "        # define the activation function\n",
    "        self.relu = torch.nn.ReLU()\n",
    "\n",
    "    def forward(self, x):\n",
    "        \"\"\"\n",
    "        In the forward function we accept a Tensor of input data and we must return\n",
    "        a Tensor of output data. We can use Modules defined in the constructor as\n",
    "        well as arbitrary operators on Tensors.\n",
    "        Parameters:\n",
    "            x - tensor of inputs (shape: [BATCH_SIZE, D_in])\n",
    "        \"\"\"\n",
    "        h_relu = self.relu(self.linear1(x))\n",
    "        y_pred = self.linear2(h_relu)\n",
    "        return y_pred\n",
    "    \n",
    "# method 2\n",
    "class TwoLayerNetPiped(torch.nn.Module):\n",
    "    def __init__(self, D_in, H, D_out):\n",
    "        \"\"\"\n",
    "        In the constructor we instantiate two nn.Linear modules and assign them as\n",
    "        member variables.\n",
    "        Parameters:\n",
    "            D_in - dimensions of inputs\n",
    "            H - number of hidden units per layer\n",
    "            D_out - dimensions of outputs\n",
    "        \"\"\"\n",
    "        # initialzing the parent object (important!)\n",
    "        super(TwoLayerNetPiped, self).__init__()\n",
    "        # Create a pipeline - a sequence of layers\n",
    "        self.pipe = torch.nn.Sequential(\n",
    "            torch.nn.Linear(D_in, H), \n",
    "            torch.nn.ReLU(),\n",
    "            torch.nn.Linear(H, D_out))\n",
    "\n",
    "    def forward(self, x):\n",
    "        \"\"\"\n",
    "        In the forward function we accept a Tensor of input data and we must return\n",
    "        a Tensor of output data. We can use Modules defined in the constructor as\n",
    "        well as arbitrary operators on Tensors.\n",
    "        Parameters:\n",
    "            x - tensor of inputs (shape: [BATCH_SIZE, D_in])\n",
    "        \"\"\"\n",
    "        return self.pipe(x)"
   ]
  },
  {
   "cell_type": "markdown",
   "metadata": {},
   "source": [
    "### When to use method 1 and when to use method 2?\n",
    "---\n",
    "If you want easy access to the weights of the layers (to do some manipulating on them or create your algorithm) then it is better to use method 1, otherwise, use method 2."
   ]
  },
  {
   "cell_type": "code",
   "execution_count": 7,
   "metadata": {},
   "outputs": [],
   "source": [
    "# hyper-parameters:\n",
    "num_epochs = 10\n",
    "learning_rate = 0.001\n",
    "\n",
    "# Device configuration, as before\n",
    "device = torch.device('cuda:0' if torch.cuda.is_available() else 'cpu')\n",
    "\n",
    "# create model, send it to device\n",
    "model = TwoLayerNetPiped(D_in=28*28, H=256, D_out=10).to(device)\n",
    "\n",
    "# Loss and optimizer\n",
    "criterion = nn.CrossEntropyLoss()\n",
    "optimizer = torch.optim.Adam(model.parameters(), lr=learning_rate)"
   ]
  },
  {
   "cell_type": "code",
   "execution_count": 8,
   "metadata": {},
   "outputs": [
    {
     "name": "stdout",
     "output_type": "stream",
     "text": [
      "Epoch [1/10], Step [100/468], Loss: 0.4783, Time: 1.8672 secs\n",
      "Epoch [1/10], Step [200/468], Loss: 0.1721, Time: 3.2621 secs\n",
      "Epoch [1/10], Step [300/468], Loss: 0.1589, Time: 4.5964 secs\n",
      "Epoch [1/10], Step [400/468], Loss: 0.1732, Time: 5.9777 secs\n",
      "Epoch [2/10], Step [100/468], Loss: 0.2179, Time: 8.2756 secs\n",
      "Epoch [2/10], Step [200/468], Loss: 0.2117, Time: 9.6090 secs\n",
      "Epoch [2/10], Step [300/468], Loss: 0.1143, Time: 10.9415 secs\n",
      "Epoch [2/10], Step [400/468], Loss: 0.1430, Time: 12.2827 secs\n",
      "Epoch [3/10], Step [100/468], Loss: 0.1151, Time: 14.6643 secs\n",
      "Epoch [3/10], Step [200/468], Loss: 0.0915, Time: 16.0267 secs\n",
      "Epoch [3/10], Step [300/468], Loss: 0.2148, Time: 17.3831 secs\n",
      "Epoch [3/10], Step [400/468], Loss: 0.1106, Time: 18.6888 secs\n",
      "Epoch [4/10], Step [100/468], Loss: 0.0481, Time: 20.8634 secs\n",
      "Epoch [4/10], Step [200/468], Loss: 0.0289, Time: 22.1266 secs\n",
      "Epoch [4/10], Step [300/468], Loss: 0.0971, Time: 23.4104 secs\n",
      "Epoch [4/10], Step [400/468], Loss: 0.0954, Time: 24.7019 secs\n",
      "Epoch [5/10], Step [100/468], Loss: 0.0921, Time: 26.8355 secs\n",
      "Epoch [5/10], Step [200/468], Loss: 0.0399, Time: 28.0898 secs\n",
      "Epoch [5/10], Step [300/468], Loss: 0.0403, Time: 29.3446 secs\n",
      "Epoch [5/10], Step [400/468], Loss: 0.0204, Time: 30.6226 secs\n",
      "Epoch [6/10], Step [100/468], Loss: 0.0443, Time: 32.8190 secs\n",
      "Epoch [6/10], Step [200/468], Loss: 0.0593, Time: 34.2322 secs\n",
      "Epoch [6/10], Step [300/468], Loss: 0.1105, Time: 35.5956 secs\n",
      "Epoch [6/10], Step [400/468], Loss: 0.0168, Time: 36.9479 secs\n",
      "Epoch [7/10], Step [100/468], Loss: 0.0191, Time: 39.2662 secs\n",
      "Epoch [7/10], Step [200/468], Loss: 0.0214, Time: 40.6056 secs\n",
      "Epoch [7/10], Step [300/468], Loss: 0.0379, Time: 41.9390 secs\n",
      "Epoch [7/10], Step [400/468], Loss: 0.0780, Time: 43.2827 secs\n",
      "Epoch [8/10], Step [100/468], Loss: 0.0424, Time: 45.5493 secs\n",
      "Epoch [8/10], Step [200/468], Loss: 0.0149, Time: 46.8704 secs\n",
      "Epoch [8/10], Step [300/468], Loss: 0.0186, Time: 48.2039 secs\n",
      "Epoch [8/10], Step [400/468], Loss: 0.0212, Time: 49.5511 secs\n",
      "Epoch [9/10], Step [100/468], Loss: 0.0161, Time: 51.8537 secs\n",
      "Epoch [9/10], Step [200/468], Loss: 0.0053, Time: 53.0754 secs\n",
      "Epoch [9/10], Step [300/468], Loss: 0.0075, Time: 54.2974 secs\n",
      "Epoch [9/10], Step [400/468], Loss: 0.0357, Time: 55.5677 secs\n",
      "Epoch [10/10], Step [100/468], Loss: 0.0183, Time: 57.7369 secs\n",
      "Epoch [10/10], Step [200/468], Loss: 0.0526, Time: 58.9671 secs\n",
      "Epoch [10/10], Step [300/468], Loss: 0.0375, Time: 60.2029 secs\n",
      "Epoch [10/10], Step [400/468], Loss: 0.0186, Time: 61.4466 secs\n"
     ]
    }
   ],
   "source": [
    "# Train the model\n",
    "model.train()  # training mode\n",
    "total_step = len(mnist_train_loader)\n",
    "start_time = time.time()\n",
    "for epoch in range(num_epochs):\n",
    "    for i, (images, labels) in enumerate(mnist_train_loader):\n",
    "        # each i is a batch of 128 samples\n",
    "        images = images.to(device).view(batch_size, -1)  # represent images as column vectors\n",
    "        labels = labels.to(device)\n",
    "        \n",
    "        # Forward pass\n",
    "        outputs = model(images)\n",
    "        loss = criterion(outputs, labels)\n",
    "        \n",
    "        # Backward and optimize - ALWAYS IN THIS ORDER!\n",
    "        optimizer.zero_grad()\n",
    "        loss.backward()\n",
    "        optimizer.step()\n",
    "        \n",
    "        if (i + 1) % 100 == 0:\n",
    "            print ('Epoch [{}/{}], Step [{}/{}], Loss: {:.4f}, Time: {:.4f} secs' \n",
    "                   .format(epoch + 1, num_epochs, i + 1, total_step, loss.item(), time.time() - start_time))"
   ]
  },
  {
   "cell_type": "code",
   "execution_count": 9,
   "metadata": {},
   "outputs": [
    {
     "name": "stdout",
     "output_type": "stream",
     "text": [
      "Test Accuracy of the model on the 10000 test images: 97.78 %\n"
     ]
    }
   ],
   "source": [
    "# Test the model\n",
    "model.eval()  # eval mode (batchnorm uses moving mean/variance instead of mini-batch mean/variance), or use:\n",
    "with torch.no_grad(): # \"don't keep track of the gradients\" ,can also use .detach()\n",
    "    correct = 0\n",
    "    total = 0\n",
    "    for images, labels in mnist_test_loader:\n",
    "        images = images.to(device).view(images.size(0), -1)\n",
    "        labels = labels.to(device)\n",
    "        outputs = model(images)\n",
    "        _, predicted = torch.max(outputs.data, 1)\n",
    "        total += labels.size(0)\n",
    "        correct += (predicted == labels).sum().item()\n",
    "\n",
    "    print('Test Accuracy of the model on the 10000 test images: {} %'.format(100 * correct / total))"
   ]
  },
  {
   "cell_type": "markdown",
   "metadata": {
    "slideshow": {
     "slide_type": "slide"
    }
   },
   "source": [
    "### <img src=\"https://img.icons8.com/bubbles/50/000000/video-playlist.png\" style=\"height:50px;display:inline\"> Recommended Videos\n",
    "---\n",
    "#### <img src=\"https://img.icons8.com/cute-clipart/64/000000/warning-shield.png\" style=\"height:30px;display:inline\"> Warning!\n",
    "* These videos do not replace the lectures and tutorials.\n",
    "* Please use these to get a better understanding of the material, and not as an alternative to the written material.\n",
    "\n",
    "#### Video By Subject\n",
    "* PyTorch - <a href=\"https://www.youtube.com/watch?v=_H3aw6wkCv0&t=2s\">Stefan Otte: Deep Neural Networks with PyTorch | PyData Berlin 2018</a>"
   ]
  },
  {
   "cell_type": "markdown",
   "metadata": {
    "slideshow": {
     "slide_type": "skip"
    }
   },
   "source": [
    "## <img src=\"https://img.icons8.com/dusk/64/000000/prize.png\" style=\"height:50px;display:inline\"> Credits\n",
    "---\n",
    "* EE 046746 Spring 21 - <a href=\"https://taldatech.github.io/\">Tal Daniel</a> \n",
    "* Icons from <a href=\"https://icons8.com/\">Icon8.com</a> - https://icons8.com"
   ]
  }
 ],
 "metadata": {
  "kernelspec": {
   "display_name": "Python 3",
   "language": "python",
   "name": "python3"
  },
  "language_info": {
   "codemirror_mode": {
    "name": "ipython",
    "version": 3
   },
   "file_extension": ".py",
   "mimetype": "text/x-python",
   "name": "python",
   "nbconvert_exporter": "python",
   "pygments_lexer": "ipython3",
   "version": "3.6.15"
  }
 },
 "nbformat": 4,
 "nbformat_minor": 2
}
