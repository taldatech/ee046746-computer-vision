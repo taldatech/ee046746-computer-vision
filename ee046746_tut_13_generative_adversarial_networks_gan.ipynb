{
 "cells": [
  {
   "cell_type": "markdown",
   "metadata": {
    "slideshow": {
     "slide_type": "slide"
    }
   },
   "source": [
    "# <img src=\"https://img.icons8.com/bubbles/100/000000/3d-glasses.png\" style=\"height:50px;display:inline\"> EE 046746 - Technion - Computer Vision\n",
    "---\n",
    "#### Tal Daniel\n",
    "\n",
    "## Tutorial 13 - Generative Adversarial Networks (GANs)\n",
    "---\n",
    "\n",
    "<img src=\"./assets/tut_gan_morphing.gif\" style=\"height:200px\">\n",
    "\n",
    "* <a href=\"https://becominghuman.ai/with-gans-world-s-first-ai-generated-painting-to-recent-advancement-of-nvidia-b08ddfda45b1\">Image Source</a>"
   ]
  },
  {
   "cell_type": "markdown",
   "metadata": {
    "slideshow": {
     "slide_type": "slide"
    }
   },
   "source": [
    "### <img src=\"https://img.icons8.com/bubbles/50/000000/checklist.png\" style=\"height:50px;display:inline\"> Agenda\n",
    "---\n",
    "\n",
    "* [What are Generative Adversarial Networks?](#-What-Are-Generative-Adversarial-Networks-(GANs)?)\n",
    "    * [Discriminative Vs. Generative](#-Discriminative-vs.-Generative)\n",
    "    * [Adversarial Training](#-Adversarial-Training)\n",
    "    * [A Game Theory Perspective - Nash Equilibrium](#-GANs---A-Game-Theory-Persepective---Nash-Equilibrium)\n",
    "* [GANs Training Steps](#-GANs-Training-Steps)\n",
    "    * Formulation\n",
    "    * Algorithm\n",
    "* [2D Demo](#-2D-Demo)\n",
    "* [GANs (Serious) Problems](#-GANs-(Serious)-Problems)\n"
   ]
  },
  {
   "cell_type": "markdown",
   "metadata": {
    "slideshow": {
     "slide_type": "subslide"
    }
   },
   "source": [
    "* [Vanilla-GAN on MNIST with PyTorch](#-Vanilla-GAN-on-MNIST-with-PyTorch)\n",
    "* [Deep Convolutional GANs (DCGANs)](#-Deep-Convolutional-GANs-(DCGANs))\n",
    "* [The Latent Space](#-The-Latent-Space)\n",
    "* [Conditional GANs](#-Conditional-GANs)\n",
    "* [GANs Today](#-GANs-Today)\n",
    "* [Tips for Training GANs](#-Tips-for-Training-GANs)\n",
    "* [Applications](#-Applications)\n",
    "    * [Image-to-Image Translation (Pix2Pix)](#-Image-to-Image-Translation-(Pix2Pix))\n",
    "    * [CycleGAN](#-CycleGAN)\n",
    "    * [Realistic Neural Talking Head Models](#-Realistic-Neural-Talking-Head-Models)\n",
    "    * [Face Aging with Conditional GANs](#-Face-Aging-with-Conditional-GANs)\n",
    "* [Cool GAN Projects (with Code)](#-Cool-GAN-Projects-(with-Code))\n",
    "* [Recommended Videos](#-Recommended-Videos)\n",
    "* [Credits](#-Credits)"
   ]
  },
  {
   "cell_type": "code",
   "execution_count": 1,
   "metadata": {
    "slideshow": {
     "slide_type": "skip"
    }
   },
   "outputs": [],
   "source": [
    "# imports for the tutorial\n",
    "import time\n",
    "import numpy as np\n",
    "import matplotlib.pyplot as plt\n",
    "\n",
    "# pytorch\n",
    "import torch\n",
    "import torch.nn.functional as F\n",
    "from torchvision import datasets\n",
    "from torchvision import transforms\n",
    "import torch.nn as nn\n",
    "from torch.utils.data import DataLoader\n",
    "\n",
    "if torch.cuda.is_available():\n",
    "    torch.backends.cudnn.deterministic = True"
   ]
  },
  {
   "cell_type": "markdown",
   "metadata": {
    "slideshow": {
     "slide_type": "slide"
    }
   },
   "source": [
    "##  <img src=\"./assets/mnist_anim_icon.gif\" style=\"height:40px;display:inline\"> What Are Generative Adversarial Networks (GANs)?\n",
    "---\n",
    "* **Generative** - learn a generative model that can generate new data.\n",
    "* **Adversarial** - trained in an *adversarial* setting (there is some competition during the model's training).\n",
    "* **Networks** - the model is implemented using deep neural networks.\n",
    "\n",
    "GANs were first introduced in <a href=\"http://papers.nips.cc/paper/5423-generative-adversarial-nets\">Generative Adversarial Networks</a>, NIPS 2014, by Goodfellow et al."
   ]
  },
  {
   "cell_type": "markdown",
   "metadata": {
    "slideshow": {
     "slide_type": "subslide"
    }
   },
   "source": [
    "### <img src=\"https://img.icons8.com/nolan/64/resize-horizontal.png\" style=\"height:50px;display:inline\"> Discriminative vs. Generative\n",
    "---\n",
    "* So far, we have only seen *discriminative* models\n",
    "    * Given an image $X$, predict a label $Y$\n",
    "    * That is, we learn $P(Y\\mid X)$\n",
    "* The problem with discriminative models:\n",
    "    * During training, labels are required, as it is a *supervised* setting.\n",
    "    * Can't model $P(X)$, i.e., the probability of seeing a certain image.\n",
    "    * As a result, can't *sample* from $P(X)$, i.e., **can't generate new images**.\n",
    "* **Generative** models can overcome these limitations!\n",
    "    * They can model $P(X)$, implicitly (e.g. GANs) or explicitly (e.g. Variational Autoencoders - VAEs).\n",
    "    * Given a trained model, can generate new images (or data in general)."
   ]
  },
  {
   "cell_type": "markdown",
   "metadata": {
    "slideshow": {
     "slide_type": "subslide"
    }
   },
   "source": [
    "<img src=\"./assets/tut_gan_taxonomy.jpg\" style=\"height:350px\">\n",
    "\n",
    "<a href=\"https://arxiv.org/abs/1701.00160\">Image Source</a>"
   ]
  },
  {
   "cell_type": "markdown",
   "metadata": {
    "slideshow": {
     "slide_type": "subslide"
    }
   },
   "source": [
    "* **Explicit** density estimation: explicitly define and solve for $p_{model}(x)$.\n",
    "* **Implicit** density estimation: learn a model that can sample from $p_{model}(x)$ without explicitly defining it."
   ]
  },
  {
   "cell_type": "markdown",
   "metadata": {
    "slideshow": {
     "slide_type": "subslide"
    }
   },
   "source": [
    "### <img src=\"https://img.icons8.com/ios/50/000000/battle.png\" style=\"height:50px;display:inline\"> Adversarial Training\n",
    "---\n",
    "* **Goal**: given training data, generate new samples from the same distribution.\n",
    "<img src=\"./assets/tut_gan_train_to_sample.PNG\" style=\"height:250px\">"
   ]
  },
  {
   "cell_type": "markdown",
   "metadata": {
    "slideshow": {
     "slide_type": "subslide"
    }
   },
   "source": [
    "* In **general adversarial setting** (can also be discriminative):\n",
    "    * We can generate adversarial samples to *fool* a dsicriminative model.\n",
    "    * Using adversarial samples, we can make models more **robust**.\n",
    "    * Doing this will require the adversarial samples to be of better quality over time.\n",
    "        * This will require more effort in generating such quality samples!\n",
    "    * Repeating this process will result in a better *discriminative* model."
   ]
  },
  {
   "cell_type": "markdown",
   "metadata": {
    "slideshow": {
     "slide_type": "subslide"
    }
   },
   "source": [
    "<img src=\"./assets/tut_gan_adv_setting.png\" style=\"height:300px\">\n",
    "\n",
    "* <a href=\"https://www.researchgate.net/publication/325370539_Protecting_Voice_Controlled_Systems_Using_Sound_Source_Identification_Based_on_Acoustic_Cues\">Image Source</a>"
   ]
  },
  {
   "cell_type": "markdown",
   "metadata": {
    "slideshow": {
     "slide_type": "subslide"
    }
   },
   "source": [
    "* **GANs** extend this idea to *generative* models:\n",
    "    * **Generator**: generate fake samples, tries to fool the *Discriminator*.\n",
    "    * **Discriminator**: tries to dsitinguish between real and fake samples.\n",
    "    * Train them **against** each other!\n",
    "    * Repeat this and get a better *Generator* over time."
   ]
  },
  {
   "cell_type": "markdown",
   "metadata": {
    "slideshow": {
     "slide_type": "subslide"
    }
   },
   "source": [
    "<img src=\"./assets/tut_gan_architecture.png\" style=\"height:300px\">\n",
    "\n",
    "* <a href=\"https://www.researchgate.net/publication/334100947_Partial_Discharge_Classification_Using_Deep_Learning_Methods-Survey_of_Recent_Progress\">Image Source</a>"
   ]
  },
  {
   "cell_type": "markdown",
   "metadata": {
    "slideshow": {
     "slide_type": "subslide"
    }
   },
   "source": [
    "<img src=\"./assets/tut_gan_gen_disc.png\" style=\"height:300px\">\n",
    "\n",
    "* <a href=\"https://towardsdatascience.com/comprehensive-introduction-to-turing-learning-and-gans-part-2-fd8e4a70775\">Image Source</a>"
   ]
  },
  {
   "cell_type": "markdown",
   "metadata": {
    "slideshow": {
     "slide_type": "slide"
    }
   },
   "source": [
    "## <img src=\"https://img.icons8.com/plasticine/100/000000/controller.png\" style=\"height:50px;display:inline\"> GANs - A Game Theory Persepective - Nash Equilibrium\n",
    "---\n",
    "* GAN is based on a **zero-sum** cooperative game (minimax).\n",
    "    * In short, if one wins the other loses.\n",
    "* In game theory, the GAN model **converges** when the *discriminator* and the *generator* reach a **Nash equilibrium**.\n",
    "* **Nash equilibrium** - as both sides want to beat the other, a Nash equilibrium happens when *one player will not change its action regardless of what the opponent may do*.\n",
    "* **Cost functions may not converge using gradient descent in a minimax game**."
   ]
  },
  {
   "cell_type": "markdown",
   "metadata": {
    "slideshow": {
     "slide_type": "slide"
    }
   },
   "source": [
    "## <img src=\"https://img.icons8.com/plasticine/100/000000/workflow.png\" style=\"height:50px;display:inline\"> GANs Training Steps\n",
    "---\n",
    "* Training the **Discriminator**\n",
    "    * **Freeze** the *Generator* and generate fake samples (that is, when backpropagating, don't update the generator weights)\n",
    "    \n",
    "<img src=\"./assets/tut_gan_train_disc.PNG\" style=\"height:300px\">"
   ]
  },
  {
   "cell_type": "markdown",
   "metadata": {
    "slideshow": {
     "slide_type": "subslide"
    }
   },
   "source": [
    "* Training the **Generator**\n",
    "    * **Freeze** the *Discriminator*, and update the Generator to get a higher score (like the real data) from the Discriminator\n",
    "    \n",
    "<img src=\"./assets/tut_gan_train_gen.PNG\" style=\"height:300px\">"
   ]
  },
  {
   "cell_type": "markdown",
   "metadata": {
    "slideshow": {
     "slide_type": "slide"
    }
   },
   "source": [
    "## <img src=\"https://img.icons8.com/color/96/000000/rubiks-cube.png\" style=\"height:50px;display:inline\"> Formulation & Algorithm\n",
    "---\n",
    "* For a Discriminator (binary classifier) $D$, a Generator $G$ and a reward function $V$, the GAN's objective function: $$ \\min_G \\max_D V(D,G)$$\n",
    "* It is formulated as a **minimax game**, where:\n",
    "    * The **Discriminator** $D$ is trying to *maximize* its reward $V(D, G)$\n",
    "    * The **Generator** $G$ is trying to *minimize* the Discriminator's reward (or maximize its loss)\n",
    "        * Why? Because minimizing the Discriminator's reward means that the Discriminator can not tell the difference between real and fake samples, thus, the Generator is \"winning\"."
   ]
  },
  {
   "cell_type": "markdown",
   "metadata": {
    "slideshow": {
     "slide_type": "subslide"
    }
   },
   "source": [
    "* In our case, the reward function $V$: $$ V(D,G) = \\mathbb{E}_{x \\sim p(x)} \\left[ \\log D(x) \\right] + \\mathbb{E}_{z\\sim q(z)} \\left[\\log(1 - D\\left(G(z)\\right)) \\right] $$\n",
    "    * Recall that for binary classification (real or fake) we use the <a href=\"https://ml-cheatsheet.readthedocs.io/en/latest/loss_functions.html#cross-entropy\">Binary Cross Entropy (BCE)</a> loss function.\n",
    "* The **Nash equilibrium** is reached when:\n",
    "    * $P_{data}(x) = P_{gen}(x), \\forall x$\n",
    "    * $D(x) = \\frac{1}{2}$ (completely random classifier).\n",
    "    \n",
    "* <a href=\"https://srome.github.io/An-Annotated-Proof-of-Generative-Adversarial-Networks-with-Implementation-Notes/\">Proof of Nash Equilibrium in GANs</a> - However out of the scope of this course, the mathematical proof is very nice and important. It is recommended to go over it if you are interested in working with GANs in the future."
   ]
  },
  {
   "cell_type": "markdown",
   "metadata": {
    "slideshow": {
     "slide_type": "subslide"
    }
   },
   "source": [
    "<img src=\"./assets/tut_gan_gen_disc_loss.png\" style=\"height300px\">\n",
    "\n",
    "* <a href=\"https://towardsdatascience.com/comprehensive-introduction-to-turing-learning-and-gans-part-2-fd8e4a70775\">Image Source</a>"
   ]
  },
  {
   "cell_type": "markdown",
   "metadata": {
    "slideshow": {
     "slide_type": "subslide"
    }
   },
   "source": [
    "<img src=\"./assets/tut_gan_algo.PNG\" style=\"height:500px\">"
   ]
  },
  {
   "cell_type": "markdown",
   "metadata": {
    "slideshow": {
     "slide_type": "slide"
    }
   },
   "source": [
    "## <img src=\"https://img.icons8.com/cute-clipart/64/000000/test-tube.png\" style=\"height:50px;display:inline\"> 2D Demo\n",
    "\n",
    "<a href=\"https://poloclub.github.io/ganlab/\">GAN Lab <br> <img src=\"./assets/tut_gan_ganlab.PNG\" style=\"height:400px\"></a>"
   ]
  },
  {
   "cell_type": "markdown",
   "metadata": {
    "slideshow": {
     "slide_type": "slide"
    }
   },
   "source": [
    "## <img src=\"https://img.icons8.com/dusk/64/000000/box-important.png\" style=\"height:50px;display:inline\"> GANs (Serious) Problems\n",
    "---\n",
    "* **Non-convergence**: the model parameters oscilate, destabilize and (almost) never converge.\n",
    "* **Mode Collapse**: the *Generator* collapses, which produces limited varieties of samples.\n",
    "    * For example, on a 2D eight-Gaussians dataset: <img src=\"./assets/tut_gan_mode_collapse.png\" style=\"height:250px\">\n",
    "    * <a href=\"https://mc.ai/gan-unrolled-gan-how-to-reduce-mode-collapse/\">Image Source</a>"
   ]
  },
  {
   "cell_type": "markdown",
   "metadata": {
    "slideshow": {
     "slide_type": "subslide"
    }
   },
   "source": [
    "* **Vanisihng/Diminishing Gradient**: the discriminator gets *too good* such that the generator gradient vanishes and learns nothing.\n",
    "    * Proof: consider the second term in the objective function which is relavent only for the generator.\n",
    "        * Recall that the output of binary classification is the output of the *sigmoid* function, $\\sigma$.\n",
    "        * $\\nabla_{\\theta_G}V(D,G) = \\nabla_{\\theta_G}\\mathbb{E}_{z\\sim q(z)} \\left[\\log(1 - D\\left(G(z)\\right)) \\right]$\n",
    "        * $\\nabla_a \\log\\left(1 - \\sigma(a)\\right) = \\frac{-\\nabla_a \\sigma(a)}{1 - \\sigma(a)} = \\frac{-\\sigma(a)\\left(1 - \\sigma(a)\\right)}{1 - \\sigma(a)} = -\\sigma(a) = -D\\left(G(z)\\right)$\n",
    "        * So if $D$ is confident (that the sample is fake), the gradient goes to 0, i.e. $D\\left(G(z)\\right) \\to 0$\n",
    "    * Possible remedy: replace the problematic term with $$ \\mathbb{E}_{z\\sim q(z)} \\left[\\log(1 - D\\left(G(z)\\right)) \\right] \\rightarrow -\\mathbb{E}_{z\\sim q(z)} \\left[\\log D\\left(G(z)\\right) \\right] $$"
   ]
  },
  {
   "cell_type": "markdown",
   "metadata": {
    "slideshow": {
     "slide_type": "subslide"
    }
   },
   "source": [
    "* **GANs are highly sensitive to hyper-parameters!**\n",
    "    * Even the slightest change in hyper-parameters may lead to any of the above, e.g. even changing the learning rate from 0.0002 to 0.0001 may lead to instability. "
   ]
  },
  {
   "cell_type": "markdown",
   "metadata": {
    "slideshow": {
     "slide_type": "slide"
    }
   },
   "source": [
    "## <img src=\"https://img.icons8.com/officel/80/000000/fire-element.png\" style=\"height:50px;display:inline\"> Vanilla-GAN on MNIST with PyTorch\n",
    "---\n",
    "* Based on example by <a href=\"https://github.com/rasbt/deeplearning-models\">Sebastian Raschka</a>"
   ]
  },
  {
   "cell_type": "markdown",
   "metadata": {
    "slideshow": {
     "slide_type": "subslide"
    }
   },
   "source": [
    "# ------------------------- <img src=\"https://img.icons8.com/color/96/000000/code.png\" style=\"height:50px;display:inline\"> CODE TIME -------------------------"
   ]
  },
  {
   "cell_type": "code",
   "execution_count": 2,
   "metadata": {
    "slideshow": {
     "slide_type": "skip"
    }
   },
   "outputs": [],
   "source": [
    "##########################\n",
    "### SETTINGS\n",
    "##########################\n",
    "\n",
    "# Device\n",
    "device = torch.device(\"cuda:0\" if torch.cuda.is_available() else \"cpu\")\n",
    "\n",
    "# Hyperparameters\n",
    "# Remember that GANs are highly sensitive to hyper-parameters\n",
    "random_seed = 123\n",
    "generator_learning_rate = 0.001\n",
    "discriminator_learning_rate = 0.001\n",
    "NUM_EPOCHS = 100\n",
    "BATCH_SIZE = 128\n",
    "LATENT_DIM = 100  # latent vectors dimension [z]\n",
    "IMG_SHAPE = (1, 28, 28)  # MNIST has 1 color channel, each image 28x8 pixels\n",
    "IMG_SIZE = 1\n",
    "for x in IMG_SHAPE:\n",
    "    IMG_SIZE *= x"
   ]
  },
  {
   "cell_type": "code",
   "execution_count": 3,
   "metadata": {
    "slideshow": {
     "slide_type": "skip"
    }
   },
   "outputs": [
    {
     "name": "stdout",
     "output_type": "stream",
     "text": [
      "Image batch dimensions: torch.Size([128, 1, 28, 28])\n",
      "Image label dimensions: torch.Size([128])\n",
      "shape: \n",
      " torch.Size([128, 1, 28, 28])\n"
     ]
    },
    {
     "data": {
      "image/png": "[encoded data removed]",
      "text/plain": [
       "<Figure size 432x288 with 6 Axes>"
      ]
     },
     "metadata": {
      "needs_background": "light"
     },
     "output_type": "display_data"
    }
   ],
   "source": [
    "##########################\n",
    "### MNIST DATASET\n",
    "##########################\n",
    "\n",
    "# Note transforms.ToTensor() scales input images\n",
    "# to 0-1 range\n",
    "train_dataset = datasets.MNIST(root='./datasets', \n",
    "                               train=True, \n",
    "                               transform=transforms.ToTensor(),\n",
    "                               download=True)\n",
    "\n",
    "test_dataset = datasets.MNIST(root='./datasets', \n",
    "                              train=False, \n",
    "                              transform=transforms.ToTensor())\n",
    "\n",
    "\n",
    "train_loader = DataLoader(dataset=train_dataset, \n",
    "                          batch_size=BATCH_SIZE, \n",
    "                          shuffle=True)\n",
    "\n",
    "test_loader = DataLoader(dataset=test_dataset, \n",
    "                         batch_size=BATCH_SIZE, \n",
    "                         shuffle=False)\n",
    "\n",
    "# Checking the dataset\n",
    "for images, labels in train_loader:  \n",
    "    print('Image batch dimensions:', images.shape)\n",
    "    print('Image label dimensions:', labels.shape)\n",
    "    break\n",
    "    \n",
    "# let's see some digits\n",
    "examples = enumerate(test_loader)\n",
    "batch_idx, (example_data, example_targets) = next(examples)\n",
    "print(\"shape: \\n\", example_data.shape)\n",
    "fig = plt.figure()\n",
    "for i in range(6):\n",
    "    ax = fig.add_subplot(2,3,i+1)\n",
    "    ax.imshow(example_data[i][0], cmap='gray', interpolation='none')\n",
    "    ax.set_title(\"Ground Truth: {}\".format(example_targets[i]))\n",
    "    ax.set_axis_off()\n",
    "plt.tight_layout()"
   ]
  },
  {
   "cell_type": "code",
   "execution_count": 4,
   "metadata": {
    "slideshow": {
     "slide_type": "skip"
    }
   },
   "outputs": [],
   "source": [
    "##########################\n",
    "### MODEL\n",
    "##########################\n",
    "\n",
    "class GAN(torch.nn.Module):\n",
    "\n",
    "    def __init__(self):\n",
    "        super(GAN, self).__init__()\n",
    "        \n",
    "        # generator: z [vector] -> image [matrix]\n",
    "        self.generator = nn.Sequential(\n",
    "            nn.Linear(LATENT_DIM, 128),\n",
    "            nn.LeakyReLU(inplace=True),\n",
    "            nn.Dropout(p=0.5),\n",
    "            nn.Linear(128, IMG_SIZE),\n",
    "            nn.Tanh()\n",
    "        )\n",
    "        \n",
    "        # discriminator: image [matrix] -> label (0-fake, 1-real)\n",
    "        self.discriminator = nn.Sequential(\n",
    "            nn.Linear(IMG_SIZE, 128),\n",
    "            nn.LeakyReLU(inplace=True),\n",
    "            nn.Dropout(p=0.5),\n",
    "            nn.Linear(128, 1),\n",
    "            nn.Sigmoid()\n",
    "        )\n",
    "\n",
    "            \n",
    "    def generator_forward(self, z):\n",
    "        img = self.generator(z)\n",
    "        return img\n",
    "    \n",
    "    def discriminator_forward(self, img):\n",
    "        pred = model.discriminator(img)\n",
    "        return pred.view(-1)"
   ]
  },
  {
   "cell_type": "code",
   "execution_count": 5,
   "metadata": {
    "slideshow": {
     "slide_type": "skip"
    }
   },
   "outputs": [],
   "source": [
    "# constant the seed\n",
    "torch.manual_seed(random_seed)\n",
    "\n",
    "# build the model, send it ti the device\n",
    "model = GAN().to(device)\n",
    "\n",
    "# optimizers: we have one for the generator and one for the discriminator\n",
    "# that way, we can update only one of the modules, while the other one is \"frozen\"\n",
    "optim_gener = torch.optim.Adam(model.generator.parameters(), lr=generator_learning_rate)\n",
    "optim_discr = torch.optim.Adam(model.discriminator.parameters(), lr=discriminator_learning_rate)"
   ]
  },
  {
   "cell_type": "code",
   "execution_count": 6,
   "metadata": {
    "scrolled": true,
    "slideshow": {
     "slide_type": "skip"
    }
   },
   "outputs": [
    {
     "name": "stdout",
     "output_type": "stream",
     "text": [
      "Epoch: 001/100 | Batch 000/469 | Gen/Dis Loss: 0.6838/0.7138\n",
      "Epoch: 001/100 | Batch 100/469 | Gen/Dis Loss: 4.3840/0.0432\n",
      "Epoch: 001/100 | Batch 200/469 | Gen/Dis Loss: 1.9350/0.0932\n",
      "Epoch: 001/100 | Batch 300/469 | Gen/Dis Loss: 1.2844/0.2061\n",
      "Epoch: 001/100 | Batch 400/469 | Gen/Dis Loss: 1.9026/0.1210\n",
      "Time elapsed: 0.21 min\n",
      "Epoch: 002/100 | Batch 000/469 | Gen/Dis Loss: 3.0769/0.1038\n",
      "Epoch: 002/100 | Batch 100/469 | Gen/Dis Loss: 2.2545/0.2297\n",
      "Epoch: 002/100 | Batch 200/469 | Gen/Dis Loss: 1.6195/0.2978\n",
      "Epoch: 002/100 | Batch 300/469 | Gen/Dis Loss: 1.3532/0.3820\n",
      "Epoch: 002/100 | Batch 400/469 | Gen/Dis Loss: 0.8324/0.4919\n",
      "Time elapsed: 0.42 min\n",
      "Epoch: 003/100 | Batch 000/469 | Gen/Dis Loss: 0.9838/0.3945\n",
      "Epoch: 003/100 | Batch 100/469 | Gen/Dis Loss: 1.1632/0.3346\n",
      "Epoch: 003/100 | Batch 200/469 | Gen/Dis Loss: 1.5950/0.2493\n",
      "Epoch: 003/100 | Batch 300/469 | Gen/Dis Loss: 0.9661/0.4662\n",
      "Epoch: 003/100 | Batch 400/469 | Gen/Dis Loss: 1.4429/0.3401\n",
      "Time elapsed: 0.60 min\n",
      "Epoch: 004/100 | Batch 000/469 | Gen/Dis Loss: 1.0569/0.4390\n",
      "Epoch: 004/100 | Batch 100/469 | Gen/Dis Loss: 1.0999/0.4675\n",
      "Epoch: 004/100 | Batch 200/469 | Gen/Dis Loss: 1.0270/0.4134\n",
      "Epoch: 004/100 | Batch 300/469 | Gen/Dis Loss: 1.5850/0.3808\n",
      "Epoch: 004/100 | Batch 400/469 | Gen/Dis Loss: 0.8862/0.5399\n",
      "Time elapsed: 0.82 min\n",
      "Epoch: 005/100 | Batch 000/469 | Gen/Dis Loss: 1.3939/0.5117\n",
      "Epoch: 005/100 | Batch 100/469 | Gen/Dis Loss: 0.7912/0.5171\n",
      "Epoch: 005/100 | Batch 200/469 | Gen/Dis Loss: 1.2323/0.4814\n",
      "Epoch: 005/100 | Batch 300/469 | Gen/Dis Loss: 1.3585/0.4899\n",
      "Epoch: 005/100 | Batch 400/469 | Gen/Dis Loss: 1.3954/0.4305\n",
      "Time elapsed: 1.03 min\n",
      "Epoch: 006/100 | Batch 000/469 | Gen/Dis Loss: 0.9018/0.4902\n",
      "Epoch: 006/100 | Batch 100/469 | Gen/Dis Loss: 1.2610/0.4479\n",
      "Epoch: 006/100 | Batch 200/469 | Gen/Dis Loss: 1.3451/0.4238\n",
      "Epoch: 006/100 | Batch 300/469 | Gen/Dis Loss: 1.0149/0.5674\n",
      "Epoch: 006/100 | Batch 400/469 | Gen/Dis Loss: 0.8990/0.5092\n",
      "Time elapsed: 1.24 min\n",
      "Epoch: 007/100 | Batch 000/469 | Gen/Dis Loss: 1.0070/0.5217\n",
      "Epoch: 007/100 | Batch 100/469 | Gen/Dis Loss: 0.9744/0.5619\n",
      "Epoch: 007/100 | Batch 200/469 | Gen/Dis Loss: 0.9587/0.4871\n",
      "Epoch: 007/100 | Batch 300/469 | Gen/Dis Loss: 1.2298/0.4278\n",
      "Epoch: 007/100 | Batch 400/469 | Gen/Dis Loss: 1.2283/0.4623\n",
      "Time elapsed: 1.42 min\n",
      "Epoch: 008/100 | Batch 000/469 | Gen/Dis Loss: 2.6874/0.4093\n",
      "Epoch: 008/100 | Batch 100/469 | Gen/Dis Loss: 1.2914/0.4006\n",
      "Epoch: 008/100 | Batch 200/469 | Gen/Dis Loss: 1.0255/0.4877\n",
      "Epoch: 008/100 | Batch 300/469 | Gen/Dis Loss: 1.0429/0.5381\n",
      "Epoch: 008/100 | Batch 400/469 | Gen/Dis Loss: 0.9911/0.5373\n",
      "Time elapsed: 1.62 min\n",
      "Epoch: 009/100 | Batch 000/469 | Gen/Dis Loss: 1.3408/0.4490\n",
      "Epoch: 009/100 | Batch 100/469 | Gen/Dis Loss: 0.8755/0.4988\n",
      "Epoch: 009/100 | Batch 200/469 | Gen/Dis Loss: 0.9902/0.5171\n",
      "Epoch: 009/100 | Batch 300/469 | Gen/Dis Loss: 1.1354/0.5539\n",
      "Epoch: 009/100 | Batch 400/469 | Gen/Dis Loss: 1.2235/0.5087\n",
      "Time elapsed: 1.82 min\n",
      "Epoch: 010/100 | Batch 000/469 | Gen/Dis Loss: 1.0621/0.5484\n",
      "Epoch: 010/100 | Batch 100/469 | Gen/Dis Loss: 1.0421/0.5424\n",
      "Epoch: 010/100 | Batch 200/469 | Gen/Dis Loss: 1.1361/0.4913\n",
      "Epoch: 010/100 | Batch 300/469 | Gen/Dis Loss: 1.3669/0.4614\n",
      "Epoch: 010/100 | Batch 400/469 | Gen/Dis Loss: 1.7223/0.3940\n",
      "Time elapsed: 2.01 min\n",
      "Epoch: 011/100 | Batch 000/469 | Gen/Dis Loss: 1.8185/0.4393\n",
      "Epoch: 011/100 | Batch 100/469 | Gen/Dis Loss: 1.4372/0.4684\n",
      "Epoch: 011/100 | Batch 200/469 | Gen/Dis Loss: 1.2391/0.4745\n",
      "Epoch: 011/100 | Batch 300/469 | Gen/Dis Loss: 1.8360/0.5076\n",
      "Epoch: 011/100 | Batch 400/469 | Gen/Dis Loss: 1.0983/0.4962\n",
      "Time elapsed: 2.22 min\n",
      "Epoch: 012/100 | Batch 000/469 | Gen/Dis Loss: 1.0624/0.6154\n",
      "Epoch: 012/100 | Batch 100/469 | Gen/Dis Loss: 1.4581/0.4141\n",
      "Epoch: 012/100 | Batch 200/469 | Gen/Dis Loss: 1.5077/0.5387\n",
      "Epoch: 012/100 | Batch 300/469 | Gen/Dis Loss: 0.9242/0.5931\n",
      "Epoch: 012/100 | Batch 400/469 | Gen/Dis Loss: 1.6200/0.5159\n",
      "Time elapsed: 2.42 min\n",
      "Epoch: 013/100 | Batch 000/469 | Gen/Dis Loss: 1.1211/0.5278\n",
      "Epoch: 013/100 | Batch 100/469 | Gen/Dis Loss: 1.3972/0.5559\n",
      "Epoch: 013/100 | Batch 200/469 | Gen/Dis Loss: 1.0772/0.5088\n",
      "Epoch: 013/100 | Batch 300/469 | Gen/Dis Loss: 1.0421/0.5161\n",
      "Epoch: 013/100 | Batch 400/469 | Gen/Dis Loss: 1.0460/0.5283\n",
      "Time elapsed: 2.63 min\n",
      "Epoch: 014/100 | Batch 000/469 | Gen/Dis Loss: 1.0134/0.5324\n",
      "Epoch: 014/100 | Batch 100/469 | Gen/Dis Loss: 1.0253/0.5432\n",
      "Epoch: 014/100 | Batch 200/469 | Gen/Dis Loss: 1.0420/0.5056\n",
      "Epoch: 014/100 | Batch 300/469 | Gen/Dis Loss: 0.9032/0.5923\n",
      "Epoch: 014/100 | Batch 400/469 | Gen/Dis Loss: 1.5168/0.5644\n",
      "Time elapsed: 2.83 min\n",
      "Epoch: 015/100 | Batch 000/469 | Gen/Dis Loss: 0.9793/0.5231\n",
      "Epoch: 015/100 | Batch 100/469 | Gen/Dis Loss: 1.1882/0.5807\n",
      "Epoch: 015/100 | Batch 200/469 | Gen/Dis Loss: 1.5222/0.4828\n",
      "Epoch: 015/100 | Batch 300/469 | Gen/Dis Loss: 1.0066/0.5354\n",
      "Epoch: 015/100 | Batch 400/469 | Gen/Dis Loss: 1.1868/0.5143\n",
      "Time elapsed: 3.03 min\n",
      "Epoch: 016/100 | Batch 000/469 | Gen/Dis Loss: 1.2892/0.4966\n",
      "Epoch: 016/100 | Batch 100/469 | Gen/Dis Loss: 1.2736/0.4939\n",
      "Epoch: 016/100 | Batch 200/469 | Gen/Dis Loss: 1.2180/0.5542\n",
      "Epoch: 016/100 | Batch 300/469 | Gen/Dis Loss: 1.1227/0.5524\n",
      "Epoch: 016/100 | Batch 400/469 | Gen/Dis Loss: 1.3174/0.4623\n",
      "Time elapsed: 3.23 min\n",
      "Epoch: 017/100 | Batch 000/469 | Gen/Dis Loss: 1.1275/0.5069\n",
      "Epoch: 017/100 | Batch 100/469 | Gen/Dis Loss: 1.2431/0.5452\n",
      "Epoch: 017/100 | Batch 200/469 | Gen/Dis Loss: 1.2845/0.4954\n",
      "Epoch: 017/100 | Batch 300/469 | Gen/Dis Loss: 1.1289/0.5558\n",
      "Epoch: 017/100 | Batch 400/469 | Gen/Dis Loss: 1.8049/0.5299\n",
      "Time elapsed: 3.46 min\n",
      "Epoch: 018/100 | Batch 000/469 | Gen/Dis Loss: 1.0419/0.5352\n",
      "Epoch: 018/100 | Batch 100/469 | Gen/Dis Loss: 0.9424/0.5597\n",
      "Epoch: 018/100 | Batch 200/469 | Gen/Dis Loss: 1.1577/0.5832\n",
      "Epoch: 018/100 | Batch 300/469 | Gen/Dis Loss: 0.9085/0.5702\n",
      "Epoch: 018/100 | Batch 400/469 | Gen/Dis Loss: 1.0246/0.5918\n",
      "Time elapsed: 3.67 min\n",
      "Epoch: 019/100 | Batch 000/469 | Gen/Dis Loss: 1.2700/0.4862\n",
      "Epoch: 019/100 | Batch 100/469 | Gen/Dis Loss: 1.4914/0.5635\n",
      "Epoch: 019/100 | Batch 200/469 | Gen/Dis Loss: 0.9100/0.5929\n",
      "Epoch: 019/100 | Batch 300/469 | Gen/Dis Loss: 1.7084/0.4677\n",
      "Epoch: 019/100 | Batch 400/469 | Gen/Dis Loss: 0.9109/0.5568\n",
      "Time elapsed: 3.88 min\n",
      "Epoch: 020/100 | Batch 000/469 | Gen/Dis Loss: 1.0908/0.5502\n",
      "Epoch: 020/100 | Batch 100/469 | Gen/Dis Loss: 1.6147/0.4600\n",
      "Epoch: 020/100 | Batch 200/469 | Gen/Dis Loss: 1.1370/0.5883\n",
      "Epoch: 020/100 | Batch 300/469 | Gen/Dis Loss: 1.1306/0.5267\n",
      "Epoch: 020/100 | Batch 400/469 | Gen/Dis Loss: 1.4203/0.4824\n",
      "Time elapsed: 4.09 min\n",
      "Epoch: 021/100 | Batch 000/469 | Gen/Dis Loss: 1.1468/0.5482\n",
      "Epoch: 021/100 | Batch 100/469 | Gen/Dis Loss: 0.9530/0.6101\n",
      "Epoch: 021/100 | Batch 200/469 | Gen/Dis Loss: 1.1310/0.5294\n",
      "Epoch: 021/100 | Batch 300/469 | Gen/Dis Loss: 0.9759/0.6017\n",
      "Epoch: 021/100 | Batch 400/469 | Gen/Dis Loss: 1.0787/0.5905\n",
      "Time elapsed: 4.31 min\n",
      "Epoch: 022/100 | Batch 000/469 | Gen/Dis Loss: 1.0696/0.5426\n",
      "Epoch: 022/100 | Batch 100/469 | Gen/Dis Loss: 0.9882/0.5554\n",
      "Epoch: 022/100 | Batch 200/469 | Gen/Dis Loss: 0.9958/0.5572\n",
      "Epoch: 022/100 | Batch 300/469 | Gen/Dis Loss: 1.1832/0.5385\n",
      "Epoch: 022/100 | Batch 400/469 | Gen/Dis Loss: 1.2904/0.5589\n",
      "Time elapsed: 4.55 min\n",
      "Epoch: 023/100 | Batch 000/469 | Gen/Dis Loss: 0.9572/0.5809\n",
      "Epoch: 023/100 | Batch 100/469 | Gen/Dis Loss: 0.9179/0.5986\n",
      "Epoch: 023/100 | Batch 200/469 | Gen/Dis Loss: 0.9488/0.5900\n",
      "Epoch: 023/100 | Batch 300/469 | Gen/Dis Loss: 1.0407/0.5560\n",
      "Epoch: 023/100 | Batch 400/469 | Gen/Dis Loss: 1.3512/0.5442\n",
      "Time elapsed: 4.79 min\n",
      "Epoch: 024/100 | Batch 000/469 | Gen/Dis Loss: 1.1840/0.6484\n",
      "Epoch: 024/100 | Batch 100/469 | Gen/Dis Loss: 1.1996/0.6011\n",
      "Epoch: 024/100 | Batch 200/469 | Gen/Dis Loss: 1.1017/0.5112\n",
      "Epoch: 024/100 | Batch 300/469 | Gen/Dis Loss: 1.0241/0.5999\n",
      "Epoch: 024/100 | Batch 400/469 | Gen/Dis Loss: 1.1327/0.5325\n",
      "Time elapsed: 5.04 min\n",
      "Epoch: 025/100 | Batch 000/469 | Gen/Dis Loss: 1.0342/0.5672\n",
      "Epoch: 025/100 | Batch 100/469 | Gen/Dis Loss: 0.8939/0.5617\n",
      "Epoch: 025/100 | Batch 200/469 | Gen/Dis Loss: 0.9729/0.6117\n",
      "Epoch: 025/100 | Batch 300/469 | Gen/Dis Loss: 0.9589/0.6447\n",
      "Epoch: 025/100 | Batch 400/469 | Gen/Dis Loss: 1.4610/0.5302\n",
      "Time elapsed: 5.25 min\n",
      "Epoch: 026/100 | Batch 000/469 | Gen/Dis Loss: 1.0038/0.5160\n",
      "Epoch: 026/100 | Batch 100/469 | Gen/Dis Loss: 1.1733/0.5434\n",
      "Epoch: 026/100 | Batch 200/469 | Gen/Dis Loss: 1.3599/0.5809\n",
      "Epoch: 026/100 | Batch 300/469 | Gen/Dis Loss: 0.8480/0.6155\n",
      "Epoch: 026/100 | Batch 400/469 | Gen/Dis Loss: 1.4864/0.4897\n",
      "Time elapsed: 5.48 min\n",
      "Epoch: 027/100 | Batch 000/469 | Gen/Dis Loss: 0.9030/0.5860\n",
      "Epoch: 027/100 | Batch 100/469 | Gen/Dis Loss: 1.1043/0.5277\n",
      "Epoch: 027/100 | Batch 200/469 | Gen/Dis Loss: 0.9574/0.5939\n",
      "Epoch: 027/100 | Batch 300/469 | Gen/Dis Loss: 1.0379/0.5460\n",
      "Epoch: 027/100 | Batch 400/469 | Gen/Dis Loss: 0.8172/0.5898\n",
      "Time elapsed: 5.69 min\n",
      "Epoch: 028/100 | Batch 000/469 | Gen/Dis Loss: 1.1094/0.5256\n",
      "Epoch: 028/100 | Batch 100/469 | Gen/Dis Loss: 1.0559/0.5904\n",
      "Epoch: 028/100 | Batch 200/469 | Gen/Dis Loss: 0.9051/0.6414\n",
      "Epoch: 028/100 | Batch 300/469 | Gen/Dis Loss: 1.1645/0.5475\n",
      "Epoch: 028/100 | Batch 400/469 | Gen/Dis Loss: 1.0180/0.5622\n",
      "Time elapsed: 5.91 min\n",
      "Epoch: 029/100 | Batch 000/469 | Gen/Dis Loss: 1.0982/0.5997\n",
      "Epoch: 029/100 | Batch 100/469 | Gen/Dis Loss: 0.9629/0.5879\n",
      "Epoch: 029/100 | Batch 200/469 | Gen/Dis Loss: 0.9076/0.5769\n",
      "Epoch: 029/100 | Batch 300/469 | Gen/Dis Loss: 1.2277/0.5598\n",
      "Epoch: 029/100 | Batch 400/469 | Gen/Dis Loss: 1.1624/0.5365\n",
      "Time elapsed: 6.11 min\n",
      "Epoch: 030/100 | Batch 000/469 | Gen/Dis Loss: 1.2315/0.6021\n",
      "Epoch: 030/100 | Batch 100/469 | Gen/Dis Loss: 0.9686/0.6194\n",
      "Epoch: 030/100 | Batch 200/469 | Gen/Dis Loss: 1.0561/0.5846\n",
      "Epoch: 030/100 | Batch 300/469 | Gen/Dis Loss: 1.0981/0.5803\n",
      "Epoch: 030/100 | Batch 400/469 | Gen/Dis Loss: 0.8582/0.5956\n",
      "Time elapsed: 6.34 min\n",
      "Epoch: 031/100 | Batch 000/469 | Gen/Dis Loss: 1.3425/0.5229\n",
      "Epoch: 031/100 | Batch 100/469 | Gen/Dis Loss: 0.9575/0.5593\n",
      "Epoch: 031/100 | Batch 200/469 | Gen/Dis Loss: 0.9260/0.5978\n",
      "Epoch: 031/100 | Batch 300/469 | Gen/Dis Loss: 0.9323/0.6066\n",
      "Epoch: 031/100 | Batch 400/469 | Gen/Dis Loss: 1.1442/0.5835\n",
      "Time elapsed: 6.54 min\n",
      "Epoch: 032/100 | Batch 000/469 | Gen/Dis Loss: 1.3801/0.5657\n",
      "Epoch: 032/100 | Batch 100/469 | Gen/Dis Loss: 0.8169/0.6057\n",
      "Epoch: 032/100 | Batch 200/469 | Gen/Dis Loss: 0.9113/0.6228\n",
      "Epoch: 032/100 | Batch 300/469 | Gen/Dis Loss: 0.9893/0.5602\n",
      "Epoch: 032/100 | Batch 400/469 | Gen/Dis Loss: 1.0111/0.5802\n",
      "Time elapsed: 6.77 min\n",
      "Epoch: 033/100 | Batch 000/469 | Gen/Dis Loss: 0.8720/0.5803\n",
      "Epoch: 033/100 | Batch 100/469 | Gen/Dis Loss: 1.0094/0.5656\n",
      "Epoch: 033/100 | Batch 200/469 | Gen/Dis Loss: 0.9539/0.5879\n",
      "Epoch: 033/100 | Batch 300/469 | Gen/Dis Loss: 0.9599/0.5688\n",
      "Epoch: 033/100 | Batch 400/469 | Gen/Dis Loss: 1.3850/0.5857\n",
      "Time elapsed: 7.02 min\n",
      "Epoch: 034/100 | Batch 000/469 | Gen/Dis Loss: 0.8792/0.5796\n",
      "Epoch: 034/100 | Batch 100/469 | Gen/Dis Loss: 0.8232/0.6460\n",
      "Epoch: 034/100 | Batch 200/469 | Gen/Dis Loss: 1.1379/0.5846\n",
      "Epoch: 034/100 | Batch 300/469 | Gen/Dis Loss: 0.9232/0.6094\n",
      "Epoch: 034/100 | Batch 400/469 | Gen/Dis Loss: 1.0959/0.6208\n",
      "Time elapsed: 7.25 min\n",
      "Epoch: 035/100 | Batch 000/469 | Gen/Dis Loss: 1.1373/0.5709\n",
      "Epoch: 035/100 | Batch 100/469 | Gen/Dis Loss: 0.8874/0.6248\n",
      "Epoch: 035/100 | Batch 200/469 | Gen/Dis Loss: 0.9056/0.5765\n",
      "Epoch: 035/100 | Batch 300/469 | Gen/Dis Loss: 1.1130/0.6055\n",
      "Epoch: 035/100 | Batch 400/469 | Gen/Dis Loss: 0.9627/0.6587\n",
      "Time elapsed: 7.49 min\n",
      "Epoch: 036/100 | Batch 000/469 | Gen/Dis Loss: 0.8178/0.5952\n",
      "Epoch: 036/100 | Batch 100/469 | Gen/Dis Loss: 0.8416/0.6053\n",
      "Epoch: 036/100 | Batch 200/469 | Gen/Dis Loss: 0.8820/0.6133\n",
      "Epoch: 036/100 | Batch 300/469 | Gen/Dis Loss: 0.8580/0.6191\n",
      "Epoch: 036/100 | Batch 400/469 | Gen/Dis Loss: 1.0142/0.6009\n",
      "Time elapsed: 7.69 min\n",
      "Epoch: 037/100 | Batch 000/469 | Gen/Dis Loss: 0.7809/0.6244\n",
      "Epoch: 037/100 | Batch 100/469 | Gen/Dis Loss: 0.9743/0.5590\n",
      "Epoch: 037/100 | Batch 200/469 | Gen/Dis Loss: 0.8327/0.5932\n",
      "Epoch: 037/100 | Batch 300/469 | Gen/Dis Loss: 0.8744/0.6076\n",
      "Epoch: 037/100 | Batch 400/469 | Gen/Dis Loss: 0.9382/0.6378\n",
      "Time elapsed: 7.93 min\n",
      "Epoch: 038/100 | Batch 000/469 | Gen/Dis Loss: 0.8697/0.6495\n",
      "Epoch: 038/100 | Batch 100/469 | Gen/Dis Loss: 1.0503/0.6030\n",
      "Epoch: 038/100 | Batch 200/469 | Gen/Dis Loss: 0.8235/0.6585\n",
      "Epoch: 038/100 | Batch 300/469 | Gen/Dis Loss: 0.9239/0.6315\n",
      "Epoch: 038/100 | Batch 400/469 | Gen/Dis Loss: 0.7960/0.6314\n",
      "Time elapsed: 8.16 min\n",
      "Epoch: 039/100 | Batch 000/469 | Gen/Dis Loss: 0.8326/0.6530\n",
      "Epoch: 039/100 | Batch 100/469 | Gen/Dis Loss: 0.7643/0.6429\n",
      "Epoch: 039/100 | Batch 200/469 | Gen/Dis Loss: 0.7270/0.6328\n",
      "Epoch: 039/100 | Batch 300/469 | Gen/Dis Loss: 1.3712/0.5792\n",
      "Epoch: 039/100 | Batch 400/469 | Gen/Dis Loss: 0.8928/0.6070\n",
      "Time elapsed: 8.42 min\n",
      "Epoch: 040/100 | Batch 000/469 | Gen/Dis Loss: 0.9620/0.5787\n",
      "Epoch: 040/100 | Batch 100/469 | Gen/Dis Loss: 1.0916/0.5769\n",
      "Epoch: 040/100 | Batch 200/469 | Gen/Dis Loss: 1.1232/0.6285\n",
      "Epoch: 040/100 | Batch 300/469 | Gen/Dis Loss: 0.8525/0.6524\n",
      "Epoch: 040/100 | Batch 400/469 | Gen/Dis Loss: 0.9783/0.6252\n",
      "Time elapsed: 8.64 min\n",
      "Epoch: 041/100 | Batch 000/469 | Gen/Dis Loss: 0.9488/0.5574\n",
      "Epoch: 041/100 | Batch 100/469 | Gen/Dis Loss: 0.9242/0.6050\n",
      "Epoch: 041/100 | Batch 200/469 | Gen/Dis Loss: 0.9447/0.6402\n",
      "Epoch: 041/100 | Batch 300/469 | Gen/Dis Loss: 0.8728/0.6267\n",
      "Epoch: 041/100 | Batch 400/469 | Gen/Dis Loss: 0.9273/0.5865\n",
      "Time elapsed: 8.85 min\n",
      "Epoch: 042/100 | Batch 000/469 | Gen/Dis Loss: 0.7490/0.6812\n",
      "Epoch: 042/100 | Batch 100/469 | Gen/Dis Loss: 0.8127/0.6084\n",
      "Epoch: 042/100 | Batch 200/469 | Gen/Dis Loss: 0.8308/0.6367\n",
      "Epoch: 042/100 | Batch 300/469 | Gen/Dis Loss: 0.7962/0.6566\n",
      "Epoch: 042/100 | Batch 400/469 | Gen/Dis Loss: 1.4659/0.5730\n",
      "Time elapsed: 9.08 min\n",
      "Epoch: 043/100 | Batch 000/469 | Gen/Dis Loss: 1.1201/0.6311\n",
      "Epoch: 043/100 | Batch 100/469 | Gen/Dis Loss: 0.8128/0.6460\n",
      "Epoch: 043/100 | Batch 200/469 | Gen/Dis Loss: 0.8567/0.5978\n",
      "Epoch: 043/100 | Batch 300/469 | Gen/Dis Loss: 0.7823/0.6573\n",
      "Epoch: 043/100 | Batch 400/469 | Gen/Dis Loss: 0.7419/0.6539\n",
      "Time elapsed: 9.33 min\n",
      "Epoch: 044/100 | Batch 000/469 | Gen/Dis Loss: 0.7437/0.6641\n",
      "Epoch: 044/100 | Batch 100/469 | Gen/Dis Loss: 1.0232/0.5778\n",
      "Epoch: 044/100 | Batch 200/469 | Gen/Dis Loss: 0.8897/0.5788\n",
      "Epoch: 044/100 | Batch 300/469 | Gen/Dis Loss: 1.1323/0.5828\n",
      "Epoch: 044/100 | Batch 400/469 | Gen/Dis Loss: 0.8746/0.6311\n",
      "Time elapsed: 9.56 min\n",
      "Epoch: 045/100 | Batch 000/469 | Gen/Dis Loss: 0.8020/0.6247\n",
      "Epoch: 045/100 | Batch 100/469 | Gen/Dis Loss: 0.9846/0.5807\n",
      "Epoch: 045/100 | Batch 200/469 | Gen/Dis Loss: 0.8492/0.6349\n",
      "Epoch: 045/100 | Batch 300/469 | Gen/Dis Loss: 0.9224/0.6573\n",
      "Epoch: 045/100 | Batch 400/469 | Gen/Dis Loss: 0.9209/0.5996\n",
      "Time elapsed: 9.80 min\n",
      "Epoch: 046/100 | Batch 000/469 | Gen/Dis Loss: 0.8332/0.6598\n",
      "Epoch: 046/100 | Batch 100/469 | Gen/Dis Loss: 0.8846/0.6273\n",
      "Epoch: 046/100 | Batch 200/469 | Gen/Dis Loss: 0.8176/0.6147\n",
      "Epoch: 046/100 | Batch 300/469 | Gen/Dis Loss: 0.8477/0.6145\n",
      "Epoch: 046/100 | Batch 400/469 | Gen/Dis Loss: 0.9532/0.5765\n",
      "Time elapsed: 10.03 min\n",
      "Epoch: 047/100 | Batch 000/469 | Gen/Dis Loss: 0.7871/0.6487\n",
      "Epoch: 047/100 | Batch 100/469 | Gen/Dis Loss: 0.8932/0.6317\n",
      "Epoch: 047/100 | Batch 200/469 | Gen/Dis Loss: 0.7984/0.6379\n",
      "Epoch: 047/100 | Batch 300/469 | Gen/Dis Loss: 0.8198/0.6323\n",
      "Epoch: 047/100 | Batch 400/469 | Gen/Dis Loss: 1.0208/0.5895\n",
      "Time elapsed: 10.27 min\n",
      "Epoch: 048/100 | Batch 000/469 | Gen/Dis Loss: 0.8552/0.6434\n",
      "Epoch: 048/100 | Batch 100/469 | Gen/Dis Loss: 0.8886/0.6436\n",
      "Epoch: 048/100 | Batch 200/469 | Gen/Dis Loss: 0.9072/0.6061\n",
      "Epoch: 048/100 | Batch 300/469 | Gen/Dis Loss: 0.9447/0.6791\n",
      "Epoch: 048/100 | Batch 400/469 | Gen/Dis Loss: 0.7883/0.6480\n",
      "Time elapsed: 10.48 min\n",
      "Epoch: 049/100 | Batch 000/469 | Gen/Dis Loss: 0.8265/0.6202\n",
      "Epoch: 049/100 | Batch 100/469 | Gen/Dis Loss: 0.8176/0.6464\n",
      "Epoch: 049/100 | Batch 200/469 | Gen/Dis Loss: 0.7235/0.6404\n",
      "Epoch: 049/100 | Batch 300/469 | Gen/Dis Loss: 0.8794/0.6152\n",
      "Epoch: 049/100 | Batch 400/469 | Gen/Dis Loss: 0.7694/0.6427\n",
      "Time elapsed: 10.74 min\n",
      "Epoch: 050/100 | Batch 000/469 | Gen/Dis Loss: 0.7295/0.6389\n",
      "Epoch: 050/100 | Batch 100/469 | Gen/Dis Loss: 0.9543/0.6071\n",
      "Epoch: 050/100 | Batch 200/469 | Gen/Dis Loss: 0.8134/0.6282\n",
      "Epoch: 050/100 | Batch 300/469 | Gen/Dis Loss: 0.8284/0.6722\n"
     ]
    },
    {
     "name": "stdout",
     "output_type": "stream",
     "text": [
      "Epoch: 050/100 | Batch 400/469 | Gen/Dis Loss: 0.8386/0.6264\n",
      "Time elapsed: 10.96 min\n",
      "Epoch: 051/100 | Batch 000/469 | Gen/Dis Loss: 0.7738/0.6598\n",
      "Epoch: 051/100 | Batch 100/469 | Gen/Dis Loss: 0.7897/0.6525\n",
      "Epoch: 051/100 | Batch 200/469 | Gen/Dis Loss: 1.0262/0.6191\n",
      "Epoch: 051/100 | Batch 300/469 | Gen/Dis Loss: 0.8058/0.6210\n",
      "Epoch: 051/100 | Batch 400/469 | Gen/Dis Loss: 0.8964/0.6628\n",
      "Time elapsed: 11.20 min\n",
      "Epoch: 052/100 | Batch 000/469 | Gen/Dis Loss: 0.7546/0.6437\n",
      "Epoch: 052/100 | Batch 100/469 | Gen/Dis Loss: 0.8014/0.6632\n",
      "Epoch: 052/100 | Batch 200/469 | Gen/Dis Loss: 0.8867/0.6125\n",
      "Epoch: 052/100 | Batch 300/469 | Gen/Dis Loss: 0.8593/0.6246\n",
      "Epoch: 052/100 | Batch 400/469 | Gen/Dis Loss: 1.0143/0.6210\n",
      "Time elapsed: 11.46 min\n",
      "Epoch: 053/100 | Batch 000/469 | Gen/Dis Loss: 0.8539/0.6260\n",
      "Epoch: 053/100 | Batch 100/469 | Gen/Dis Loss: 0.7258/0.6664\n",
      "Epoch: 053/100 | Batch 200/469 | Gen/Dis Loss: 0.8724/0.6416\n",
      "Epoch: 053/100 | Batch 300/469 | Gen/Dis Loss: 0.8666/0.6325\n",
      "Epoch: 053/100 | Batch 400/469 | Gen/Dis Loss: 1.1027/0.6079\n",
      "Time elapsed: 11.75 min\n",
      "Epoch: 054/100 | Batch 000/469 | Gen/Dis Loss: 0.8014/0.6610\n",
      "Epoch: 054/100 | Batch 100/469 | Gen/Dis Loss: 0.7267/0.6432\n",
      "Epoch: 054/100 | Batch 200/469 | Gen/Dis Loss: 0.9097/0.6240\n",
      "Epoch: 054/100 | Batch 300/469 | Gen/Dis Loss: 0.7457/0.6150\n",
      "Epoch: 054/100 | Batch 400/469 | Gen/Dis Loss: 0.9077/0.6315\n",
      "Time elapsed: 11.98 min\n",
      "Epoch: 055/100 | Batch 000/469 | Gen/Dis Loss: 0.8604/0.6533\n",
      "Epoch: 055/100 | Batch 100/469 | Gen/Dis Loss: 0.8062/0.6420\n",
      "Epoch: 055/100 | Batch 200/469 | Gen/Dis Loss: 0.8209/0.6615\n",
      "Epoch: 055/100 | Batch 300/469 | Gen/Dis Loss: 0.8918/0.6377\n",
      "Epoch: 055/100 | Batch 400/469 | Gen/Dis Loss: 0.9119/0.6437\n",
      "Time elapsed: 12.23 min\n",
      "Epoch: 056/100 | Batch 000/469 | Gen/Dis Loss: 0.7633/0.6261\n",
      "Epoch: 056/100 | Batch 100/469 | Gen/Dis Loss: 0.6655/0.6866\n",
      "Epoch: 056/100 | Batch 200/469 | Gen/Dis Loss: 0.7852/0.6559\n",
      "Epoch: 056/100 | Batch 300/469 | Gen/Dis Loss: 0.8242/0.6614\n",
      "Epoch: 056/100 | Batch 400/469 | Gen/Dis Loss: 0.8658/0.6213\n",
      "Time elapsed: 12.48 min\n",
      "Epoch: 057/100 | Batch 000/469 | Gen/Dis Loss: 0.8262/0.6221\n",
      "Epoch: 057/100 | Batch 100/469 | Gen/Dis Loss: 1.0824/0.6364\n",
      "Epoch: 057/100 | Batch 200/469 | Gen/Dis Loss: 0.9147/0.6439\n",
      "Epoch: 057/100 | Batch 300/469 | Gen/Dis Loss: 0.8846/0.6504\n",
      "Epoch: 057/100 | Batch 400/469 | Gen/Dis Loss: 0.8016/0.6304\n",
      "Time elapsed: 12.73 min\n",
      "Epoch: 058/100 | Batch 000/469 | Gen/Dis Loss: 0.8156/0.6550\n",
      "Epoch: 058/100 | Batch 100/469 | Gen/Dis Loss: 0.8336/0.6293\n",
      "Epoch: 058/100 | Batch 200/469 | Gen/Dis Loss: 0.8739/0.6302\n",
      "Epoch: 058/100 | Batch 300/469 | Gen/Dis Loss: 0.7949/0.6394\n",
      "Epoch: 058/100 | Batch 400/469 | Gen/Dis Loss: 1.0678/0.6345\n",
      "Time elapsed: 12.96 min\n",
      "Epoch: 059/100 | Batch 000/469 | Gen/Dis Loss: 0.9281/0.6529\n",
      "Epoch: 059/100 | Batch 100/469 | Gen/Dis Loss: 1.0390/0.5976\n",
      "Epoch: 059/100 | Batch 200/469 | Gen/Dis Loss: 0.8520/0.6345\n",
      "Epoch: 059/100 | Batch 300/469 | Gen/Dis Loss: 0.7449/0.6629\n",
      "Epoch: 059/100 | Batch 400/469 | Gen/Dis Loss: 0.9793/0.6175\n",
      "Time elapsed: 13.21 min\n",
      "Epoch: 060/100 | Batch 000/469 | Gen/Dis Loss: 0.8872/0.6448\n",
      "Epoch: 060/100 | Batch 100/469 | Gen/Dis Loss: 0.8577/0.6347\n",
      "Epoch: 060/100 | Batch 200/469 | Gen/Dis Loss: 0.7144/0.6646\n",
      "Epoch: 060/100 | Batch 300/469 | Gen/Dis Loss: 0.8494/0.6390\n",
      "Epoch: 060/100 | Batch 400/469 | Gen/Dis Loss: 0.8207/0.6161\n",
      "Time elapsed: 13.45 min\n",
      "Epoch: 061/100 | Batch 000/469 | Gen/Dis Loss: 0.8034/0.6211\n",
      "Epoch: 061/100 | Batch 100/469 | Gen/Dis Loss: 0.9030/0.6405\n",
      "Epoch: 061/100 | Batch 200/469 | Gen/Dis Loss: 1.1420/0.6369\n",
      "Epoch: 061/100 | Batch 300/469 | Gen/Dis Loss: 0.7998/0.6654\n",
      "Epoch: 061/100 | Batch 400/469 | Gen/Dis Loss: 0.8823/0.6318\n",
      "Time elapsed: 13.69 min\n",
      "Epoch: 062/100 | Batch 000/469 | Gen/Dis Loss: 0.8928/0.6329\n",
      "Epoch: 062/100 | Batch 100/469 | Gen/Dis Loss: 1.0672/0.5925\n",
      "Epoch: 062/100 | Batch 200/469 | Gen/Dis Loss: 0.9199/0.6389\n",
      "Epoch: 062/100 | Batch 300/469 | Gen/Dis Loss: 0.9460/0.6272\n",
      "Epoch: 062/100 | Batch 400/469 | Gen/Dis Loss: 0.7696/0.6317\n",
      "Time elapsed: 13.92 min\n",
      "Epoch: 063/100 | Batch 000/469 | Gen/Dis Loss: 0.8032/0.6188\n",
      "Epoch: 063/100 | Batch 100/469 | Gen/Dis Loss: 0.8523/0.6255\n",
      "Epoch: 063/100 | Batch 200/469 | Gen/Dis Loss: 0.8331/0.6165\n",
      "Epoch: 063/100 | Batch 300/469 | Gen/Dis Loss: 0.9053/0.6025\n",
      "Epoch: 063/100 | Batch 400/469 | Gen/Dis Loss: 0.7981/0.6805\n",
      "Time elapsed: 14.16 min\n",
      "Epoch: 064/100 | Batch 000/469 | Gen/Dis Loss: 0.9514/0.6040\n",
      "Epoch: 064/100 | Batch 100/469 | Gen/Dis Loss: 0.8829/0.6090\n",
      "Epoch: 064/100 | Batch 200/469 | Gen/Dis Loss: 0.9718/0.6152\n",
      "Epoch: 064/100 | Batch 300/469 | Gen/Dis Loss: 0.8870/0.6212\n",
      "Epoch: 064/100 | Batch 400/469 | Gen/Dis Loss: 0.8058/0.6274\n",
      "Time elapsed: 14.37 min\n",
      "Epoch: 065/100 | Batch 000/469 | Gen/Dis Loss: 1.0966/0.6199\n",
      "Epoch: 065/100 | Batch 100/469 | Gen/Dis Loss: 0.9423/0.6327\n",
      "Epoch: 065/100 | Batch 200/469 | Gen/Dis Loss: 0.9604/0.6319\n",
      "Epoch: 065/100 | Batch 300/469 | Gen/Dis Loss: 0.9357/0.7044\n",
      "Epoch: 065/100 | Batch 400/469 | Gen/Dis Loss: 0.7764/0.6162\n",
      "Time elapsed: 14.61 min\n",
      "Epoch: 066/100 | Batch 000/469 | Gen/Dis Loss: 0.8263/0.6414\n",
      "Epoch: 066/100 | Batch 100/469 | Gen/Dis Loss: 0.8937/0.6359\n",
      "Epoch: 066/100 | Batch 200/469 | Gen/Dis Loss: 0.9016/0.5980\n",
      "Epoch: 066/100 | Batch 300/469 | Gen/Dis Loss: 1.0026/0.6003\n",
      "Epoch: 066/100 | Batch 400/469 | Gen/Dis Loss: 1.0411/0.5995\n",
      "Time elapsed: 14.83 min\n",
      "Epoch: 067/100 | Batch 000/469 | Gen/Dis Loss: 0.8075/0.6471\n",
      "Epoch: 067/100 | Batch 100/469 | Gen/Dis Loss: 0.7602/0.6657\n",
      "Epoch: 067/100 | Batch 200/469 | Gen/Dis Loss: 0.8805/0.6219\n",
      "Epoch: 067/100 | Batch 300/469 | Gen/Dis Loss: 0.8166/0.6294\n",
      "Epoch: 067/100 | Batch 400/469 | Gen/Dis Loss: 0.8649/0.6536\n",
      "Time elapsed: 15.06 min\n",
      "Epoch: 068/100 | Batch 000/469 | Gen/Dis Loss: 0.8024/0.6385\n",
      "Epoch: 068/100 | Batch 100/469 | Gen/Dis Loss: 0.7368/0.6687\n",
      "Epoch: 068/100 | Batch 200/469 | Gen/Dis Loss: 0.7788/0.6443\n",
      "Epoch: 068/100 | Batch 300/469 | Gen/Dis Loss: 0.8080/0.6618\n",
      "Epoch: 068/100 | Batch 400/469 | Gen/Dis Loss: 0.9293/0.6562\n",
      "Time elapsed: 15.35 min\n",
      "Epoch: 069/100 | Batch 000/469 | Gen/Dis Loss: 0.8477/0.6086\n",
      "Epoch: 069/100 | Batch 100/469 | Gen/Dis Loss: 0.9098/0.6121\n",
      "Epoch: 069/100 | Batch 200/469 | Gen/Dis Loss: 0.7648/0.6389\n",
      "Epoch: 069/100 | Batch 300/469 | Gen/Dis Loss: 0.9560/0.6190\n",
      "Epoch: 069/100 | Batch 400/469 | Gen/Dis Loss: 0.8296/0.5983\n",
      "Time elapsed: 15.55 min\n",
      "Epoch: 070/100 | Batch 000/469 | Gen/Dis Loss: 0.7523/0.6666\n",
      "Epoch: 070/100 | Batch 100/469 | Gen/Dis Loss: 0.7846/0.6529\n",
      "Epoch: 070/100 | Batch 200/469 | Gen/Dis Loss: 0.9757/0.6385\n",
      "Epoch: 070/100 | Batch 300/469 | Gen/Dis Loss: 1.1968/0.6099\n",
      "Epoch: 070/100 | Batch 400/469 | Gen/Dis Loss: 0.7996/0.6532\n",
      "Time elapsed: 15.79 min\n",
      "Epoch: 071/100 | Batch 000/469 | Gen/Dis Loss: 0.8963/0.6730\n",
      "Epoch: 071/100 | Batch 100/469 | Gen/Dis Loss: 1.0414/0.6217\n",
      "Epoch: 071/100 | Batch 200/469 | Gen/Dis Loss: 0.6961/0.6473\n",
      "Epoch: 071/100 | Batch 300/469 | Gen/Dis Loss: 0.8585/0.6967\n",
      "Epoch: 071/100 | Batch 400/469 | Gen/Dis Loss: 0.9822/0.6616\n",
      "Time elapsed: 16.00 min\n",
      "Epoch: 072/100 | Batch 000/469 | Gen/Dis Loss: 0.8398/0.6352\n",
      "Epoch: 072/100 | Batch 100/469 | Gen/Dis Loss: 0.9294/0.6267\n",
      "Epoch: 072/100 | Batch 200/469 | Gen/Dis Loss: 0.8173/0.6460\n",
      "Epoch: 072/100 | Batch 300/469 | Gen/Dis Loss: 0.8092/0.5969\n",
      "Epoch: 072/100 | Batch 400/469 | Gen/Dis Loss: 0.8368/0.6070\n",
      "Time elapsed: 16.26 min\n",
      "Epoch: 073/100 | Batch 000/469 | Gen/Dis Loss: 0.8562/0.6346\n",
      "Epoch: 073/100 | Batch 100/469 | Gen/Dis Loss: 0.8194/0.6662\n",
      "Epoch: 073/100 | Batch 200/469 | Gen/Dis Loss: 0.8147/0.6533\n",
      "Epoch: 073/100 | Batch 300/469 | Gen/Dis Loss: 0.8100/0.6370\n",
      "Epoch: 073/100 | Batch 400/469 | Gen/Dis Loss: 0.7502/0.6730\n",
      "Time elapsed: 16.50 min\n",
      "Epoch: 074/100 | Batch 000/469 | Gen/Dis Loss: 0.9910/0.6028\n",
      "Epoch: 074/100 | Batch 100/469 | Gen/Dis Loss: 0.8630/0.6215\n",
      "Epoch: 074/100 | Batch 200/469 | Gen/Dis Loss: 0.7791/0.6552\n",
      "Epoch: 074/100 | Batch 300/469 | Gen/Dis Loss: 0.7393/0.6499\n",
      "Epoch: 074/100 | Batch 400/469 | Gen/Dis Loss: 0.7767/0.6400\n",
      "Time elapsed: 16.76 min\n",
      "Epoch: 075/100 | Batch 000/469 | Gen/Dis Loss: 0.8337/0.6043\n",
      "Epoch: 075/100 | Batch 100/469 | Gen/Dis Loss: 0.7942/0.6237\n",
      "Epoch: 075/100 | Batch 200/469 | Gen/Dis Loss: 0.7966/0.6378\n",
      "Epoch: 075/100 | Batch 300/469 | Gen/Dis Loss: 0.8452/0.6111\n",
      "Epoch: 075/100 | Batch 400/469 | Gen/Dis Loss: 0.8375/0.6285\n",
      "Time elapsed: 17.00 min\n",
      "Epoch: 076/100 | Batch 000/469 | Gen/Dis Loss: 0.9601/0.6112\n",
      "Epoch: 076/100 | Batch 100/469 | Gen/Dis Loss: 0.8372/0.6297\n",
      "Epoch: 076/100 | Batch 200/469 | Gen/Dis Loss: 0.8599/0.6622\n",
      "Epoch: 076/100 | Batch 300/469 | Gen/Dis Loss: 0.8358/0.6348\n",
      "Epoch: 076/100 | Batch 400/469 | Gen/Dis Loss: 0.8049/0.6253\n",
      "Time elapsed: 17.22 min\n",
      "Epoch: 077/100 | Batch 000/469 | Gen/Dis Loss: 0.8975/0.6311\n",
      "Epoch: 077/100 | Batch 100/469 | Gen/Dis Loss: 0.8132/0.6238\n",
      "Epoch: 077/100 | Batch 200/469 | Gen/Dis Loss: 0.7812/0.6634\n",
      "Epoch: 077/100 | Batch 300/469 | Gen/Dis Loss: 0.9771/0.6255\n",
      "Epoch: 077/100 | Batch 400/469 | Gen/Dis Loss: 0.8582/0.6255\n",
      "Time elapsed: 17.48 min\n",
      "Epoch: 078/100 | Batch 000/469 | Gen/Dis Loss: 0.8319/0.6560\n",
      "Epoch: 078/100 | Batch 100/469 | Gen/Dis Loss: 0.9870/0.5862\n",
      "Epoch: 078/100 | Batch 200/469 | Gen/Dis Loss: 1.1849/0.5715\n",
      "Epoch: 078/100 | Batch 300/469 | Gen/Dis Loss: 1.1314/0.6836\n",
      "Epoch: 078/100 | Batch 400/469 | Gen/Dis Loss: 0.7721/0.6525\n",
      "Time elapsed: 17.72 min\n",
      "Epoch: 079/100 | Batch 000/469 | Gen/Dis Loss: 0.7220/0.6426\n",
      "Epoch: 079/100 | Batch 100/469 | Gen/Dis Loss: 0.7230/0.6273\n",
      "Epoch: 079/100 | Batch 200/469 | Gen/Dis Loss: 1.1738/0.6662\n",
      "Epoch: 079/100 | Batch 300/469 | Gen/Dis Loss: 0.9005/0.6252\n",
      "Epoch: 079/100 | Batch 400/469 | Gen/Dis Loss: 0.7750/0.6464\n",
      "Time elapsed: 18.00 min\n",
      "Epoch: 080/100 | Batch 000/469 | Gen/Dis Loss: 0.8295/0.6295\n",
      "Epoch: 080/100 | Batch 100/469 | Gen/Dis Loss: 0.8663/0.6554\n",
      "Epoch: 080/100 | Batch 200/469 | Gen/Dis Loss: 0.8364/0.6609\n",
      "Epoch: 080/100 | Batch 300/469 | Gen/Dis Loss: 0.7880/0.6376\n",
      "Epoch: 080/100 | Batch 400/469 | Gen/Dis Loss: 0.8634/0.6717\n",
      "Time elapsed: 18.42 min\n",
      "Epoch: 081/100 | Batch 000/469 | Gen/Dis Loss: 0.7117/0.6424\n",
      "Epoch: 081/100 | Batch 100/469 | Gen/Dis Loss: 0.8929/0.6514\n",
      "Epoch: 081/100 | Batch 200/469 | Gen/Dis Loss: 0.8996/0.6247\n",
      "Epoch: 081/100 | Batch 300/469 | Gen/Dis Loss: 0.8245/0.6668\n",
      "Epoch: 081/100 | Batch 400/469 | Gen/Dis Loss: 0.7557/0.6659\n",
      "Time elapsed: 18.63 min\n",
      "Epoch: 082/100 | Batch 000/469 | Gen/Dis Loss: 1.2211/0.6186\n",
      "Epoch: 082/100 | Batch 100/469 | Gen/Dis Loss: 0.8101/0.6184\n",
      "Epoch: 082/100 | Batch 200/469 | Gen/Dis Loss: 0.7458/0.6828\n",
      "Epoch: 082/100 | Batch 300/469 | Gen/Dis Loss: 0.9857/0.6592\n",
      "Epoch: 082/100 | Batch 400/469 | Gen/Dis Loss: 1.1430/0.6307\n",
      "Time elapsed: 18.84 min\n",
      "Epoch: 083/100 | Batch 000/469 | Gen/Dis Loss: 0.8097/0.6529\n",
      "Epoch: 083/100 | Batch 100/469 | Gen/Dis Loss: 0.8299/0.6105\n",
      "Epoch: 083/100 | Batch 200/469 | Gen/Dis Loss: 0.8595/0.6670\n",
      "Epoch: 083/100 | Batch 300/469 | Gen/Dis Loss: 0.8077/0.6430\n",
      "Epoch: 083/100 | Batch 400/469 | Gen/Dis Loss: 1.0253/0.6076\n",
      "Time elapsed: 19.05 min\n",
      "Epoch: 084/100 | Batch 000/469 | Gen/Dis Loss: 0.7838/0.6275\n",
      "Epoch: 084/100 | Batch 100/469 | Gen/Dis Loss: 0.8083/0.6147\n",
      "Epoch: 084/100 | Batch 200/469 | Gen/Dis Loss: 0.7782/0.6396\n",
      "Epoch: 084/100 | Batch 300/469 | Gen/Dis Loss: 0.8773/0.6287\n",
      "Epoch: 084/100 | Batch 400/469 | Gen/Dis Loss: 0.9187/0.6337\n",
      "Time elapsed: 19.26 min\n",
      "Epoch: 085/100 | Batch 000/469 | Gen/Dis Loss: 0.9819/0.6251\n",
      "Epoch: 085/100 | Batch 100/469 | Gen/Dis Loss: 0.7306/0.6554\n",
      "Epoch: 085/100 | Batch 200/469 | Gen/Dis Loss: 0.8541/0.6376\n",
      "Epoch: 085/100 | Batch 300/469 | Gen/Dis Loss: 0.7771/0.6319\n",
      "Epoch: 085/100 | Batch 400/469 | Gen/Dis Loss: 0.7148/0.6602\n",
      "Time elapsed: 19.48 min\n",
      "Epoch: 086/100 | Batch 000/469 | Gen/Dis Loss: 1.0560/0.5908\n",
      "Epoch: 086/100 | Batch 100/469 | Gen/Dis Loss: 0.8637/0.6590\n",
      "Epoch: 086/100 | Batch 200/469 | Gen/Dis Loss: 0.7408/0.6439\n",
      "Epoch: 086/100 | Batch 300/469 | Gen/Dis Loss: 0.7907/0.6256\n",
      "Epoch: 086/100 | Batch 400/469 | Gen/Dis Loss: 0.7978/0.6680\n",
      "Time elapsed: 19.69 min\n",
      "Epoch: 087/100 | Batch 000/469 | Gen/Dis Loss: 1.1564/0.6111\n",
      "Epoch: 087/100 | Batch 100/469 | Gen/Dis Loss: 0.7237/0.6324\n",
      "Epoch: 087/100 | Batch 200/469 | Gen/Dis Loss: 0.7677/0.6681\n",
      "Epoch: 087/100 | Batch 300/469 | Gen/Dis Loss: 0.8510/0.6370\n",
      "Epoch: 087/100 | Batch 400/469 | Gen/Dis Loss: 0.8028/0.6308\n",
      "Time elapsed: 19.90 min\n",
      "Epoch: 088/100 | Batch 000/469 | Gen/Dis Loss: 0.7685/0.6658\n",
      "Epoch: 088/100 | Batch 100/469 | Gen/Dis Loss: 0.8040/0.6579\n",
      "Epoch: 088/100 | Batch 200/469 | Gen/Dis Loss: 0.8205/0.6542\n",
      "Epoch: 088/100 | Batch 300/469 | Gen/Dis Loss: 0.8986/0.6516\n",
      "Epoch: 088/100 | Batch 400/469 | Gen/Dis Loss: 0.7769/0.6236\n",
      "Time elapsed: 20.12 min\n",
      "Epoch: 089/100 | Batch 000/469 | Gen/Dis Loss: 0.8783/0.5702\n",
      "Epoch: 089/100 | Batch 100/469 | Gen/Dis Loss: 0.8150/0.6399\n",
      "Epoch: 089/100 | Batch 200/469 | Gen/Dis Loss: 0.9573/0.6198\n",
      "Epoch: 089/100 | Batch 300/469 | Gen/Dis Loss: 0.8865/0.6421\n",
      "Epoch: 089/100 | Batch 400/469 | Gen/Dis Loss: 0.9520/0.6323\n",
      "Time elapsed: 20.33 min\n",
      "Epoch: 090/100 | Batch 000/469 | Gen/Dis Loss: 0.7949/0.6935\n",
      "Epoch: 090/100 | Batch 100/469 | Gen/Dis Loss: 0.8458/0.6471\n",
      "Epoch: 090/100 | Batch 200/469 | Gen/Dis Loss: 0.8740/0.6185\n",
      "Epoch: 090/100 | Batch 300/469 | Gen/Dis Loss: 0.8003/0.6347\n",
      "Epoch: 090/100 | Batch 400/469 | Gen/Dis Loss: 0.7020/0.6729\n",
      "Time elapsed: 20.55 min\n",
      "Epoch: 091/100 | Batch 000/469 | Gen/Dis Loss: 0.6975/0.6452\n",
      "Epoch: 091/100 | Batch 100/469 | Gen/Dis Loss: 0.8379/0.6660\n",
      "Epoch: 091/100 | Batch 200/469 | Gen/Dis Loss: 0.7840/0.6381\n",
      "Epoch: 091/100 | Batch 300/469 | Gen/Dis Loss: 0.7874/0.6217\n",
      "Epoch: 091/100 | Batch 400/469 | Gen/Dis Loss: 0.9426/0.6304\n",
      "Time elapsed: 20.77 min\n",
      "Epoch: 092/100 | Batch 000/469 | Gen/Dis Loss: 0.8998/0.6600\n",
      "Epoch: 092/100 | Batch 100/469 | Gen/Dis Loss: 0.9038/0.6546\n",
      "Epoch: 092/100 | Batch 200/469 | Gen/Dis Loss: 0.9421/0.6394\n",
      "Epoch: 092/100 | Batch 300/469 | Gen/Dis Loss: 0.8497/0.6253\n",
      "Epoch: 092/100 | Batch 400/469 | Gen/Dis Loss: 0.8662/0.6154\n",
      "Time elapsed: 20.99 min\n",
      "Epoch: 093/100 | Batch 000/469 | Gen/Dis Loss: 0.8021/0.6363\n",
      "Epoch: 093/100 | Batch 100/469 | Gen/Dis Loss: 0.8512/0.6426\n",
      "Epoch: 093/100 | Batch 200/469 | Gen/Dis Loss: 0.9419/0.6552\n",
      "Epoch: 093/100 | Batch 300/469 | Gen/Dis Loss: 0.8228/0.6503\n",
      "Epoch: 093/100 | Batch 400/469 | Gen/Dis Loss: 0.7939/0.6657\n",
      "Time elapsed: 21.21 min\n",
      "Epoch: 094/100 | Batch 000/469 | Gen/Dis Loss: 0.9474/0.6177\n",
      "Epoch: 094/100 | Batch 100/469 | Gen/Dis Loss: 0.8332/0.6538\n",
      "Epoch: 094/100 | Batch 200/469 | Gen/Dis Loss: 0.8632/0.6420\n",
      "Epoch: 094/100 | Batch 300/469 | Gen/Dis Loss: 0.8193/0.6417\n",
      "Epoch: 094/100 | Batch 400/469 | Gen/Dis Loss: 0.8336/0.6086\n",
      "Time elapsed: 21.43 min\n",
      "Epoch: 095/100 | Batch 000/469 | Gen/Dis Loss: 0.8405/0.5922\n",
      "Epoch: 095/100 | Batch 100/469 | Gen/Dis Loss: 0.7253/0.7023\n",
      "Epoch: 095/100 | Batch 200/469 | Gen/Dis Loss: 1.0668/0.6835\n",
      "Epoch: 095/100 | Batch 300/469 | Gen/Dis Loss: 0.7982/0.6697\n",
      "Epoch: 095/100 | Batch 400/469 | Gen/Dis Loss: 0.8610/0.6149\n",
      "Time elapsed: 21.65 min\n",
      "Epoch: 096/100 | Batch 000/469 | Gen/Dis Loss: 0.8360/0.6345\n",
      "Epoch: 096/100 | Batch 100/469 | Gen/Dis Loss: 0.8215/0.6148\n",
      "Epoch: 096/100 | Batch 200/469 | Gen/Dis Loss: 0.8496/0.6280\n",
      "Epoch: 096/100 | Batch 300/469 | Gen/Dis Loss: 0.8134/0.6545\n",
      "Epoch: 096/100 | Batch 400/469 | Gen/Dis Loss: 0.8732/0.6463\n",
      "Time elapsed: 21.87 min\n",
      "Epoch: 097/100 | Batch 000/469 | Gen/Dis Loss: 0.8341/0.6405\n",
      "Epoch: 097/100 | Batch 100/469 | Gen/Dis Loss: 0.8049/0.6499\n",
      "Epoch: 097/100 | Batch 200/469 | Gen/Dis Loss: 0.6979/0.6609\n",
      "Epoch: 097/100 | Batch 300/469 | Gen/Dis Loss: 0.8193/0.6505\n",
      "Epoch: 097/100 | Batch 400/469 | Gen/Dis Loss: 0.8594/0.6040\n",
      "Time elapsed: 22.15 min\n",
      "Epoch: 098/100 | Batch 000/469 | Gen/Dis Loss: 0.8453/0.6326\n",
      "Epoch: 098/100 | Batch 100/469 | Gen/Dis Loss: 0.8277/0.6393\n",
      "Epoch: 098/100 | Batch 200/469 | Gen/Dis Loss: 0.7473/0.6400\n",
      "Epoch: 098/100 | Batch 300/469 | Gen/Dis Loss: 0.8403/0.6336\n",
      "Epoch: 098/100 | Batch 400/469 | Gen/Dis Loss: 0.8817/0.6329\n",
      "Time elapsed: 22.41 min\n",
      "Epoch: 099/100 | Batch 000/469 | Gen/Dis Loss: 0.8962/0.6441\n",
      "Epoch: 099/100 | Batch 100/469 | Gen/Dis Loss: 0.8487/0.6575\n",
      "Epoch: 099/100 | Batch 200/469 | Gen/Dis Loss: 0.7715/0.6383\n",
      "Epoch: 099/100 | Batch 300/469 | Gen/Dis Loss: 0.7481/0.6080\n",
      "Epoch: 099/100 | Batch 400/469 | Gen/Dis Loss: 0.8113/0.6272\n",
      "Time elapsed: 22.62 min\n",
      "Epoch: 100/100 | Batch 000/469 | Gen/Dis Loss: 0.9436/0.6348\n",
      "Epoch: 100/100 | Batch 100/469 | Gen/Dis Loss: 0.8433/0.6371\n"
     ]
    },
    {
     "name": "stdout",
     "output_type": "stream",
     "text": [
      "Epoch: 100/100 | Batch 200/469 | Gen/Dis Loss: 0.8108/0.6150\n",
      "Epoch: 100/100 | Batch 300/469 | Gen/Dis Loss: 0.8266/0.6527\n",
      "Epoch: 100/100 | Batch 400/469 | Gen/Dis Loss: 0.8515/0.6409\n",
      "Time elapsed: 22.84 min\n",
      "Total Training Time: 22.84 min\n"
     ]
    }
   ],
   "source": [
    "##########################\n",
    "### Training\n",
    "##########################\n",
    "\n",
    "start_time = time.time()    \n",
    "\n",
    "discr_costs = []\n",
    "gener_costs = []\n",
    "for epoch in range(NUM_EPOCHS):\n",
    "    model = model.train()\n",
    "    for batch_idx, (features, targets) in enumerate(train_loader):\n",
    "\n",
    "        features = (features - 0.5) * 2.0  # normalize between [-1, 1]\n",
    "        features = features.view(-1, IMG_SIZE).to(device) \n",
    "        targets = targets.to(device)\n",
    "\n",
    "        # generate fake and real labels\n",
    "        valid = torch.ones(targets.size(0)).float().to(device)\n",
    "        fake = torch.zeros(targets.size(0)).float().to(device)\n",
    "        \n",
    "        ### FORWARD PASS AND BACKPROPAGATION\n",
    "        \n",
    "        # --------------------------\n",
    "        # Train Generator\n",
    "        # --------------------------\n",
    "        \n",
    "        # Make new images\n",
    "        z = torch.zeros((targets.size(0), LATENT_DIM)).uniform_(-1.0, 1.0).to(device) # can also use Gaussian\n",
    "        generated_features = model.generator_forward(z)\n",
    "        \n",
    "        # Loss for fooling the discriminator\n",
    "        discr_pred = model.discriminator_forward(generated_features)\n",
    "        \n",
    "        # here we use the `valid` labels because we want the discriminator to \"think\"\n",
    "        # the generated samples are real\n",
    "        gener_loss = F.binary_cross_entropy(discr_pred, valid)\n",
    "        \n",
    "        optim_gener.zero_grad()\n",
    "        gener_loss.backward()\n",
    "        optim_gener.step()\n",
    "        \n",
    "        # --------------------------\n",
    "        # Train Discriminator\n",
    "        # --------------------------        \n",
    "        \n",
    "        discr_pred_real = model.discriminator_forward(features.view(-1, IMG_SIZE))\n",
    "        real_loss = F.binary_cross_entropy(discr_pred_real, valid)\n",
    "        \n",
    "        # here we use the `fake` labels when training the discriminator\n",
    "        discr_pred_fake = model.discriminator_forward(generated_features.detach())\n",
    "        fake_loss = F.binary_cross_entropy(discr_pred_fake, fake)\n",
    "        \n",
    "        discr_loss = 0.5 * (real_loss + fake_loss)\n",
    "\n",
    "        optim_discr.zero_grad()\n",
    "        discr_loss.backward()\n",
    "        optim_discr.step()        \n",
    "        \n",
    "        discr_costs.append(discr_loss)\n",
    "        gener_costs.append(gener_loss)\n",
    "        \n",
    "        \n",
    "        ### LOGGING\n",
    "        if not batch_idx % 100:\n",
    "            print ('Epoch: %03d/%03d | Batch %03d/%03d | Gen/Dis Loss: %.4f/%.4f' \n",
    "                   %(epoch+1, NUM_EPOCHS, batch_idx, \n",
    "                     len(train_loader), gener_loss, discr_loss))\n",
    "\n",
    "    print('Time elapsed: %.2f min' % ((time.time() - start_time)/60))\n",
    "    \n",
    "print('Total Training Time: %.2f min' % ((time.time() - start_time)/60))"
   ]
  },
  {
   "cell_type": "code",
   "execution_count": 7,
   "metadata": {
    "slideshow": {
     "slide_type": "skip"
    }
   },
   "outputs": [
    {
     "data": {
      "text/plain": [
       "(-2344.9500000000003, 49243.95)"
      ]
     },
     "execution_count": 7,
     "metadata": {},
     "output_type": "execute_result"
    },
    {
     "data": {
      "image/png": "[encoded data removed]",
      "text/plain": [
       "<Figure size 432x288 with 2 Axes>"
      ]
     },
     "metadata": {
      "needs_background": "light"
     },
     "output_type": "display_data"
    }
   ],
   "source": [
    "##########################\n",
    "### Evaluation\n",
    "##########################\n",
    "\n",
    "ax1 = plt.subplot(1, 1, 1)\n",
    "ax1.plot(range(len(gener_costs)), gener_costs, label='Generator loss')\n",
    "ax1.plot(range(len(discr_costs)), discr_costs, label='Discriminator loss')\n",
    "ax1.set_xlabel('Iterations')\n",
    "ax1.set_ylabel('Loss')\n",
    "ax1.legend()\n",
    "\n",
    "# Set scond x-axis\n",
    "ax2 = ax1.twiny()\n",
    "newlabel = list(range(NUM_EPOCHS+1))\n",
    "iter_per_epoch = len(train_loader)\n",
    "newpos = [e*iter_per_epoch for e in newlabel]\n",
    "\n",
    "ax2.set_xticklabels(newlabel[::10])\n",
    "ax2.set_xticks(newpos[::10])\n",
    "\n",
    "ax2.xaxis.set_ticks_position('bottom')\n",
    "ax2.xaxis.set_label_position('bottom')\n",
    "ax2.spines['bottom'].set_position(('outward', 45))\n",
    "ax2.set_xlabel('Epochs')\n",
    "ax2.set_xlim(ax1.get_xlim())"
   ]
  },
  {
   "cell_type": "code",
   "execution_count": 11,
   "metadata": {
    "slideshow": {
     "slide_type": "skip"
    }
   },
   "outputs": [
    {
     "data": {
      "image/png": "[encoded data removed]",
      "text/plain": [
       "<Figure size 1440x180 with 5 Axes>"
      ]
     },
     "metadata": {
      "needs_background": "light"
     },
     "output_type": "display_data"
    }
   ],
   "source": [
    "##########################\n",
    "### VISUALIZATION\n",
    "##########################\n",
    "\n",
    "model.eval()\n",
    "# Make new images\n",
    "z = torch.zeros((5, LATENT_DIM)).uniform_(-1.0, 1.0).to(device)\n",
    "generated_features = model.generator_forward(z)\n",
    "imgs = generated_features.view(-1, 28, 28)\n",
    "\n",
    "fig, axes = plt.subplots(nrows=1, ncols=5, figsize=(20, 2.5))\n",
    "\n",
    "\n",
    "for i, ax in enumerate(axes):\n",
    "    axes[i].imshow(imgs[i].to(torch.device('cpu')).detach(), cmap='binary')"
   ]
  },
  {
   "cell_type": "markdown",
   "metadata": {
    "slideshow": {
     "slide_type": "slide"
    }
   },
   "source": [
    "## <img src=\"https://img.icons8.com/dusk/64/000000/layers.png\" style=\"height:50px;display:inline\"> Deep Convolutional GANs (DCGANs)\n",
    "---\n",
    "* Key ideas:\n",
    "    * Replace fully-connected (FC) hidden layers with convolutions.\n",
    "        * Use fractional/dialated convolutions (to perform the up-convolution from vectors to images).\n",
    "    * Use *Batch Normalization* after each layer.\n",
    "    * Activations:\n",
    "        * Hidden layers are activated with ReLUs.\n",
    "        * Output layer is activated with Tanh (i.e, the pixel values are normalized between $[-1, 1]$)."
   ]
  },
  {
   "cell_type": "markdown",
   "metadata": {
    "slideshow": {
     "slide_type": "subslide"
    }
   },
   "source": [
    "<img src=\"./assets/tut_gan_dcgan.PNG\" style=\"height:350px\">"
   ]
  },
  {
   "cell_type": "markdown",
   "metadata": {
    "slideshow": {
     "slide_type": "slide"
    }
   },
   "source": [
    "## <img src=\"https://img.icons8.com/ultraviolet/80/000000/mark-view-as-hidden.png\" style=\"height:50px;display:inline\"> The Latent Space\n",
    "---\n",
    "* As we learn how to transform a latent vector, $z$, to images, we actullay learn a latent continuous space.\n",
    "* This continuous spcae allows us to perform interpolation and arithmetics.\n",
    "* As this space is continuous, unlike the original data (images), it was found that some operations (like summing) perform really well when done on the latent space.\n",
    "* As you can see below, those operations were demonstrated in the paper <a href=\"https://arxiv.org/abs/1511.06434\">Unsupervised Representation Learning with Deep Convolutional Generative Adversarial Networks, Alec Radford, Luke Metz, Soumith Chintala, ICLR 2016</a>"
   ]
  },
  {
   "cell_type": "markdown",
   "metadata": {
    "slideshow": {
     "slide_type": "subslide"
    }
   },
   "source": [
    "<img src=\"./assets/tut_gan_latent_space.PNG\" style=\"height:450px\">"
   ]
  },
  {
   "cell_type": "markdown",
   "metadata": {
    "slideshow": {
     "slide_type": "slide"
    }
   },
   "source": [
    "## <img src=\"https://img.icons8.com/bubbles/80/000000/maracas.png\" style=\"height:50px;display:inline\"> Conditional GANs\n",
    "---\n",
    "* As you probably have noticed, we don't too much control over the latent space, e.g., with vanilla-GAN trained on MNIST we can't control what digit we are generating.\n",
    "* **Conditional-GANs** - a simple modification to the original GAN framework that *conditions* the model on additional information for better multi-modal learning.\n",
    "* In practice, we usually use the labels of the datasets to perform the conditioning.\n",
    "    * For example, on MNIST we will use the one-hot vector representation of the digit ($1 \\rightarrow [0,1,0,0,0,0,0,0,0,0]$) along with the images from that class.\n",
    "* Leads to many practical applications of GANs when we have *explicit supervision available*.\n",
    "* There is more than one way to perform conditioning, some approaches are presented below."
   ]
  },
  {
   "cell_type": "markdown",
   "metadata": {
    "slideshow": {
     "slide_type": "subslide"
    }
   },
   "source": [
    "<img src=\"./assets/tut_gan_cgans.png\" style=\"height:300px\">\n",
    "\n",
    "* <a href=\"https://arxiv.org/abs/1411.1784\">Conditional Generative Adversarial Nets, Mehdi Mirza, Simon Osindero</a>\n",
    "* <a href=\"https://assemblingintelligence.wordpress.com/2017/05/10/conditional-gans/\">Conditional GANs</a>"
   ]
  },
  {
   "cell_type": "markdown",
   "metadata": {
    "slideshow": {
     "slide_type": "slide"
    }
   },
   "source": [
    "## <img src=\"https://img.icons8.com/dusk/64/000000/today.png\" style=\"height:50px;display:inline\"> GANs Today\n",
    "---\n",
    "* GANs are **HARD to train** and many researche studies try to improve training stability.\n",
    "* **WGAN** - Wasserstein GANs use the Wasserstein (Earth Movers) distance as the loss function. Training is more stabilized than vanilla-GAN.\n",
    "    * **WGAN-GP** - improves upon the original WGAN by using *Gradient Penalty* in the loss function (instead of *value clipping*)\n",
    "    * <a href=\"https://arxiv.org/abs/1701.07875\">WGAN Paper</a>, <a href=\"https://github.com/Zeleni9/pytorch-wgan\">PyTorch Code</a>\n",
    "    * <a href=\"https://arxiv.org/abs/1704.00028\">WGAN-GP Paper</a>, <a href=\"https://github.com/Zeleni9/pytorch-wgan\">PyTorch Code</a>\n",
    "* **EBGAN** - Energy-Based GANs use *autoencoders* in their architecture (with the autoencoder loss).\n",
    "    * <a href=\"https://arxiv.org/abs/1609.03126\">EBGAN Paper</a>, <a href=\"https://github.com/eriklindernoren/PyTorch-GAN/blob/master/implementations/ebgan/ebgan.py\">PyTorch Code</a>\n",
    "* **BEGAN** - Boundary Equilibrium GANs combines *autoencoders* and Wassertein distance to balance the generator and discriminator during training.\n",
    "    * <a href=\"https://arxiv.org/abs/1703.10717\">BEGAN Paper</a>, <a href=\"https://github.com/anantzoid/BEGAN-pytorch\">PyTorch Code</a>\n",
    "* **Mimicry** - a lightweight PyTorch library aimed towards the reproducibility of GAN research - <a href=\"https://github.com/kwotsin/mimicry\">GitHub</a>"
   ]
  },
  {
   "cell_type": "markdown",
   "metadata": {
    "slideshow": {
     "slide_type": "subslide"
    }
   },
   "source": [
    "### <img src=\"https://img.icons8.com/nolan/64/to-do.png\" style=\"height:40px;display:inline\"> Tips for Training GANs\n",
    "---\n",
    "All tips are here: <a href=\"https://github.com/soumith/ganhacks\">Tips for Training GANs</a>\n",
    "* Normalize the inputs - usually between $[-1, 1]$. Use TanH for the Generator output.\n",
    "* Use the modified loss function to avoid the vanishing gradients.\n",
    "* Use a spherical Z - sample from a Gaussian distribution instead of uniform distribution.\n",
    "* BatchNorm (when batchnorm is not an option use instance normalization).\n",
    "* Avoid Sparse Gradients: ReLU, MaxPool - the stability of the GAN game suffers if you have sparse gradients.\n",
    "    * LeakyReLU is good (in both G and D)\n",
    "    * For Downsampling, use: Average Pooling, Conv2d + stride\n",
    "    * For Upsampling, use: PixelShuffle, ConvTranspose2d + stride"
   ]
  },
  {
   "cell_type": "markdown",
   "metadata": {
    "slideshow": {
     "slide_type": "subslide"
    }
   },
   "source": [
    "* Use Soft and Noisy Labels\n",
    "    * Label Smoothing, i.e. if you have two target labels: Real=1 and Fake=0, then for each incoming sample, if it is real, then replace the label with a random number between 0.7 and 1.2, and if it is a fake sample, replace it with 0.0 and 0.3.\n",
    "    * Make the labels the noisy for the discriminator: occasionally flip the labels when training the discriminator\n",
    "* Track failures early:\n",
    "    * D loss goes to 0 -- failure mode.\n",
    "    * Check norms of gradients: if they are over 100 things are not good...\n",
    "    * When things are working, D loss has low variance and goes down over time vs. having huge variance and spiking.\n",
    "* **Don't** balance loss via statistics (unless you have a good reason to)\n",
    "    * For example, don't do that: `while lossD > A: train D` or `while lossG > B: train G`"
   ]
  },
  {
   "cell_type": "markdown",
   "metadata": {
    "slideshow": {
     "slide_type": "slide"
    }
   },
   "source": [
    "## <img src=\"./assets/gen_anim_icon.gif\" style=\"height:40px;display:inline\"> Applications\n",
    "---\n",
    "* There has been great progress in GANs, and everyday there is \"a new GAN\".\n",
    "* The current quality of the generations is almost indistinguishable from real images.\n",
    "    * <a href=\"https://thispersondoesnotexist.com/\">StyleGAN V2 - ThisPersonDoesNotExist.com</a>\n",
    "    * <a href=\"https://github.com/lucidrains/stylegan2-pytorch\">SyleGAN V2 - PyTorch Code</a>\n",
    "* There are many appliactions which we do not cover, but we provide links to projects at the end of this tutorial. We encourage you to explore areas that you find interesting and integrate them in your homework and projects."
   ]
  },
  {
   "cell_type": "markdown",
   "metadata": {
    "slideshow": {
     "slide_type": "subslide"
    }
   },
   "source": [
    "### <img src=\"https://img.icons8.com/doodle/96/000000/transition-both-directions--v1.png\" style=\"height:50px;display:inline\"> Image-to-Image Translation (Pix2Pix)\n",
    "---\n",
    "* Training is conditioned on the images from the source domain.\n",
    "* Conditional GANs provide an effective way to handle many complex domains without worrying about designing structured loss functions explicitly.\n",
    "    * These networks not only learn the mapping from input image to output image, but also learn a loss function to train this mapping.\n",
    "* <a href=\"https://phillipi.github.io/pix2pix/\">Project Page</a>\n",
    "    * <a href=\"https://github.com/junyanz/pytorch-CycleGAN-and-pix2pix\">PyTorch Code on GitHub</a>\n",
    "* <a href=\"https://affinelayer.com/pixsrv/\">Edges-to-Cats Demo</a>"
   ]
  },
  {
   "cell_type": "markdown",
   "metadata": {
    "slideshow": {
     "slide_type": "subslide"
    }
   },
   "source": [
    "<img src=\"./assets/tut_gan_pix2pix.png\" style=\"height:350px\">"
   ]
  },
  {
   "cell_type": "markdown",
   "metadata": {
    "slideshow": {
     "slide_type": "subslide"
    }
   },
   "source": [
    "<img src=\"./assets/tut_gan_pix2pixarch.jpg\" style=\"height:300px\">\n",
    "\n",
    "* <a href=\"https://neurohive.io/en/popular-networks/pix2pix-image-to-image-translation/\">Image Source</a>"
   ]
  },
  {
   "cell_type": "markdown",
   "metadata": {
    "slideshow": {
     "slide_type": "subslide"
    }
   },
   "source": [
    "* Pix2pix uses a conditional generative adversarial network (cGAN) to learn a function to map from an input image to an output image. \n",
    "* The **Generator** transforms the input image to get the output image. \n",
    "* The **Discriminator** measures the similarity of the input image to an unknown image (either a target image from the dataset or an output image from the generator) and tries to guess if it real or fake."
   ]
  },
  {
   "cell_type": "markdown",
   "metadata": {
    "slideshow": {
     "slide_type": "subslide"
    }
   },
   "source": [
    "### <img src=\"https://img.icons8.com/dusk/64/000000/process.png\" style=\"height:50px;display:inline\"> CycleGAN\n",
    "---\n",
    "* For many tasks, paired training data will not be available (like in Pix2Pix).\n",
    "* **CycleGAN** -  an approach for learning to translate an image from a source domain $X$ to a target domain $Y$ in the absence of paired examples.\n",
    "* The goal is to learn a mapping $G: X \\to Y$ such that the distribution of images from $G(X)$ is indistinguishable from the distribution $Y$ using an adversarial loss.\n",
    "* Because this mapping is highly under-constrained, it is coupled with an inverse mapping $F: Y \\to X$ and introduce a cycle consistency loss to push $F(G(X)) \\approx X$ (and vice versa). $$\\text{Loss}_{cyc}(G, F, X, Y) = \\frac{1}{m}\\sum_{i=1}^m \\left[\\mid\\mid F\\left(G(x_i)\\right) - x_i\\mid\\mid_1\\right] + \\left[\\mid \\mid G\\left(F(y_i)\\right) - y_i\\mid \\mid_1\\right]$$\n",
    "* The complete loss: $$ \\text{Loss}_{full} = \\text{Loss}_{adv} + \\lambda  \\text{Loss}_{cyc}$$\n",
    "    * $\\lambda =10$ in the original implementation."
   ]
  },
  {
   "cell_type": "markdown",
   "metadata": {
    "slideshow": {
     "slide_type": "subslide"
    }
   },
   "source": [
    "* <a href=\"https://junyanz.github.io/CycleGAN/\">Project Page</a>\n",
    "    * <a href=\"https://github.com/junyanz/pytorch-CycleGAN-and-pix2pix\">PyTorch Code on GitHub</a>\n",
    "    \n",
    "    <img src=\"./assets/tut_gan_horse_zebra.gif\" style=\"height:200px\">"
   ]
  },
  {
   "cell_type": "markdown",
   "metadata": {
    "slideshow": {
     "slide_type": "subslide"
    }
   },
   "source": [
    "<img src=\"./assets/tut_gan_cycle_gan_arch.PNG\" style=\"height:350px\">"
   ]
  },
  {
   "cell_type": "markdown",
   "metadata": {
    "slideshow": {
     "slide_type": "subslide"
    }
   },
   "source": [
    "<img src=\"./assets/tut_gan_cyclegan_arch.png\" style=\"height:300px\">\n",
    "\n",
    "* <a href=\"https://towardsdatascience.com/image-to-image-translation-using-cyclegan-model-d58cfff04755\">Image Source</a>"
   ]
  },
  {
   "cell_type": "markdown",
   "metadata": {
    "slideshow": {
     "slide_type": "subslide"
    }
   },
   "source": [
    "<img src=\"./assets/tut_gan_cycle_gan.jpg\" style=\"height:350px\">\n",
    "\n",
    "* Video: <a href=\"https://www.youtube.com/watch?v=lCR9sT9mbis\">[CycleGAN] Rendering Cityscapes in GTA Style</a>"
   ]
  },
  {
   "cell_type": "markdown",
   "metadata": {
    "slideshow": {
     "slide_type": "subslide"
    }
   },
   "source": [
    "### <img src=\"https://img.icons8.com/dusk/64/000000/portrait.png\" style=\"height:50px;display:inline\"> Realistic Neural Talking Head Models\n",
    "---\n",
    "* In order to create a personalized talking head model, it usually requires training on a large dataset of images of a single person. \n",
    "* However, in many practical scenarios, such personalized talking head models need to be learned from a few image views of a person, potentially even a single image. \n",
    "* In the paper **\"Few-Shot Adversarial Learning of Realistic Neural Talking Head Models\"**, a system with such few-shot capability is presented. \n",
    "* The model performs lengthy meta-learning on a large dataset of videos, and after that it is able to frame few- and one-shot learning of neural talking head models of previously unseen people as adversarial training problems with high capacity generators and discriminators.\n",
    "* <a href=\"https://arxiv.org/abs/1905.08233v1\">Paper Link</a>\n",
    "    * <a href=\"https://github.com/vincent-thevenin/Realistic-Neural-Talking-Head-Models\">PyTorch Code on GitHub</a>"
   ]
  },
  {
   "cell_type": "markdown",
   "metadata": {
    "slideshow": {
     "slide_type": "subslide"
    }
   },
   "source": [
    "<img src=\"./assets/tut_gan_talking_head.PNG\" style=\"height:450px\">"
   ]
  },
  {
   "cell_type": "markdown",
   "metadata": {
    "slideshow": {
     "slide_type": "subslide"
    }
   },
   "source": [
    "<img src=\"./assets/tut_gan_living_portrait.gif\" style=\"height:250px\">"
   ]
  },
  {
   "cell_type": "markdown",
   "metadata": {
    "slideshow": {
     "slide_type": "subslide"
    }
   },
   "source": [
    "* <a href=\"https://papers.nips.cc/paper/8935-first-order-motion-model-for-image-animation\">First Order Motion Model for Image Animation</a> - Aliaksandr Siarohin, Stéphane Lathuilière, Sergey Tulyakov, Elisa Ricci, Nicu Sebe - NeuroIPS 2019\n",
    "    * <a href=\"https://github.com/AliaksandrSiarohin/first-order-model\">Code and Colab Demo</a>\n",
    "    \n",
    "<img src=\"./assets/tut_gan_first_order_motion.PNG\" style=\"height:300px\">"
   ]
  },
  {
   "cell_type": "markdown",
   "metadata": {
    "slideshow": {
     "slide_type": "subslide"
    }
   },
   "source": [
    "### <img src=\"https://img.icons8.com/cute-clipart/64/000000/age.png\" style=\"height:50px;display:inline\"> Face Aging with Conditional GANs\n",
    "---\n",
    "* A GAN-based method for automatic face aging.\n",
    "* This model puts emphasize on preserving the original person’s identity in the aged version of his/her face.\n",
    "* Introduces a novel approach for \"Identity-Preserving\" optimization of GAN's latent vectors. \n",
    "* The objective evaluation of the resulting aged and rejuvenated face images is done by the state-of-the-art face recognition and age estimation solutions.\n",
    "* <a href=\"https://arxiv.org/abs/1702.01983\">Paper Link</a>\n",
    "    * <a href=\"https://github.com/guyuchao/IPCGANs-Pytorch\">PyTorch Code on GitHub</a>"
   ]
  },
  {
   "cell_type": "markdown",
   "metadata": {
    "slideshow": {
     "slide_type": "subslide"
    }
   },
   "source": [
    "<img src=\"./assets/tut_gan_face_age_arch.PNG\" style=\"height:350px\">"
   ]
  },
  {
   "cell_type": "markdown",
   "metadata": {
    "slideshow": {
     "slide_type": "subslide"
    }
   },
   "source": [
    "<img src=\"./assets/tut_gan_face_age.PNG\" style=\"height:500px\">"
   ]
  },
  {
   "cell_type": "markdown",
   "metadata": {
    "slideshow": {
     "slide_type": "slide"
    }
   },
   "source": [
    "## <img src=\"https://img.icons8.com/cute-clipart/64/000000/cool.png\" style=\"height:50px;display:inline\"> Cool GAN Projects (with Code)\n",
    "---\n",
    "* <a href=\"https://github.com/nashory/gans-awesome-applications\">gans-awesome-applications</a>\n",
    "* <a href=\"https://github.com/znxlwm/pytorch-generative-model-collections\">pytorch-generative-model-collections</a>"
   ]
  },
  {
   "cell_type": "markdown",
   "metadata": {
    "slideshow": {
     "slide_type": "slide"
    }
   },
   "source": [
    "### <img src=\"https://img.icons8.com/bubbles/50/000000/video-playlist.png\" style=\"height:50px;display:inline\"> Recommended Videos\n",
    "---\n",
    "#### <img src=\"https://img.icons8.com/cute-clipart/64/000000/warning-shield.png\" style=\"height:30px;display:inline\"> Warning!\n",
    "* These videos do not replace the lectures and tutorials.\n",
    "* Please use these to get a better understanding of the material, and not as an alternative to the written material.\n",
    "\n",
    "#### Video By Subject\n",
    "* Introduction to GANs - <a href=\"https://www.youtube.com/watch?v=9JpdAg6uMXs\"> Introduction to GANs, NIPS 2016 | Ian Goodfellow, OpenAI</a>\n",
    "* Generative Models -  <a href=\"https://www.youtube.com/watch?v=5WoItGTWV54\"> Stanford CS231n - Lecture 13 | Generative Models</a>\n",
    "* Deep Generative Modeling - <a href=\"https://www.youtube.com/watch?v=yFBFl1cLYx8\"> MIT 6.S191 (2019): Deep Generative Modeling </a>\n",
    "* Face Editing - <a href=\"https://www.youtube.com/watch?v=dCKbRCUyop8\"> Face editing with Generative Adversarial Networks </a>\n",
    "* Wasserstein GANs - <a href=\"https://www.youtube.com/watch?v=31mqB4yGgQY\"> Nuts and Bolts of WGANs, Kantorovich-Rubistein Duality, Earth Movers Distance </a>\n",
    "* Energy-Based GANs - <a href=\"https://www.youtube.com/watch?v=x4sI5qO6O2Y\"> Energy-Based Adversarial Training and Video Prediction, NIPS 2016 | Yann LeCun, Facebook AI Research </a>\n",
    "* CycleGAN - <a href=\"https://www.youtube.com/watch?v=T-lBMrjZ3_0\"> Zebras, Horses & CycleGAN - Computerphile </a>\n",
    "* Pix2Pix - <a href=\"https://www.youtube.com/watch?v=vrvwfFej_r4\"> Neural Networks: pix2pix (Conditional GANs) </a>"
   ]
  },
  {
   "cell_type": "markdown",
   "metadata": {
    "slideshow": {
     "slide_type": "skip"
    }
   },
   "source": [
    "## <img src=\"https://img.icons8.com/dusk/64/000000/prize.png\" style=\"height:50px;display:inline\"> Credits\n",
    "---\n",
    "\n",
    "* Slides from <a href=\"http://slazebni.cs.illinois.edu/spring17/\">CS 598 LAZ</a>\n",
    "* Slides by Lihi Zelnik-Mannor\n",
    "* Slides from <a href=\"http://ci2cv.net/16720b/\">CMU - 16720B – Computer Vision</a>\n",
    "* Some material from Alexander Amini and Ava Soleimany, MIT 6.S191: Introduction to Deep Learning, <a href=\"http://introtodeeplearning.com/\">IntroToDeepLearning.com</a>\n",
    "* Icons from <a href=\"https://icons8.com/\">Icon8.com</a> - https://icons8.com"
   ]
  }
 ],
 "metadata": {
  "kernelspec": {
   "display_name": "Python 3",
   "language": "python",
   "name": "python3"
  },
  "language_info": {
   "codemirror_mode": {
    "name": "ipython",
    "version": 3
   },
   "file_extension": ".py",
   "mimetype": "text/x-python",
   "name": "python",
   "nbconvert_exporter": "python",
   "pygments_lexer": "ipython3",
   "version": "3.6.15"
  },
  "varInspector": {
   "cols": {
    "lenName": 16,
    "lenType": 16,
    "lenVar": 40
   },
   "kernels_config": {
    "python": {
     "delete_cmd_postfix": "",
     "delete_cmd_prefix": "del ",
     "library": "var_list.py",
     "varRefreshCmd": "print(var_dic_list())"
    },
    "r": {
     "delete_cmd_postfix": ") ",
     "delete_cmd_prefix": "rm(",
     "library": "var_list.r",
     "varRefreshCmd": "cat(var_dic_list()) "
    }
   },
   "types_to_exclude": [
    "module",
    "function",
    "builtin_function_or_method",
    "instance",
    "_Feature"
   ],
   "window_display": false
  }
 },
 "nbformat": 4,
 "nbformat_minor": 2
}
