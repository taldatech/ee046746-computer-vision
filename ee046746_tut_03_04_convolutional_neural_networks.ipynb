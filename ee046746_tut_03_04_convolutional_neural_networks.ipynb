{
 "cells": [
  {
   "cell_type": "markdown",
   "metadata": {
    "slideshow": {
     "slide_type": "slide"
    }
   },
   "source": [
    "# <img src=\"https://img.icons8.com/bubbles/100/000000/3d-glasses.png\" style=\"height:50px;display:inline\"> EE 046746 - Technion - Computer Vision\n",
    "---\n",
    "#### <a href=\"https://taldatech.github.io/\">Tal Daniel</a> \n",
    "\n",
    "## Tutorial 03-04 - Convolution & Deep Learning\n",
    "---\n",
    "\n",
    "<img src=\"./assets/tut_conv_cnn.png\" style=\"height:200px\">\n",
    "\n",
    "* <a href=\"https://mc.ai/how-does-convolutional-neural-network-work/\">Image Source</a>"
   ]
  },
  {
   "cell_type": "markdown",
   "metadata": {
    "slideshow": {
     "slide_type": "slide"
    }
   },
   "source": [
    "### <img src=\"https://img.icons8.com/bubbles/50/000000/checklist.png\" style=\"height:50px;display:inline\"> Agenda\n",
    "---\n",
    "\n",
    "* [2D Convolution](#-2D-Convolution)\n",
    "* [Convolution-based Classification](#-Convolutuion-as-Feature-Extractors-for-Classification)\n",
    "* [Convolutional Neural Networks (CNNs)](#-Convolutional-Neural-Networks-(CNNs))\n",
    "* [Regularization](#-Regularization---Preventing-Overfitting)\n",
    "* [Data Augmentation](#-Data-Augmentation)\n",
    "* [SVHN Classification with PyTorch](#-Building-a-CNN-Classifier-for-SVHN-with-PyTorch)\n",
    "* [The CNN Story](#-The-CNN-Story)\n",
    "* [Other Applications of CNNs](#-CNNs-Applications-in-Computer-Vision)\n",
    "* [The Problem with CNNs](#-Are-CNNs-the-Holy-Grail?-The-Problem-with-CNNs)\n",
    "* [Recommended Videos](#-Recommended-Videos)\n",
    "* [Credits](#-Credits)"
   ]
  },
  {
   "cell_type": "code",
   "execution_count": 1,
   "metadata": {
    "slideshow": {
     "slide_type": "skip"
    }
   },
   "outputs": [],
   "source": [
    "# imports for the tutorial\n",
    "import numpy as np\n",
    "import matplotlib.pyplot as plt\n",
    "import time\n",
    "import os\n",
    "\n",
    "# pytorch\n",
    "import torch\n",
    "import torch.nn as nn\n",
    "import torchvision\n",
    "import torchvision.transforms as transforms"
   ]
  },
  {
   "cell_type": "markdown",
   "metadata": {
    "slideshow": {
     "slide_type": "slide"
    }
   },
   "source": [
    "## <img src=\"https://img.icons8.com/dusk/64/000000/layers.png\" style=\"height:50px;display:inline\"> 2D Convolution\n",
    "---\n",
    "\n",
    "Mathematically, 2D convolution is defined as: $$ f[n, m] * h[n,m] = \\sum_{k=-\\infty}^{\\infty}\\sum_{l=-\\infty}^{\\infty} f[k, l]\\cdot h[n-k, m-l] $$\n",
    "\n",
    "Convolution is moving a window or filter across the image being studied. This moving window applies to a certain neighborhood of nodes as shown below – here, the filter applied is (0.5 × the node value):\n",
    "<img src=\"./assets/tut_xiv_filter.jpg\" style=\"height:200px\" />\n",
    "\n",
    "* In our course, we will treat 2D convolution as *cross-correlation*."
   ]
  },
  {
   "cell_type": "markdown",
   "metadata": {
    "slideshow": {
     "slide_type": "subslide"
    }
   },
   "source": [
    "### Numerical Example\n",
    "\n",
    "<img src=\"./assets/tut_conv_num_ex.PNG\" style=\"height:200px\">"
   ]
  },
  {
   "cell_type": "markdown",
   "metadata": {
    "slideshow": {
     "slide_type": "subslide"
    }
   },
   "source": [
    "<img src=\"./assets/tut_conv_anim.gif\" style=\"height:400px\">"
   ]
  },
  {
   "cell_type": "markdown",
   "metadata": {
    "slideshow": {
     "slide_type": "slide"
    }
   },
   "source": [
    "## <img src=\"https://img.icons8.com/color/96/000000/tweezers.png\" style=\"height:50px;display:inline\"> Convolutuion as Feature Extractors for Classification\n",
    "---\n",
    "\n",
    "* Convolution is useful since it helps us find interesting insights/features from images.\n",
    "* For example, the gradient/derivative filter helps us detect **edges** (low-level features).\n",
    "\n",
    "<img src=\"./assets/tut_conv_derv_filt.PNG\" style=\"height:150px\">"
   ]
  },
  {
   "cell_type": "markdown",
   "metadata": {
    "slideshow": {
     "slide_type": "subslide"
    }
   },
   "source": [
    "* Recall that in classification tasks we need good features for better classification performance.\n",
    "* In *image classification*, we usually want to classify images into categories.\n",
    "* Imagine that we have a filter for each class, and that by applying this filter, we get a **probability** for the input image to be from this filter's class. <img src=\"./assets/tut_conv_image_class.jpg\" style=\"height:150px\">\n",
    "    * <a href=\"https://www.mathworks.com/solutions/deep-learning/convolutional-neural-network.html\">Image Source</a>"
   ]
  },
  {
   "cell_type": "markdown",
   "metadata": {
    "slideshow": {
     "slide_type": "subslide"
    }
   },
   "source": [
    "* What are features? Consider the following illustrative example - classifying *cats* and *dogs*.\n",
    "    * How do we tell the difference between cats and dogs? One can look at the length of the tail, shape of the paws, pattern of the fur and etc...\n",
    "    * So humans can usually tell these just by looking at the sample. But what do computers see?\n",
    "* In classification tasks, we need *good features* to learn a function that maps from samples to labels.\n",
    "* **Raw pixels** are usually not expressive enough features! That is because raw pixels do not capture the *spatial relationship* in the image.\n",
    "* Extracting features from raw pixels can be done using a deep learning network (which is a complex, non-linear function of the input).\n",
    "    * Using just linear layers (multi-layer Perceptron) might work for simple images (e.g. MNIST), but they have a lot of parameters! See tutorial 1.5 (Deep Learning and PyTorch basics) for more details.\n",
    "    * Using convolution, we can capture spatial structures (e.g., pixels the shape a tail)."
   ]
  },
  {
   "cell_type": "markdown",
   "metadata": {
    "slideshow": {
     "slide_type": "slide"
    }
   },
   "source": [
    "## <img src=\"https://img.icons8.com/bubbles/50/000000/mind-map.png\" style=\"height:50px;display:inline\"> Convolutional Neural Networks (CNNs)\n",
    "---\n",
    "\n",
    "* Convolutional Neural Networks (CNNs) are deep neural networks that contain layers of stacked convolution layers or filters. \n",
    "* They are mainy used for image datasets, but are also useful for other areas such as Natural Language Processing (NLP).\n",
    "* In the convolutional part of the CNN, we can imagine a moving filter sliding across all the available nodes / pixels in the input image. This operation can also be illustrated using standard neural network node diagrams: <img src=\"./assets/tut_xiv_layer.jpg\" style=\"height:200px\" />\n",
    "* The first position of the moving filter connections is illustrated by the blue connections, and the second is shown with the green lines. The weights of each of these connections, as stated previously, is 0.5 (in this example)."
   ]
  },
  {
   "cell_type": "markdown",
   "metadata": {
    "slideshow": {
     "slide_type": "subslide"
    }
   },
   "source": [
    "### CNNs Properties\n",
    "---\n",
    "\n",
    "### Feature mapping and multiple channels\n",
    "---\n",
    "* Since the weights of individual filters are held constant as they are applied over the input nodes, they can be trained to select certain features from the input data. \n",
    "* In the case of images, it may learn to recognize common geometrical objects such as lines, edges and other shapes which make up objects. \n",
    "* This is where the name *feature mapping* comes from. Because of this, **any convolution layer needs multiple filters which are trained to detect different features**."
   ]
  },
  {
   "cell_type": "markdown",
   "metadata": {
    "slideshow": {
     "slide_type": "slide"
    }
   },
   "source": [
    "### Pooling\n",
    "---\n",
    "It is a sliding window type technique, but instead of applying weights, which can be trained, it applies a **statistical function** of some type over the contents of its window. The most common type of pooling is called **max pooling**, and it applies the $max()$ function over the contents of the window.\n",
    "There are two main benefits to pooling in CNN's:\n",
    "1. It reduces the number of parameters in your model by a process called *down-sampling*\n",
    "2. It makes feature detection more robust to object orientation and scale changes\n",
    "\n",
    "\n",
    "* Max-pooling can be seen as \"zoom-out\", allowing to detect bigger objects with smaller convolutions."
   ]
  },
  {
   "cell_type": "markdown",
   "metadata": {
    "slideshow": {
     "slide_type": "subslide"
    }
   },
   "source": [
    "<img src=\"./assets/tut_conv_pooling.jpeg\" style=\"height:200px\">\n",
    "\n",
    "* <a href=\"https://medium.com/@duanenielsen/deep-learning-cage-match-max-pooling-vs-convolutions-e42581387cb9\">Image Source </a>"
   ]
  },
  {
   "cell_type": "markdown",
   "metadata": {
    "slideshow": {
     "slide_type": "subslide"
    }
   },
   "source": [
    "* Other pooling operators:\n",
    "<img src=\"./assets/tut_conv_other_pool.PNG\" style=\"height:150px\">"
   ]
  },
  {
   "cell_type": "markdown",
   "metadata": {
    "slideshow": {
     "slide_type": "skip"
    }
   },
   "source": [
    "* Pooling generalizes over lower level, more complex information. \n",
    "* Let’s imagine the case where we have convolutional filters that, during training, learn to detect the digit “9” in various orientations within the input images. \n",
    "* In order for the Convolutional Neural Network to learn to classify the appearance of “9” in the image correctly, it needs to in some way “activate” whenever a “9” is found anywhere in the image, no matter what the size or orientation the digit is (except for when it looks like “6”, that is). \n",
    "* Pooling can assist with this higher level, generalized feature selection. An example can be seen <a href=\"https://adventuresinmachinelearning.com/convolutional-neural-networks-tutorial-in-pytorch/\">here</a>."
   ]
  },
  {
   "cell_type": "markdown",
   "metadata": {
    "slideshow": {
     "slide_type": "subslide"
    }
   },
   "source": [
    "### Strides and down-sampling\n",
    "---\n",
    "* In the pooling diagram below, you will notice that the pooling window shifts to the right each time by 2 places. \n",
    "* This is called a **stride of 2**, which should be considered both in the $x$ and $y$ direction. \n",
    "    * In other words, the stride is actually specified as $[2, 2]$. \n",
    "* One important thing to notice is that, if during pooling the stride is greater than 1, then the output size will be reduced. \n",
    "* As can be observed below, the 5 x 5 input is reduced to a 3 x 3 output. This is a good thing – it is called down-sampling, and it reduces the number of trainable parameters in the model."
   ]
  },
  {
   "cell_type": "markdown",
   "metadata": {
    "slideshow": {
     "slide_type": "subslide"
    }
   },
   "source": [
    "<img src=\"./assets/tut_xiv_max_pool.jpg\" style=\"height:200px\" />\n",
    "(images from adventuresinmachinelearning.com)"
   ]
  },
  {
   "cell_type": "markdown",
   "metadata": {
    "slideshow": {
     "slide_type": "subslide"
    }
   },
   "source": [
    "### Padding\n",
    "---\n",
    "* In the pooling diagram above there is an extra column and row added to the 5 x 5 input – this makes the effective size of the pooling space equal to 6 x 6. \n",
    "* This is to ensure that the 2 x 2 pooling window can operate correctly with a stride of [2, 2] and is called *padding*. \n",
    "* These nodes are basically **dummy nodes** – because the values of these dummy nodes is 0, they are basically invisible to the max pooling operation. \n",
    "* Padding will need to be considered when constructing our Convolutional Neural Network in PyTorch."
   ]
  },
  {
   "cell_type": "markdown",
   "metadata": {
    "slideshow": {
     "slide_type": "subslide"
    }
   },
   "source": [
    "### The FC Layer\n",
    "---\n",
    "* The fully connected layer can be thought of as attaching a standard classifier onto the information-rich output of the network, to “interpret” the results and finally produce a classification result. \n",
    "    * That is, the output of the convolutuinal layers is the new \"input features\" for the classifier.\n",
    "* In order to attach this fully connected layer to the network, the dimensions of the output of the Convolutional Neural Network needs to be *flattened*."
   ]
  },
  {
   "cell_type": "markdown",
   "metadata": {
    "slideshow": {
     "slide_type": "subslide"
    }
   },
   "source": [
    "<img src=\"./assets/tut_conv_cnn.png\" style=\"height:200px\">"
   ]
  },
  {
   "cell_type": "markdown",
   "metadata": {
    "slideshow": {
     "slide_type": "slide"
    }
   },
   "source": [
    "### <img src=\"https://img.icons8.com/color/96/000000/layers.png\" style=\"height:50px;display:inline\"> Low Level (Shallow) and High Level (Deep) Features\n",
    "---\n",
    "* It is quite common to observe the features (outputs of the convolutional filters) at different levels of the network.\n",
    "* **Low Level** - also called shallow features (first layers), which include lines, corners and edges.\n",
    "* **Mid Level** - the middel level features, usually object parts.\n",
    "* **High Level** - also called deep features (final layers), which include whole objects (global)."
   ]
  },
  {
   "cell_type": "markdown",
   "metadata": {
    "slideshow": {
     "slide_type": "subslide"
    }
   },
   "source": [
    "<img src=\"./assets/tut_conv_low_high_level_feat.png\" style=\"height:350px\">\n",
    "\n",
    "<a href=\"https://medium.com/analytics-vidhya/the-world-through-the-eyes-of-cnn-5a52c034dbeb\">Image Source</a>"
   ]
  },
  {
   "cell_type": "markdown",
   "metadata": {
    "slideshow": {
     "slide_type": "subslide"
    }
   },
   "source": [
    "### Calculating a convolutional layer output size\n",
    "---\n",
    "We define the following parameters of a *convolutional layer*:\n",
    "* $W_{in}$ - the width of the input\n",
    "* $F$ - filter size\n",
    "* $P$ - padding\n",
    "* $S$ - stride\n",
    "\n",
    "The output width:\n",
    "$$W_{out} = \\left \\lfloor \\frac{W_{in} - F + 2P}{S} + 1 \\right \\rfloor$$"
   ]
  },
  {
   "cell_type": "markdown",
   "metadata": {
    "slideshow": {
     "slide_type": "subslide"
    }
   },
   "source": [
    "Consider the input images of size $28\\times 28$, filter size of $5\\times 5$, padding of 2 and a stride of 1, the output of the convolutional layers, just before the FC:\n",
    "$$W_{1, out} = \\frac{28 - 5 + 2*2}{1} + 1 = 28 \\rightarrow MaxPooling(2x2) \\rightarrow 28 / 2 = 14$$\n",
    "$$W_{2, out} = \\frac{14 - 5 + 2*2}{1} + 1 = 14 \\rightarrow MaxPooling(2x2) \\rightarrow 14 / 2 = 7$$\n",
    "So the input to the FC layer is $7x7=49$ (because we have 7 for the width and 7 for the height)."
   ]
  },
  {
   "cell_type": "markdown",
   "metadata": {
    "slideshow": {
     "slide_type": "subslide"
    }
   },
   "source": [
    "### Non-Linear Activations\n",
    "---\n",
    "* The key change made to the Perceptron that brought upon the era of deep learning is the addition of **activation function** to the output of each neuron. \n",
    "* These allow the learning of non-linear functions. A (1-layer) neural network without an activation function is essentially just a linear regression model."
   ]
  },
  {
   "cell_type": "markdown",
   "metadata": {
    "slideshow": {
     "slide_type": "subslide"
    }
   },
   "source": [
    "<img src=\"./assets/tut_conv_activation.PNG\">"
   ]
  },
  {
   "cell_type": "markdown",
   "metadata": {
    "slideshow": {
     "slide_type": "subslide"
    }
   },
   "source": [
    "### Batch Normalization\n",
    "---\n",
    "* Batch normalization is a technique for improving the speed, performance, and stability of deep neural networks.\n",
    "    *  The reasons behind its effectiveness remain under discussion\n",
    "* It is used to normalize the input layer by adjusting and scaling the activations.\n",
    "* Formally:\n",
    "    * **Input**: $x \\in \\mathcal{R}^{N \\times D}$\n",
    "    * **Learnable Parameters**: $\\gamma, \\beta \\in \\mathcal{R}^{D} $\n",
    "    * **Intermediates**: $\\mu, \\sigma \\in  \\mathcal{R}^{D}, \\hat{x} \\in \\mathcal{R}^{N \\times D}$\n",
    "    * **Output**: $y \\in \\mathcal{R}^{N \\times D}$\n",
    "* In CNNs, we work with inputs of shape $[N, C, H ,W]$, where $N$ is the batch size, $C$ is the number of channels and $H, W$ are the height and width of the feature map respectively. BatchNorm in this case is performed **channel-wise**, i.e., on the channel dimension $C$ such that  $\\gamma, \\beta \\in \\mathcal{R}^{C} $."
   ]
  },
  {
   "cell_type": "markdown",
   "metadata": {
    "slideshow": {
     "slide_type": "subslide"
    }
   },
   "source": [
    "<img src=\"./assets/tut_conv_bn_algo.png\" style=\"height:300px\">"
   ]
  },
  {
   "cell_type": "markdown",
   "metadata": {
    "slideshow": {
     "slide_type": "subslide"
    }
   },
   "source": [
    "### CNN Vs. Fully Connected\n",
    "---\n",
    "* Fully connected networks with a few layers can only do so much – to get close to state-of-the-art results in image classification it is necessary to go deeper. \n",
    "    * In other words, lots more layers are required in the network. \n",
    "* However, by adding a lot of additional layers, we come across some problems. \n",
    "    * First, we can run into the vanishing gradient problem. However, this can be solved to an extent by using sensible activation functions, such as the ReLU family of activations or using residual blocks (ResNets). \n",
    "    * Another issue for deep fully connected networks is that the number of trainable parameters in the model (i.e. the weights) can grow rapidly. \n",
    "        * This means that the training slows down or becomes practically impossible, and also exposes the model to overfitting. CNNs try to solve this second problem by exploiting correlations between adjacent inputs in images. "
   ]
  },
  {
   "cell_type": "markdown",
   "metadata": {
    "slideshow": {
     "slide_type": "slide"
    }
   },
   "source": [
    "### <img src=\"https://img.icons8.com/officel/80/000000/rope.png\" style=\"height:50px;display:inline\"> Regularization - Preventing Overfitting\n",
    "---\n",
    "* A common phenomenon in machine learning is that even though the training error keeps decreasing (training loss keeps going down, training accrucay goes up), the validation/test error goes down but then at some point it starts going up! (which is bad...)\n",
    "* This is called **overfitting**. Although it's often possible to achieve high accuracy on the training set, what we really want is to develop models that generalize well to a testing set (or data they haven't seen before).\n",
    "* If you train for too long though, the model will start to overfit and learn patterns from the training data that don't generalize to the test data. \n",
    "    * We need to find a balance!\n",
    "* To prevent overfitting, the best solution is to use more complete training data. The dataset should cover the full range of inputs that the model is expected to handle. Additional data may only be useful if it covers new and interesting cases.\n",
    "* A model trained on more complete data will naturally generalize better. When that is no longer possible, the next best solution is to use techniques like **regularization**. \n",
    "* **Regularization** places constraints on the quantity and type of information your model can store. If a network can only afford to memorize a small number of patterns, the optimization process will force it to focus on the most prominent patterns, which have a better chance of generalizing well."
   ]
  },
  {
   "cell_type": "markdown",
   "metadata": {
    "slideshow": {
     "slide_type": "subslide"
    }
   },
   "source": [
    "* The opposite of overfitting is **underfitting**. Underfitting occurs when there is still room for improvement on the test data. \n",
    "    * This can happen for a number of reasons: If the model is not powerful enough, is over-regularized, or has simply not been trained long enough. This means the network has not learned the relevant patterns in the training data."
   ]
  },
  {
   "cell_type": "markdown",
   "metadata": {
    "slideshow": {
     "slide_type": "subslide"
    }
   },
   "source": [
    "<img src=\"./assets/tut_conv_overfit.png\" style=\"height:200px\">\n",
    "\n",
    "<a href=\"https://www.geeksforgeeks.org/underfitting-and-overfitting-in-machine-learning/\">Image Source</a>"
   ]
  },
  {
   "cell_type": "markdown",
   "metadata": {
    "slideshow": {
     "slide_type": "subslide"
    }
   },
   "source": [
    "* Regularization usually comes in form of placing constraints on the parameters, or in the case of neural networks, constraints on the weights of the layers.\n",
    "* It introduces a cost term for bringing in more features with the objective function. Hence it tries to drive the coefficients of many variables to zero and hence reduce cost term.\n",
    "    * Common regularizations are $L_2, L_1$ regularizations: $$ \\text{New Loss}_{L_2} = \\text{Original Loss} + \\lambda \\mid \\mid w \\mid \\mid^2$$\n",
    "* For deep neural networks (and CNNs) a common regularization technique is **Dropout**."
   ]
  },
  {
   "cell_type": "markdown",
   "metadata": {
    "slideshow": {
     "slide_type": "subslide"
    }
   },
   "source": [
    "#### Dropout Regularization\n",
    "----\n",
    "* First presented in <a href=\"http://jmlr.org/papers/v15/srivastava14a.html\">Dropout: A Simple Way to Prevent Neural Networks from Overfitting</a>, 2014.\n",
    "* Dropout is a regularization method that approximates training a large number of neural networks with different architectures in parallel.\n",
    "* During training, some number of layer outputs (i.e. neurons) are randomly ignored or “dropped out” with some probability $p$. This has the effect of making the layer look-like and be treated-like a layer with a different number of nodes and connectivity to the prior layer.\n",
    "* Dropout has the effect of making the training process noisy, forcing nodes within a layer to probabilistically **take on more or less responsibility** for the inputs.\n",
    "* Dropout is activated **only during training** (`model.train()`). In test time, it is turned off (`model.eval()`).\n",
    "\n",
    "Read more - <a href=\"https://machinelearningmastery.com/dropout-for-regularizing-deep-neural-networks/\">A Gentle Introduction to Dropout for Regularizing Deep Neural Networks</a>"
   ]
  },
  {
   "cell_type": "markdown",
   "metadata": {
    "slideshow": {
     "slide_type": "subslide"
    }
   },
   "source": [
    "<img src=\"./assets/tut_conv_dropout.png\" style=\"height:250px\">\n",
    "\n",
    "<a href=\"https://www.oreilly.com/library/view/tensorflow-for-deep/9781491980446/ch04.html\">Image Source</a>"
   ]
  },
  {
   "cell_type": "markdown",
   "metadata": {
    "slideshow": {
     "slide_type": "slide"
    }
   },
   "source": [
    "### <img src=\"https://img.icons8.com/dusk/64/000000/variation.png\" style=\"height:50px;display:inline\"> Data Augmentation\n",
    "---\n",
    "* Data augmentation is a common technique to improve results and avoid overfitting.\n",
    "* How do we get more data when there is limited number of samples? We can perform data augmentation.\n",
    "* Data augemnetation enriches the dataset by adding variations of the original samples.\n",
    "    * And as you know, deep learning flourishes when there is A LOT of data."
   ]
  },
  {
   "cell_type": "markdown",
   "metadata": {
    "slideshow": {
     "slide_type": "subslide"
    }
   },
   "source": [
    "* Popular augementation techniques:\n",
    "    * **Flip** - Flip images horizontally and/or vertically.\n",
    "    * **Rotation** - Rotate the images at certain degrees. This may change the size of the image, thus, cropping or padding is a common fix for that.\n",
    "    * **Scaling** - The image can be scaled outward or inward. This may also change the size of the image, thus, resizing (also stretching) is often followed.\n",
    "    * **Cropping** - Randomly sample a section from the original image. Then resize this section to the original image size. This is called Random Crop.\n",
    "    * **Translation** - Move the image along the X or Y direction (or both). This forces the neural network to look everywhere.\n",
    "    * **Noise** - Over-fitting usually happens when the network tries to learn high frequency features (patterns that occur a lot) that may not be useful. Gaussian noise, which has zero mean, essentially has data points in all frequencies, effectively distorting the high frequency features. This also means that lower frequency components (usually, your intended data) are also distorted, but your neural network can learn to look past that. Adding just the right amount of noise can enhance the learning capability (e.g., add Salt and Pepper).\n",
    "    \n",
    "Read More - <a href=\"https://nanonets.com/blog/data-augmentation-how-to-use-deep-learning-when-you-have-limited-data-part-2/\">Data Augmentation | How to use Deep Learning when you have Limited Data</a>"
   ]
  },
  {
   "cell_type": "markdown",
   "metadata": {
    "slideshow": {
     "slide_type": "subslide"
    }
   },
   "source": [
    "<img src=\"./assets/tut_conv_augment.png\" style=\"height:300px\">\n",
    "\n",
    "<a href=\"https://towardsdatascience.com/machinex-image-data-augmentation-using-keras-b459ef87cd22\">Image Source</a>"
   ]
  },
  {
   "cell_type": "markdown",
   "metadata": {
    "slideshow": {
     "slide_type": "slide"
    }
   },
   "source": [
    "## <img src=\"https://img.icons8.com/clouds/100/000000/dog.png\" style=\"height:50px;display:inline\"> The SVHN Dataset\n",
    "---\n",
    "\n",
    "* The SVHN (The **S**treet **V**iew **H**ouse **N**umbers) dataset consists of 600,000 32x32 colour images of the 10 digits. There are 73257 digits for training, 26032 digits for testing, and 531131 additional, somewhat less difficult samples, to use as extra training data.\n",
    "* SVHN is a real-world image dataset for developing machine learning and object recognition algorithms with minimal requirement on data preprocessing and formatting. It can be seen as similar in flavor to MNIST (e.g., the images are of small cropped digits), but incorporates and order of magnitude more labeled data and comes from a significantly harder, unsolved, real world problem (recognizing digits and numbers in natural scene images). SVHN is obtained from house numbers in Google Street View images. \n",
    "* <a href=\"http://ufldl.stanford.edu/housenumbers/\">Official Site</a>\n",
    "\n",
    "<img src=\"http://ufldl.stanford.edu/housenumbers/32x32eg.png\" style=\"height:300px;\">\n",
    "\n",
    "* In the homework assignment you will work with CIFAR-10, which is a classification dataset for 10 classes of objects.\n",
    "  * Considered a hard dataset - low res images, not even humans can easily distinguish the classes\n"
   ]
  },
  {
   "cell_type": "markdown",
   "metadata": {
    "slideshow": {
     "slide_type": "subslide"
    }
   },
   "source": [
    "# ------------------------- <img src=\"https://img.icons8.com/color/96/000000/code.png\" style=\"height:50px;display:inline\"> CODE TIME -------------------------"
   ]
  },
  {
   "cell_type": "code",
   "execution_count": 2,
   "metadata": {
    "slideshow": {
     "slide_type": "subslide"
    }
   },
   "outputs": [
    {
     "name": "stdout",
     "output_type": "stream",
     "text": [
      "Using downloaded and verified file: ./datasets\\train_32x32.mat\n",
      "Using downloaded and verified file: ./datasets\\test_32x32.mat\n"
     ]
    }
   ],
   "source": [
    "# define pre-processing steps on the images\n",
    "# also called \"data augementation\" (only done for the train set)\n",
    "\n",
    "transform_train = transforms.Compose([\n",
    "    transforms.RandomCrop(32, padding=4),\n",
    "    transforms.ColorJitter(brightness=63. / 255., saturation=[0.5, 1.5], contrast=[0.2, 1.8]),\n",
    "    transforms.ToTensor(),  # (almost) Always use this!\n",
    "    # SVHN dataset's:     Mean - R    Mean - G   Mean - B       STD - R     STD - G     STD - B\n",
    "    transforms.Normalize((0.4376821, 0.4437697, 0.47280442), (0.19803012, 0.20101562, 0.19703614)),\n",
    "])\n",
    "\n",
    "# Normalize the test set same as training set without augmentation\n",
    "transform_test = transforms.Compose([\n",
    "    transforms.ToTensor(),\n",
    "    transforms.Normalize((0.4376821, 0.4437697, 0.47280442), (0.19803012, 0.20101562, 0.19703614)),\n",
    "])\n",
    "\n",
    "# load dataset\n",
    "trainset = torchvision.datasets.SVHN(\n",
    "    root='./datasets', split='train', download=True, transform=transform_train)\n",
    "\n",
    "testset = torchvision.datasets.SVHN(\n",
    "    root='./datasets', split='test', download=True, transform=transform_test)"
   ]
  },
  {
   "cell_type": "code",
   "execution_count": 3,
   "metadata": {
    "slideshow": {
     "slide_type": "subslide"
    }
   },
   "outputs": [
    {
     "data": {
      "image/png": "[encoded data removed]",
      "text/plain": [
       "<Figure size 864x180 with 4 Axes>"
      ]
     },
     "metadata": {},
     "output_type": "display_data"
    }
   ],
   "source": [
    "# let's see some of the images\n",
    "def convert_to_imshow_format(image):\n",
    "    # first convert back to [0,1] range from [-1,1] range - approximately...\n",
    "    image = image / (image.abs().max() * 2) + 0.5\n",
    "    image = image.numpy()\n",
    "    # convert from CHW to HWC\n",
    "    # from 3x32x32 to 32x32x3\n",
    "    return image.transpose(1,2,0)\n",
    "\n",
    "trainloader = torch.utils.data.DataLoader(trainset, \n",
    "                                          batch_size=4,\n",
    "                                          shuffle=True)\n",
    "dataiter = iter(trainloader)\n",
    "images, labels = dataiter.next()\n",
    "\n",
    "fig, axes = plt.subplots(1, len(images), figsize=(12,2.5))\n",
    "for idx, image in enumerate(images):\n",
    "    axes[idx].imshow(convert_to_imshow_format(image))\n",
    "    axes[idx].set_title(labels[idx].data.item())\n",
    "    axes[idx].set_xticks([])\n",
    "    axes[idx].set_yticks([])"
   ]
  },
  {
   "cell_type": "markdown",
   "metadata": {
    "slideshow": {
     "slide_type": "slide"
    }
   },
   "source": [
    "## <img src=\"https://img.icons8.com/bubbles/50/000000/fire-element.png\" style=\"height:50px;display:inline\"> Building a CNN-Classifier for SVHN with PyTorch\n",
    "---\n",
    "\n",
    "<img src=\"./assets/tut_conv_cifar_arch.PNG\" style=\"height:200px\">"
   ]
  },
  {
   "cell_type": "code",
   "execution_count": 4,
   "metadata": {
    "slideshow": {
     "slide_type": "subslide"
    }
   },
   "outputs": [],
   "source": [
    "class SvhnCNN(nn.Module):\n",
    "    \"\"\"CNN for the SVHN Datset\"\"\"\n",
    "\n",
    "    def __init__(self):\n",
    "        \"\"\"CNN Builder.\"\"\"\n",
    "        super(SvhnCNN, self).__init__()\n",
    "\n",
    "        self.conv_layer = nn.Sequential(\n",
    "\n",
    "            # Conv Layer block 1\n",
    "            nn.Conv2d(in_channels=3, out_channels=16, kernel_size=3, padding=1),\n",
    "            # What are the dims after this layer? \n",
    "            # How many weights?\n",
    "            nn.BatchNorm2d(16),\n",
    "            nn.ReLU(inplace=True),\n",
    "            nn.Conv2d(in_channels=16, out_channels=32, kernel_size=3, padding=1),\n",
    "            nn.ReLU(inplace=True),\n",
    "            nn.MaxPool2d(kernel_size=2, stride=2),\n",
    "\n",
    "            # Conv Layer block 2\n",
    "            nn.Conv2d(in_channels=32, out_channels=64, kernel_size=3, padding=1),\n",
    "            nn.BatchNorm2d(64),\n",
    "            nn.ReLU(inplace=True),\n",
    "            nn.Conv2d(in_channels=64, out_channels=64, kernel_size=3, padding=1),\n",
    "            nn.ReLU(inplace=True),\n",
    "            nn.MaxPool2d(kernel_size=2, stride=2),\n",
    "            nn.Dropout2d(p=0.05),  # <- Why is this here?\n",
    "\n",
    "            # Modified Conv Layer block 3\n",
    "            nn.Conv2d(in_channels=64, out_channels=128, kernel_size=3, padding=1),\n",
    "            nn.ReLU(inplace=True),\n",
    "            nn.Conv2d(in_channels=128, out_channels=128, kernel_size=3, padding=1),\n",
    "            nn.ReLU(inplace=True),\n",
    "            # As we go deeper - use more channels!\n",
    "        )\n",
    "\n",
    "        self.fc_layer = nn.Sequential(\n",
    "            nn.Dropout(p=0.1),\n",
    "            nn.Linear(8192, 512),  # <- How do we know it's 8192? Why 512 later?\n",
    "            nn.ReLU(inplace=True),\n",
    "            nn.Linear(512, 10)  # <- Why 10 here?\n",
    "        )\n",
    "\n",
    "\n",
    "    def forward(self, x):\n",
    "        \"\"\"Perform forward.\"\"\"\n",
    "        \n",
    "        # conv layers\n",
    "        x = self.conv_layer(x)\n",
    "        \n",
    "        # flatten\n",
    "        x = x.view(x.size(0), -1)\n",
    "        \n",
    "        # fc layer\n",
    "        x = self.fc_layer(x)\n",
    "\n",
    "        return x"
   ]
  },
  {
   "cell_type": "code",
   "execution_count": 5,
   "metadata": {
    "slideshow": {
     "slide_type": "subslide"
    }
   },
   "outputs": [
    {
     "name": "stdout",
     "output_type": "stream",
     "text": [
      "torch.Size([1, 128, 8, 8])\n",
      "torch.Size([1, 8192])\n",
      "num trainable weights:  4482058\n"
     ]
    }
   ],
   "source": [
    "# calculating the output size of the convolutional layers, before the FC layers\n",
    "dummy_input = torch.zeros([1, 3, 32, 32])\n",
    "dummy_model = SvhnCNN()\n",
    "dummy_output = dummy_model.conv_layer(dummy_input)\n",
    "print(dummy_output.shape)\n",
    "dummy_output = dummy_output.view(dummy_output.size(0), -1)\n",
    "print(dummy_output.shape)\n",
    "\n",
    "# calculating the number of trainable weights\n",
    "num_trainable_params = sum([p.numel() for p in dummy_model.parameters() if p.requires_grad])\n",
    "print(\"num trainable weights: \", num_trainable_params)"
   ]
  },
  {
   "cell_type": "markdown",
   "metadata": {
    "slideshow": {
     "slide_type": "slide"
    }
   },
   "source": [
    "## <img src=\"https://img.icons8.com/flat_round/64/000000/presentation.png\" style=\"height:50px;display:inline\"> Training the CNN Model\n",
    "---\n",
    "* So we have the model, but how do we train it to output the correct class of the input image?\n",
    "* As you have probably noticed, the output of the final fully-connected layer is a vector of length 10, which is exactly the number of classes we have!\n",
    "* We mentioned that we want entry $i$ of the final vector to be the probability of the input to be from class $i$.\n",
    "* But how do we force this vector to output probability and not just some numbers?\n",
    "* We consider the final output vector to represent *scores*, which we will normalize to be probabilities using the **Softmax** function."
   ]
  },
  {
   "cell_type": "markdown",
   "metadata": {
    "slideshow": {
     "slide_type": "subslide"
    }
   },
   "source": [
    "### <img src=\"https://img.icons8.com/dusk/64/000000/s.png\" style=\"height:50px;display:inline\"> The Softmax Function\n",
    "---\n",
    "* The Softmax function is defined as: $$ Softmax(x_i) = \\frac{e^{x_i}}{\\sum_{j=1}^M e^{x_j}}, i \\in [1,...,M], x \\in \\mathcal{R}^M  $$\n",
    "* This forces the output vector to sum to 1, just like probabilities.\n",
    "* <img src=\"./assets/tut_conv_softmax.PNG\" style=\"height:150px\">"
   ]
  },
  {
   "cell_type": "markdown",
   "metadata": {
    "slideshow": {
     "slide_type": "slide"
    }
   },
   "source": [
    "### <img src=\"https://img.icons8.com/plasticine/100/000000/unicorn.png\"  style=\"height:50px;display:inline\"> Making Predictions\n",
    "---\n",
    "* OK great, we have an output vector of probabilities, so how we predict the label of the input image?\n",
    "* Simple! Just take the $argmax$: $$ \\hat{y} = Softmax(CNN(x)) $$ $$ c_{pred} = argmax_i (\\hat{y})  $$"
   ]
  },
  {
   "cell_type": "markdown",
   "metadata": {
    "slideshow": {
     "slide_type": "slide"
    }
   },
   "source": [
    "### <img src=\"https://img.icons8.com/dusk/64/000000/bearish.png\" style=\"height:50px;display:inline\"> Loss Function - Cross Entropy \n",
    "---\n",
    "* In order to train the model in an end-to-end fashion, we need to define a loss function which we can minimize using optimization techniques.\n",
    "* Let us assume that our model output (after softmax) is $\\hat{y}$ and the real label (the real class, given to us) is $y$.\n",
    "    * <img src=\"./assets/tut_conv_x_y.PNG\" style=\"height:150px\">\n",
    "* **Insight**: $$ argmax(\\hat{y}) = argmax(y) $$\n",
    "* Ideally, this is what we would want from our model, so what loss function would drive $\\hat{y}$ to be as close as possible to $y$?\n",
    "* As $y$ is a *one-hot vector* and $\\hat{y}$ represents probabilities, the **Cross Entropy** loss function fits right in!"
   ]
  },
  {
   "cell_type": "markdown",
   "metadata": {
    "slideshow": {
     "slide_type": "subslide"
    }
   },
   "source": [
    "* Let $W$ denote the weights of the CNN, and $W^{*}$ the optimal weights.\n",
    "* In this case, the optimal weights are: $$ W^{*} \\leftarrow argmin_{W} \\left(-\\sum_{x, y} 1 \\cdot \\log (p_c) \\right) $$ $$ p_c = \\hat{y}_{c} $$\n",
    "* $c \\in [1,...,M]$ is the correct class, $\\hat{y}_{c}$ is the $c^{th}$ entry in the output vector $\\hat{y}$.\n",
    "* So the **Cross Entropy** loss function is: $$\\mathcal{L} = -\\log (p_c)$$"
   ]
  },
  {
   "cell_type": "markdown",
   "metadata": {
    "slideshow": {
     "slide_type": "subslide"
    }
   },
   "source": [
    "Let's analyze this loss fucntion, which represents how bad we are currently doing:\n",
    "$$ p_c = 0 \\rightarrow \\mathcal{L} = -\\log (0) = \\infty $$\n",
    "$$ p_c = 0.1 \\rightarrow \\mathcal{L} = -\\log (0.1) = 2.3 $$\n",
    "$$ p_c = 0.9 \\rightarrow \\mathcal{L} = -\\log (0.9) = 0.1 $$\n",
    "$$ p_c = 1 \\rightarrow \\mathcal{L} = -\\log (1) = 0 $$\n",
    "\n",
    "**The larger the loss, the worse the prediction**. We want to minimize it!"
   ]
  },
  {
   "cell_type": "markdown",
   "metadata": {
    "slideshow": {
     "slide_type": "slide"
    }
   },
   "source": [
    "### <img src=\"https://img.icons8.com/nolan/64/compress.png\" style=\"height:50px;display:inline\"> Minimizing the Loss Function with Gradient Descent\n",
    "---\n",
    "\n",
    "<img src=\"./assets/tut_conv_gd.gif\" style=\"height:200px\">"
   ]
  },
  {
   "cell_type": "markdown",
   "metadata": {
    "slideshow": {
     "slide_type": "subslide"
    }
   },
   "source": [
    "* In order to perform Gradient Descent, we need to calculate the dervatives with respect to the network's weights.\n",
    "* Due to memory reasons, when the dataset is large, we cannot compute the gradients on the whole dataset, and thus we train in **mini-batches** of the data. The `batch_size` is a *hyper-parameter* which needs to be tuned. Usually the sizes are 32, 64, 128...\n",
    "* In order to propagate the gradients through all of the layers, we need to use the chain rule when calculating the gradients. This is called **backpropagation**."
   ]
  },
  {
   "cell_type": "markdown",
   "metadata": {
    "slideshow": {
     "slide_type": "subslide"
    }
   },
   "source": [
    "### <img src=\"https://img.icons8.com/plasticine/100/000000/serial-tasks.png\" style=\"height:50px;display:inline\"> Backpropagation\n",
    "---\n",
    "* Denote the output of the $k^{th}$ layer as $f(Z^{(k)}) $ and the input to the next layer $Z^{(k+1)}$.\n",
    "* **Forward Pass**: $Z^{(k+1)} = f(Z^{(k)}) $\n",
    "* **Backward Pass**: $\\delta^{(k+1)} = \\frac{\\partial E}{\\partial Z^{(k+1)}}$\n",
    "* Applying the **chain rule** for a single layer: $$ \\frac{\\partial E}{\\partial Z^{(k)}} = \\frac{\\partial E}{\\partial Z^{(k+1)}} \\frac{\\partial Z^{(k+1)}}{\\partial Z^{(k)}} = \\delta^{(k+1)}\\frac{\\partial Z^{(k+1)}}{\\partial Z^{(k)}} = \\delta^{(k+1)}\\frac{\\partial f(Z^{(k)})}{\\partial Z^{(k)}} $$\n",
    "* The **gradient with respect to layer parameters** (if it has any): $$ \\frac{\\partial E}{\\partial W^{(k)}} = \\frac{\\partial E}{\\partial Z^{(k+1)}} \\frac{\\partial Z^{(k+1)}}{\\partial W^{(k)}} = \\delta^{(k+1)} \\frac{\\partial Z^{(k+1)}}{\\partial W^{(k)}}  $$\n"
   ]
  },
  {
   "cell_type": "markdown",
   "metadata": {
    "slideshow": {
     "slide_type": "subslide"
    }
   },
   "source": [
    "<img src=\"./assets/tut_conv_backprop.jpg\" style=\"height:400px\">"
   ]
  },
  {
   "cell_type": "markdown",
   "metadata": {
    "slideshow": {
     "slide_type": "subslide"
    }
   },
   "source": [
    "### <img src=\"https://img.icons8.com/bubbles/64/000000/discount.png\" style=\"height:50px;display:inline\"> Learning Rate\n",
    "---\n",
    "* As we use Gradient Descent, we also have the **learning-rate** *hyper-parameter* which needs to be tuned.\n",
    "* <img src=\"./assets/tut_conv_lr.PNG\" style=\"height:250px\">"
   ]
  },
  {
   "cell_type": "markdown",
   "metadata": {
    "slideshow": {
     "slide_type": "slide"
    }
   },
   "source": [
    "# ------------------------- <img src=\"https://img.icons8.com/color/96/000000/code.png\" style=\"height:50px;display:inline\"> CODE TIME -------------------------"
   ]
  },
  {
   "cell_type": "code",
   "execution_count": 6,
   "metadata": {
    "slideshow": {
     "slide_type": "subslide"
    }
   },
   "outputs": [
    {
     "name": "stdout",
     "output_type": "stream",
     "text": [
      "Using cuda:0\n"
     ]
    }
   ],
   "source": [
    "# time to train our model\n",
    "# hyper-parameters\n",
    "batch_size = 128\n",
    "learning_rate = 1e-4\n",
    "epochs = 20\n",
    "\n",
    "# dataloaders - creating batches and shuffling the data\n",
    "trainloader = torch.utils.data.DataLoader(\n",
    "    trainset, batch_size=batch_size, shuffle=True, num_workers=2)\n",
    "testloader = torch.utils.data.DataLoader(\n",
    "    testset, batch_size=batch_size, shuffle=False, num_workers=2)\n",
    "\n",
    "# device - cpu or gpu?\n",
    "device = torch.device(\"cuda:0\" if torch.cuda.is_available() else \"cpu\")\n",
    "print(f'Using {device}')\n",
    "\n",
    "# loss criterion\n",
    "criterion = nn.CrossEntropyLoss()\n",
    "\n",
    "# build our model and send it to the device\n",
    "model = SvhnCNN().to(device) # no need for parameters as we alredy defined them in the class\n",
    "\n",
    "# optimizer - SGD, Adam, RMSProp...\n",
    "optimizer = torch.optim.Adam(model.parameters(), lr=learning_rate)"
   ]
  },
  {
   "cell_type": "code",
   "execution_count": 7,
   "metadata": {
    "slideshow": {
     "slide_type": "subslide"
    }
   },
   "outputs": [],
   "source": [
    "# function to calcualte accuracy of the model\n",
    "def calculate_accuracy(model, dataloader, device):\n",
    "    model.eval() # put in evaluation mode\n",
    "    total_correct = 0\n",
    "    total_images = 0\n",
    "    confusion_matrix = np.zeros([10,10], int)\n",
    "    with torch.no_grad():\n",
    "        for data in dataloader:\n",
    "            images, labels = data\n",
    "            images = images.to(device)\n",
    "            labels = labels.to(device)\n",
    "            outputs = model(images)\n",
    "            _, predicted = torch.max(outputs.data, 1)\n",
    "            total_images += labels.size(0)\n",
    "            total_correct += (predicted == labels).sum().item()\n",
    "            for i, l in enumerate(labels):\n",
    "                confusion_matrix[l.item(), predicted[i].item()] += 1 \n",
    "\n",
    "    model_accuracy = total_correct / total_images * 100\n",
    "    return model_accuracy, confusion_matrix"
   ]
  },
  {
   "cell_type": "code",
   "execution_count": 8,
   "metadata": {
    "slideshow": {
     "slide_type": "subslide"
    }
   },
   "outputs": [
    {
     "name": "stdout",
     "output_type": "stream",
     "text": [
      "Epoch: 1 | Loss: 1.5720 | Training accuracy: 68.534% | Test accuracy: 79.917% | Epoch Time: 53.50 secs\n",
      "Epoch: 2 | Loss: 0.7850 | Training accuracy: 80.054% | Test accuracy: 83.985% | Epoch Time: 51.86 secs\n",
      "Epoch: 3 | Loss: 0.5713 | Training accuracy: 84.796% | Test accuracy: 87.223% | Epoch Time: 53.62 secs\n",
      "Epoch: 4 | Loss: 0.4767 | Training accuracy: 86.824% | Test accuracy: 89.144% | Epoch Time: 51.92 secs\n",
      "Epoch: 5 | Loss: 0.4258 | Training accuracy: 88.057% | Test accuracy: 90.466% | Epoch Time: 52.28 secs\n",
      "Epoch: 6 | Loss: 0.3846 | Training accuracy: 89.389% | Test accuracy: 90.692% | Epoch Time: 51.82 secs\n",
      "Epoch: 7 | Loss: 0.3563 | Training accuracy: 90.345% | Test accuracy: 91.526% | Epoch Time: 51.99 secs\n",
      "Epoch: 8 | Loss: 0.3341 | Training accuracy: 90.622% | Test accuracy: 91.749% | Epoch Time: 52.08 secs\n",
      "Epoch: 9 | Loss: 0.3122 | Training accuracy: 91.348% | Test accuracy: 92.187% | Epoch Time: 57.04 secs\n",
      "Epoch: 10 | Loss: 0.2952 | Training accuracy: 92.010% | Test accuracy: 92.947% | Epoch Time: 53.61 secs\n",
      "Epoch: 11 | Loss: 0.2821 | Training accuracy: 92.522% | Test accuracy: 93.035% | Epoch Time: 53.78 secs\n",
      "Epoch: 12 | Loss: 0.2713 | Training accuracy: 92.615% | Test accuracy: 93.278% | Epoch Time: 51.48 secs\n",
      "Epoch: 13 | Loss: 0.2588 | Training accuracy: 92.929% | Test accuracy: 93.423% | Epoch Time: 57.92 secs\n",
      "Epoch: 14 | Loss: 0.2499 | Training accuracy: 93.164% | Test accuracy: 93.696% | Epoch Time: 57.58 secs\n",
      "Epoch: 15 | Loss: 0.2427 | Training accuracy: 93.815% | Test accuracy: 94.015% | Epoch Time: 56.19 secs\n",
      "Epoch: 16 | Loss: 0.2354 | Training accuracy: 93.855% | Test accuracy: 94.100% | Epoch Time: 59.33 secs\n",
      "Epoch: 17 | Loss: 0.2279 | Training accuracy: 93.700% | Test accuracy: 93.954% | Epoch Time: 60.45 secs\n",
      "Epoch: 18 | Loss: 0.2210 | Training accuracy: 94.204% | Test accuracy: 94.534% | Epoch Time: 58.28 secs\n",
      "Epoch: 19 | Loss: 0.2144 | Training accuracy: 94.555% | Test accuracy: 94.564% | Epoch Time: 58.75 secs\n",
      "Epoch: 20 | Loss: 0.2074 | Training accuracy: 94.646% | Test accuracy: 94.403% | Epoch Time: 57.37 secs\n",
      "==> Saving model ...\n",
      "==> Finished Training ...\n"
     ]
    }
   ],
   "source": [
    "# training loop\n",
    "for epoch in range(1, epochs + 1):\n",
    "    model.train()  # put in training mode\n",
    "    running_loss = 0.0\n",
    "    epoch_time = time.time()\n",
    "    for i, data in enumerate(trainloader, 0):\n",
    "        # get the inputs\n",
    "        inputs, labels = data\n",
    "        # send them to device\n",
    "        inputs = inputs.to(device)\n",
    "        labels = labels.to(device)\n",
    "\n",
    "        # forward + backward + optimize\n",
    "        outputs = model(inputs)  # forward pass\n",
    "        loss = criterion(outputs, labels)  # calculate the loss\n",
    "        # always the same 3 steps\n",
    "        optimizer.zero_grad()  # zero the parameter gradients\n",
    "        loss.backward()  # backpropagation\n",
    "        optimizer.step()  # update parameters\n",
    "\n",
    "        # print statistics\n",
    "        running_loss += loss.data.item()\n",
    "\n",
    "    # Normalizing the loss by the total number of train batches\n",
    "    running_loss /= len(trainloader)\n",
    "\n",
    "    # Calculate training/test set accuracy of the existing model\n",
    "    train_accuracy, _ = calculate_accuracy(model, trainloader, device)\n",
    "    test_accuracy, _ = calculate_accuracy(model, testloader, device)\n",
    "\n",
    "    log = \"Epoch: {} | Loss: {:.4f} | Training accuracy: {:.3f}% | Test accuracy: {:.3f}% | \".format(epoch, running_loss, train_accuracy, test_accuracy)\n",
    "    epoch_time = time.time() - epoch_time\n",
    "    log += \"Epoch Time: {:.2f} secs\".format(epoch_time)\n",
    "    print(log)\n",
    "    \n",
    "    # save model\n",
    "    if epoch % 20 == 0:\n",
    "        print('==> Saving model ...')\n",
    "        state = {\n",
    "            'net': model.state_dict(),\n",
    "            'epoch': epoch,\n",
    "        }\n",
    "        if not os.path.isdir('checkpoints'):\n",
    "            os.mkdir('checkpoints')\n",
    "        torch.save(state, './checkpoints/svhn_cnn_ckpt.pth')\n",
    "\n",
    "print('==> Finished Training ...')"
   ]
  },
  {
   "cell_type": "code",
   "execution_count": 9,
   "metadata": {
    "slideshow": {
     "slide_type": "subslide"
    }
   },
   "outputs": [
    {
     "name": "stdout",
     "output_type": "stream",
     "text": [
      "test accuracy: 94.403%\n"
     ]
    },
    {
     "data": {
      "image/png": "[encoded data removed]",
      "text/plain": [
       "<Figure size 576x432 with 1 Axes>"
      ]
     },
     "metadata": {
      "needs_background": "light"
     },
     "output_type": "display_data"
    }
   ],
   "source": [
    "# load model, calculate accuracy and confusion matrix\n",
    "model = SvhnCNN().to(device)\n",
    "state = torch.load('./checkpoints/svhn_cnn_ckpt.pth', map_location=device)\n",
    "model.load_state_dict(state['net'])\n",
    "\n",
    "test_accuracy, confusion_matrix = calculate_accuracy(model, testloader, device)\n",
    "print(\"test accuracy: {:.3f}%\".format(test_accuracy))\n",
    "\n",
    "# plot confusion matrix\n",
    "fig, ax = plt.subplots(1,1,figsize=(8,6))\n",
    "ax.matshow(confusion_matrix, aspect='auto', vmin=0, vmax=1000, cmap=plt.get_cmap('Blues'))\n",
    "plt.ylabel('Actual Category')\n",
    "plt.yticks(range(10))\n",
    "plt.xlabel('Predicted Category')\n",
    "plt.xticks(range(10))\n",
    "plt.show()"
   ]
  },
  {
   "cell_type": "code",
   "execution_count": 10,
   "metadata": {
    "scrolled": false,
    "slideshow": {
     "slide_type": "subslide"
    }
   },
   "outputs": [
    {
     "name": "stdout",
     "output_type": "stream",
     "text": [
      "Sequential(\n",
      "  (0): Conv2d(3, 16, kernel_size=(3, 3), stride=(1, 1), padding=(1, 1))\n",
      "  (1): BatchNorm2d(16, eps=1e-05, momentum=0.1, affine=True, track_running_stats=True)\n",
      "  (2): ReLU(inplace=True)\n",
      "  (3): Conv2d(16, 32, kernel_size=(3, 3), stride=(1, 1), padding=(1, 1))\n",
      "  (4): ReLU(inplace=True)\n",
      "  (5): MaxPool2d(kernel_size=2, stride=2, padding=0, dilation=1, ceil_mode=False)\n",
      "  (6): Conv2d(32, 64, kernel_size=(3, 3), stride=(1, 1), padding=(1, 1))\n",
      "  (7): BatchNorm2d(64, eps=1e-05, momentum=0.1, affine=True, track_running_stats=True)\n",
      "  (8): ReLU(inplace=True)\n",
      "  (9): Conv2d(64, 64, kernel_size=(3, 3), stride=(1, 1), padding=(1, 1))\n",
      "  (10): ReLU(inplace=True)\n",
      "  (11): MaxPool2d(kernel_size=2, stride=2, padding=0, dilation=1, ceil_mode=False)\n",
      "  (12): Dropout2d(p=0.05, inplace=False)\n",
      "  (13): Conv2d(64, 128, kernel_size=(3, 3), stride=(1, 1), padding=(1, 1))\n",
      "  (14): ReLU(inplace=True)\n",
      "  (15): Conv2d(128, 128, kernel_size=(3, 3), stride=(1, 1), padding=(1, 1))\n",
      "  (16): ReLU(inplace=True)\n",
      ")\n"
     ]
    },
    {
     "data": {
      "image/png": "[encoded data removed]",
      "text/plain": [
       "<Figure size 864x1152 with 16 Axes>"
      ]
     },
     "metadata": {
      "needs_background": "light"
     },
     "output_type": "display_data"
    }
   ],
   "source": [
    "# visualize filters - more methods in the appendix to this tutorial\n",
    "# observe available layers, in our case, the stacked layers are called \"conv_layer\"\n",
    "print(model.conv_layer)\n",
    "# extracting the model features at the particular layer number\n",
    "layer = model.conv_layer[0]  # to plot other layers, see the appendix tutorial\n",
    "# get the weights\n",
    "weight_tensor = layer.weight.data.cpu()\n",
    "\n",
    "# get the number of kernals\n",
    "num_kernels = weight_tensor.shape[0]    \n",
    "\n",
    "#define number of columns for subplots\n",
    "num_cols = 12\n",
    "# rows = num of kernels\n",
    "num_rows = num_kernels\n",
    "\n",
    "#set the figure size\n",
    "fig = plt.figure(figsize=(num_cols, num_rows))\n",
    "\n",
    "# looping through all the kernels\n",
    "for i in range(weight_tensor.shape[0]):\n",
    "    ax1 = fig.add_subplot(num_rows, num_cols, i+1)\n",
    "\n",
    "    #for each kernel, we convert the tensor to numpy \n",
    "    npimg = np.array(weight_tensor[i].numpy(), np.float32)\n",
    "    #standardize the numpy image\n",
    "    npimg = (npimg - np.mean(npimg)) / np.std(npimg)\n",
    "    npimg = np.minimum(1, np.maximum(0, (npimg + 0.5)))\n",
    "    npimg = npimg.transpose((1, 2, 0))\n",
    "    ax1.imshow(npimg)\n",
    "    ax1.axis('off')\n",
    "    ax1.set_title(str(i))\n",
    "    ax1.set_xticklabels([])\n",
    "    ax1.set_yticklabels([])\n",
    "\n",
    "plt.tight_layout()"
   ]
  },
  {
   "cell_type": "markdown",
   "metadata": {
    "slideshow": {
     "slide_type": "slide"
    }
   },
   "source": [
    "## <img src=\"https://img.icons8.com/bubbles/50/000000/book-shelf.png\" style=\"height:50px;display:inline\"> The CNN Story\n",
    "---\n",
    "\n",
    "* **1996** - Lenet-5 - core of CNR check reading system, used by US banks.\n",
    "<img src=\"./assets/tut_conv_lenet5.gif\" style=\"height:200px\">"
   ]
  },
  {
   "cell_type": "markdown",
   "metadata": {
    "slideshow": {
     "slide_type": "subslide"
    }
   },
   "source": [
    "* **2012** - ILSVRC - Imagenet Large Scale Visual Recognition Challenge\n",
    "    * Imagenet data base: 14M labeled images, 20K categories.\n",
    "    * <img src=\"./assets/tut_conv_imagenet.PNG\" style=\"height:300px\">"
   ]
  },
  {
   "cell_type": "markdown",
   "metadata": {
    "slideshow": {
     "slide_type": "subslide"
    }
   },
   "source": [
    "* **2012** - AlexNet wins the challenge by a significant margin!\n",
    "    * <img src=\"./assets/tut_conv_ilv_12.PNG\" style=\"height:300px\">"
   ]
  },
  {
   "cell_type": "markdown",
   "metadata": {
    "slideshow": {
     "slide_type": "subslide"
    }
   },
   "source": [
    "* **2013** - thanks to deep CNNs, the results only keep improving.\n",
    "    * <img src=\"./assets/tut_conv_ilv_13.PNG\" style=\"height:300px\">"
   ]
  },
  {
   "cell_type": "markdown",
   "metadata": {
    "slideshow": {
     "slide_type": "subslide"
    }
   },
   "source": [
    "* **2 Years ago**\n",
    "    * <img src=\"./assets/tut_conv_ilv_20.PNG\" style=\"height:300px\">\n",
    "* **Today** - <a href=\"https://paperswithcode.com/sota/image-classification-on-imagenet\">Link</a>\n",
    "    * <img src=\"./assets/tut_conv_ilv_22.PNG\" style=\"height:350px\">"
   ]
  },
  {
   "cell_type": "markdown",
   "metadata": {
    "slideshow": {
     "slide_type": "slide"
    }
   },
   "source": [
    "## <img src=\"https://img.icons8.com/clouds/100/000000/lightning-bolt.png\" style=\"height:50px;display:inline\"> CNNs Applications in Computer Vision\n",
    "---\n",
    "* **Object Detection**\n",
    "    * <img src=\"./assets/tut_conv_obj_det.PNG\" style=\"height:200px\">\n",
    "    * <a href=\"https://medium.com/better-programming/real-time-object-detection-on-gpus-in-10-minutes-6e8c9b857bb3\"> Source</a>"
   ]
  },
  {
   "cell_type": "markdown",
   "metadata": {
    "slideshow": {
     "slide_type": "subslide"
    }
   },
   "source": [
    "* **Semantic Segmentation**\n",
    "    * <img src=\"./assets/tut_conv_segnet.png\" style=\"height:200px\">\n",
    "    * <a href=\"https://missinglink.ai/guides/computer-vision/image-segmentation-deep-learning-methods-applications/\">Source</a>"
   ]
  },
  {
   "cell_type": "markdown",
   "metadata": {
    "slideshow": {
     "slide_type": "subslide"
    }
   },
   "source": [
    "* **Super Resolution**\n",
    "    * <img src=\"./assets/tut_conv_superres.PNG\" style=\"height:300px\">\n",
    "    * <a href=\"https://arxiv.org/pdf/1609.04802.pdf\">Source</a>"
   ]
  },
  {
   "cell_type": "markdown",
   "metadata": {
    "slideshow": {
     "slide_type": "subslide"
    }
   },
   "source": [
    "* **Style Transfer**\n",
    "    * <img src=\"./assets/tut_conv_style_trans.jpeg\" style=\"height:300px\">\n",
    "    * <a href=\"https://towardsdatascience.com/light-on-math-machine-learning-intuitive-guide-to-neural-style-transfer-ef88e46697ee\">Source</a>"
   ]
  },
  {
   "cell_type": "markdown",
   "metadata": {
    "slideshow": {
     "slide_type": "subslide"
    }
   },
   "source": [
    "* **Image Editing**\n",
    "    * <img src=\"./assets/tut_conv_image_edit.jpg\" style=\"height:300px\">\n",
    "    * <a href=\"http://people.csail.mit.edu/junyanz/projects/gvm/\">Source</a>"
   ]
  },
  {
   "cell_type": "markdown",
   "metadata": {
    "slideshow": {
     "slide_type": "subslide"
    }
   },
   "source": [
    "* **Image Generation**\n",
    "    * StyleGAN V2 - <a href=\"https://thispersondoesnotexist.com/\">thispersondoesnotexist.com</a>"
   ]
  },
  {
   "cell_type": "markdown",
   "metadata": {
    "slideshow": {
     "slide_type": "subslide"
    }
   },
   "source": [
    "* **Multi-Signals**\n",
    "    * Synthesizing Obama: Learning Lip Sync from Audio\n",
    "    * <img src=\"./assets/tut_conv_obama.png\" style=\"height:300px\">\n",
    "    * <a href=\"http://grail.cs.washington.edu/projects/AudioToObama/\">Source</a>"
   ]
  },
  {
   "cell_type": "markdown",
   "metadata": {
    "slideshow": {
     "slide_type": "slide"
    }
   },
   "source": [
    "## <img src=\"https://img.icons8.com/cute-clipart/64/000000/easter-egg.png\" style=\"height:50px;display:inline\"> Are CNNs the Holy Grail? The Problem with CNNs\n",
    "---\n",
    "#### Deep NNs are sensitive to adversarial attacks.\n",
    "* For example: consider the following image, where on the left, we have an image of a pig that is correctly classified by a state-of-the-art convolutional neural network. \n",
    "* After perturbing the image slightly (every pixel is in the range [0, 1] and changed by at most 0.005), the network now returns class “airliner” with high confidence.\n",
    "    \n",
    "<img src=\"./assets/tut_conv_pig.png\" style=\"height:200px\">\n",
    "\n",
    "<a href=\"http://gradientscience.org/intro_adversarial/\">Image Source</a>"
   ]
  },
  {
   "cell_type": "markdown",
   "metadata": {
    "slideshow": {
     "slide_type": "subslide"
    }
   },
   "source": [
    "#### Recognition algorithms generalize poorly to new environments\n",
    "\n",
    "<img src=\"./assets/tut_conv_cow.PNG\" style=\"height:200px\">\n",
    "\n",
    "<a href=\"https://arxiv.org/pdf/1807.04975.pdf\">Recognition in Terra Incognita (Beery et al., 2018)</a>"
   ]
  },
  {
   "cell_type": "markdown",
   "metadata": {
    "slideshow": {
     "slide_type": "subslide"
    }
   },
   "source": [
    "#### Neural Networks tend to exhibit undesirable biases\n",
    "<img src=\"./assets/tut_conv_fairness.PNG\" style=\"height:300px\">\n",
    "\n",
    "* The reasons why the model learns these biases are unclear. \n",
    "    * One hypothesis is that despite the balanced distribution of races in pictures labeled basketball, black persons are more represented in this class in comparison to the other classes\n",
    "\n",
    "<a href=\"https://arxiv.org/abs/1711.11443\">ConvNets and ImageNet Beyond Accuracy: Understanding Mistakes and Uncovering Biases (Stock and Cisse, 2018)</a>"
   ]
  },
  {
   "cell_type": "markdown",
   "metadata": {
    "slideshow": {
     "slide_type": "slide"
    }
   },
   "source": [
    "### <img src=\"https://img.icons8.com/bubbles/50/000000/video-playlist.png\" style=\"height:50px;display:inline\"> Recommended Videos\n",
    "---\n",
    "#### <img src=\"https://img.icons8.com/cute-clipart/64/000000/warning-shield.png\" style=\"height:30px;display:inline\"> Warning!\n",
    "* These videos do not replace the lectures and tutorials.\n",
    "* Please use these to get a better understanding of the material, and not as an alternative to the written material.\n",
    "\n",
    "#### Video By Subject\n",
    "* Convolutional Neural Networks -  <a href=\"https://www.youtube.com/watch?v=iaSUYvmCekI\"> Convolutional Neural Networks | MIT 6.S191 </a>\n",
    "    * A previous version of this lecture - <a href=\"https://www.youtube.com/watch?v=H-HVZJ7kGI0\"> Convolutional Neural Networks | MIT 6.S191 </a>\n",
    "* Deep Neural Networks with PyTorch - <a href=\"https://www.youtube.com/watch?v=_H3aw6wkCv0&t\"> Stefan Otte: Deep Neural Networks with PyTorch | PyData Berlin 2018 </a>"
   ]
  },
  {
   "cell_type": "markdown",
   "metadata": {
    "slideshow": {
     "slide_type": "skip"
    }
   },
   "source": [
    "## <img src=\"https://img.icons8.com/dusk/64/000000/prize.png\" style=\"height:50px;display:inline\"> Credits\n",
    "---\n",
    "* EE 046746 Spring 21 - <a href=\"https://taldatech.github.io/\">Tal Daniel</a> \n",
    "* Some slides from CS131 and CS231n (Stanford)\n",
    "* Deep Learning with Pytorch on CIFAR10 Dataset - <a href=\"https://www.stefanfiott.com/machine-learning/cifar-10-classifier-using-cnn-in-pytorch/\">Zhenye's Blog</a>\n",
    "* CIFAR-10 Classifier Using CNN in PyTorch - <a href=\"https://www.stefanfiott.com/machine-learning/cifar-10-classifier-using-cnn-in-pytorch/\">Stefan Fiott</a>\n",
    "* Icons from <a href=\"https://icons8.com/\">Icon8.com</a> - https://icons8.com"
   ]
  }
 ],
 "metadata": {
  "celltoolbar": "Slideshow",
  "kernelspec": {
   "display_name": "Python 3",
   "language": "python",
   "name": "python3"
  },
  "language_info": {
   "codemirror_mode": {
    "name": "ipython",
    "version": 3
   },
   "file_extension": ".py",
   "mimetype": "text/x-python",
   "name": "python",
   "nbconvert_exporter": "python",
   "pygments_lexer": "ipython3",
   "version": "3.6.15"
  },
  "rise": {
   "scroll": true
  }
 },
 "nbformat": 4,
 "nbformat_minor": 2
}
